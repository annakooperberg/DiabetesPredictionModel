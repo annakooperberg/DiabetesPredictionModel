{
 "cells": [
  {
   "cell_type": "code",
   "execution_count": 53,
   "metadata": {},
   "outputs": [],
   "source": [
    "import matplotlib.pyplot as plt\n",
    "import networkx as nx\n",
    "import numpy as np\n",
    "import pandas as pd\n",
    "from scipy import stats\n",
    "import threading"
   ]
  },
  {
   "cell_type": "code",
   "execution_count": 2,
   "metadata": {},
   "outputs": [],
   "source": [
    "filename = 'dataset_diabetes/diabetic_data.csv'\n",
    "data = pd.read_csv(filename).to_numpy()"
   ]
  },
  {
   "cell_type": "code",
   "execution_count": 3,
   "metadata": {},
   "outputs": [
    {
     "name": "stdout",
     "output_type": "stream",
     "text": [
      "16773\n"
     ]
    }
   ],
   "source": [
    "# Count number of patients with more than one hospital stay\n",
    "patient_nums = {}\n",
    "duplicate_count = 0\n",
    "for i in data:\n",
    "    if i[1] in patient_nums:\n",
    "        patient_nums[i[1]] += 1\n",
    "    else:\n",
    "        patient_nums[i[1]] = 1\n",
    "for i in patient_nums:\n",
    "    if patient_nums[i] > 1:\n",
    "        duplicate_count += 1\n",
    "print(duplicate_count)"
   ]
  },
  {
   "cell_type": "code",
   "execution_count": 4,
   "metadata": {},
   "outputs": [],
   "source": [
    "# Count steady patients for each medication\n",
    "num_medications = 24\n",
    "ind = 24\n",
    "ids = []\n",
    "medications = [[] for i in range(num_medications)]\n",
    "for i in data:\n",
    "    ids.append(i[0])\n",
    "    for j in range(num_medications):\n",
    "        if i[j + ind] == 'Steady':\n",
    "            medications[j].append(i[0])"
   ]
  },
  {
   "cell_type": "code",
   "execution_count": 5,
   "metadata": {},
   "outputs": [],
   "source": [
    "# ids to indices\n",
    "from_id = {}\n",
    "for i in range(len(ids)):\n",
    "    from_id[ids[i]] = i"
   ]
  },
  {
   "cell_type": "code",
   "execution_count": null,
   "metadata": {},
   "outputs": [],
   "source": [
    "patients = np.zeros((len(ids), len(ids)))\n",
    "for i in medications:\n",
    "    for j in range(len(i)):\n",
    "        for k in range(j + 1, len(i)):\n",
    "            patients[from_id[i[j]], from_id[i[k]]] += 1\n",
    "            patients[from_id[i[k]], from_id[i[j]]] += 1"
   ]
  },
  {
   "cell_type": "code",
   "execution_count": 6,
   "metadata": {},
   "outputs": [],
   "source": [
    "# create network of medical specialties\n",
    "meds = set()\n",
    "for i in data:\n",
    "    meds.add(i[11])\n",
    "meds.remove('?')\n",
    "nums_to_meds = list(meds)\n",
    "meds_to_nums = {}\n",
    "for ind, m in enumerate(nums_to_meds):\n",
    "    meds_to_nums[m] = ind\n",
    "num_meds = len(nums_to_meds)"
   ]
  },
  {
   "cell_type": "code",
   "execution_count": 40,
   "metadata": {},
   "outputs": [],
   "source": [
    "adjacency = np.zeros((num_meds, num_meds))\n",
    "counts = {}\n",
    "for k in range(100000):\n",
    "    ind = np.random.randint(0, len(data) - 1)\n",
    "    i = data[ind]\n",
    "    ind2 = np.random.randint(0, len(data) - 1)\n",
    "    j = data[ind2]\n",
    "    if (i[11] != '?') and (j[11] != '?') and (i[11] != j[11]):\n",
    "        a = meds_to_nums[i[11]]\n",
    "        b = meds_to_nums[j[11]]\n",
    "        if i[2] == j[2]:\n",
    "            adjacency[a, b] += 1\n",
    "            adjacency[b, a] += 1\n",
    "            if a in counts:\n",
    "                counts[a] += 1\n",
    "            else:\n",
    "                counts[a] = 1\n",
    "            if b in counts:\n",
    "                counts[b] += 1\n",
    "            else:\n",
    "                counts[b] = 1\n",
    "        if i[3] == j[3]:\n",
    "            adjacency[a, b] += 1\n",
    "            adjacency[b, a] += 1\n",
    "            if a in counts:\n",
    "                counts[a] += 1\n",
    "            else:\n",
    "                counts[a] = 1\n",
    "            if b in counts:\n",
    "                counts[b] += 1\n",
    "            else:\n",
    "                counts[b] = 1\n",
    "adjacency /= np.mean(adjacency)"
   ]
  },
  {
   "cell_type": "code",
   "execution_count": 43,
   "metadata": {},
   "outputs": [],
   "source": [
    "for i in range(len(adjacency)):\n",
    "    try:\n",
    "        adjacency[i,:] /= counts[i]\n",
    "    except:\n",
    "        pass\n",
    "    try:\n",
    "        adjacency[:,i] /= counts[i]\n",
    "    except:\n",
    "        pass"
   ]
  },
  {
   "cell_type": "code",
   "execution_count": 48,
   "metadata": {},
   "outputs": [],
   "source": [
    "graph = nx.from_numpy_matrix(adjacency)"
   ]
  },
  {
   "cell_type": "code",
   "execution_count": 49,
   "metadata": {},
   "outputs": [
    {
     "name": "stdout",
     "output_type": "stream",
     "text": [
      "InternalMedicine\n",
      "Emergency/Trauma\n",
      "Cardiology\n",
      "Family/GeneralPractice\n",
      "Surgery-General\n"
     ]
    }
   ],
   "source": [
    "# Eigenvector centrality\n",
    "eigenvector = nx.eigenvector_centrality(graph)\n",
    "e2 = []\n",
    "for i in eigenvector:\n",
    "    e2.append((i, eigenvector[i]))\n",
    "e2.sort(key = lambda x: x[1], reverse = True)\n",
    "for i in range(5):\n",
    "    print(nums_to_meds[e2[i][0]])"
   ]
  },
  {
   "cell_type": "code",
   "execution_count": 60,
   "metadata": {
    "collapsed": true
   },
   "outputs": [
    {
     "name": "stdout",
     "output_type": "stream",
     "text": [
      "thread from 0 to 508 starting\n",
      "thread from 508 to 1016 starting\n",
      "thread from 1016 to 1524 starting\n",
      "thread from 1524 to 2032 starting\n",
      "thread from 2032 to 2540 starting\n",
      "thread from 2540 to 3048 starting\n",
      "thread from 3048 to 3556 starting\n",
      "thread from 3556 to 4064 startingthread from 4064 to 4572 starting\n",
      "\n",
      "thread from 4572 to 5080 starting\n",
      "thread from 5080 to 5588 starting\n",
      "thread from 5588 to 6096 starting\n",
      "thread from 6096 to 6604 startingthread from 6604 to 7112 starting\n",
      "thread from 7112 to 7620 starting\n",
      "thread from 7620 to 8128 starting\n",
      "\n",
      "thread from 8128 to 8636 starting\n",
      "thread from 8636 to 9144 starting\n",
      "thread from 9144 to 9652 starting\n",
      "thread from 9652 to 10160 starting\n",
      "thread from 10160 to 10668 starting\n",
      "thread from 10668 to 11176 starting\n",
      "thread from 11176 to 11684 starting\n",
      "thread from 11684 to 12192 starting\n",
      "thread from 12192 to 12700 starting\n",
      "thread from 12700 to 13208 starting\n",
      "thread from 13208 to 13716 startingthread from 13716 to 14224 starting\n",
      "\n",
      "thread from 14224 to 14732 starting\n",
      "thread from 14732 to 15240 starting\n",
      "thread from 15240 to 15748 starting\n",
      "thread from 15748 to 16256 starting\n",
      "thread from 16256 to 16764 starting\n",
      "thread from 16764 to 17272 starting\n",
      "thread from 17272 to 17780 starting\n",
      "thread from 17780 to 18288 starting\n",
      "thread from 18288 to 18796 starting\n",
      "thread from 18796 to 19304 startingthread from 19304 to 19812 starting\n",
      "\n",
      "thread from 19812 to 20320 starting\n",
      "thread from 20320 to 20828 starting\n",
      "thread from 20828 to 21336 starting\n",
      "thread from 21336 to 21844 starting\n",
      "thread from 21844 to 22352 starting\n",
      "thread from 22352 to 22860 starting\n",
      "thread from 22860 to 23368 starting\n",
      "thread from 23368 to 23876 starting\n",
      "thread from 23876 to 24384 starting\n",
      "thread from 24384 to 24892 starting\n",
      "thread from 24892 to 25400 starting\n",
      "thread from 25400 to 25908 starting\n",
      "thread from 25908 to 26416 starting\n",
      "thread from 26416 to 26924 starting\n",
      "thread from 26924 to 27432 starting\n",
      "thread from 27432 to 27940 starting\n",
      "thread from 27940 to 28448 starting\n",
      "thread from 28448 to 28956 starting\n",
      "thread from 28956 to 29464 starting\n",
      "thread from 29464 to 29972 starting\n",
      "thread from 29972 to 30480 starting\n",
      "thread from 30480 to 30988 starting\n",
      "thread from 30988 to 31496 starting\n",
      "thread from 31496 to 32004 starting\n",
      "thread from 32004 to 32512 starting\n",
      "thread from 32512 to 33020 starting\n",
      "thread from 33020 to 33528 starting\n",
      "thread from 33528 to 34036 starting\n",
      "thread from 34036 to 34544 starting\n",
      "thread from 34544 to 35052 starting\n",
      "thread from 35052 to 35560 starting\n",
      "thread from 35560 to 36068 starting\n",
      "thread from 36068 to 36576 startingthread from 36576 to 37084 starting\n",
      "\n",
      "thread from 37084 to 37592 starting\n",
      "thread from 37592 to 38100 startingthread from 38100 to 38608 starting\n",
      "\n",
      "thread from 38608 to 39116 starting\n",
      "thread from 39116 to 39624 starting\n",
      "thread from 39624 to 40132 starting\n",
      "thread from 40132 to 40640 starting\n",
      "thread from 40640 to 41148 starting\n",
      "thread from 41148 to 41656 starting\n",
      "thread from 41656 to 42164 starting\n",
      "thread from 42164 to 42672 starting\n",
      "thread from 42672 to 43180 starting\n",
      "thread from 43180 to 43688 starting\n",
      "thread from 43688 to 44196 starting\n",
      "thread from 44196 to 44704 starting\n",
      "thread from 44704 to 45212 startingthread from 45212 to 45720 starting\n",
      "thread from 45720 to 46228 starting\n",
      "thread from 46228 to 46736 starting\n",
      "\n",
      "thread from 46736 to 47244 starting\n",
      "thread from 47244 to 47752 starting\n",
      "thread from 47752 to 48260 starting\n",
      "thread from 48260 to 48768 starting\n",
      "thread from 48768 to 49276 starting\n",
      "thread from 49276 to 49784 starting\n",
      "thread from 49784 to 50292 starting\n",
      "thread from 50292 to 50800 starting\n",
      "thread from 50800 to 51308 startingthread from 51308 to 51816 startingthread from 51816 to 52324 startingthread from 52324 to 52832 startingthread from 52832 to 53340 startingthread from 53340 to 53848 startingthread from 53848 to 54356 startingthread from 54356 to 54864 startingthread from 54864 to 55372 startingthread from 55372 to 55880 startingthread from 55880 to 56388 startingthread from 56388 to 56896 startingthread from 56896 to 57404 startingthread from 57404 to 57912 startingthread from 57912 to 58420 startingthread from 58420 to 58928 startingthread from 58928 to 59436 startingthread from 59436 to 59944 startingthread from 59944 to 60452 startingthread from 60452 to 60960 startingthread from 60960 to 61468 startingthread from 61468 to 61976 startingthread from 61976 to 62484 startingthread from 62484 to 62992 startingthread from 62992 to 63500 startingthread from 63500 to 64008 startingthread from 64008 to 64516 startingthread from 64516 to 65024 startingthread from 65024 to 65532 startingthread from 65532 to 66040 startingthread from 66040 to 66548 startingthread from 66548 to 67056 startingthread from 67056 to 67564 startingthread from 67564 to 68072 startingthread from 68072 to 68580 startingthread from 68580 to 69088 startingthread from 69088 to 69596 startingthread from 69596 to 70104 startingthread from 70104 to 70612 startingthread from 70612 to 71120 startingthread from 71120 to 71628 startingthread from 71628 to 72136 startingthread from 72136 to 72644 startingthread from 72644 to 73152 startingthread from 73152 to 73660 startingthread from 73660 to 74168 startingthread from 74168 to 74676 startingthread from 74676 to 75184 startingthread from 75184 to 75692 startingthread from 75692 to 76200 startingthread from 76200 to 76708 startingthread from 76708 to 77216 startingthread from 77216 to 77724 startingthread from 77724 to 78232 startingthread from 78232 to 78740 startingthread from 78740 to 79248 startingthread from 79248 to 79756 startingthread from 79756 to 80264 startingthread from 80264 to 80772 startingthread from 80772 to 81280 startingthread from 81280 to 81788 startingthread from 81788 to 82296 startingthread from 82296 to 82804 startingthread from 82804 to 83312 startingthread from 83312 to 83820 startingthread from 83820 to 84328 startingthread from 84328 to 84836 startingthread from 84836 to 85344 startingthread from 85344 to 85852 startingthread from 85852 to 86360 startingthread from 86360 to 86868 startingthread from 86868 to 87376 startingthread from 87376 to 87884 startingthread from 87884 to 88392 startingthread from 88392 to 88900 startingthread from 88900 to 89408 startingthread from 89408 to 89916 startingthread from 89916 to 90424 startingthread from 90424 to 90932 startingthread from 90932 to 91440 startingthread from 91440 to 91948 startingthread from 91948 to 92456 startingthread from 92456 to 92964 startingthread from 92964 to 93472 startingthread from 93472 to 93980 startingthread from 93980 to 94488 startingthread from 94488 to 94996 startingthread from 94996 to 95504 startingthread from 95504 to 96012 startingthread from 96012 to 96520 startingthread from 96520 to 97028 startingthread from 97028 to 97536 startingthread from 97536 to 98044 startingthread from 98044 to 98552 startingthread from 98552 to 99060 startingthread from 99060 to 99568 startingthread from 99568 to 100076 startingthread from 100076 to 100584 startingthread from 100584 to 101092 startingthread from 101092 to 101766 starting"
     ]
    }
   ],
   "source": [
    "def thread_func(start, end, adjacency):\n",
    "    print('thread from ' + str(start) + ' to ' + str(end) + ' starting')\n",
    "    for ind in range(start, end):\n",
    "        for ind2 in range(ind + 1, len(data)):\n",
    "            i = data[ind]\n",
    "            j = data[ind2]\n",
    "            if (i[11] != '?') and (j[11] != '?') and (i[11] != j[11]):\n",
    "                a = meds_to_nums[i[11]]\n",
    "                b = meds_to_nums[j[11]]\n",
    "                if i[2] == j[2]:\n",
    "                    adjacency[a, b] += 1\n",
    "                    adjacency[b, a] += 1\n",
    "                if i[3] == j[3]:\n",
    "                    adjacency[a, b] += 1\n",
    "                    adjacency[b, a] += 1\n",
    "    print('thread from ' + str(start) + ' to ' + str(end) + ' finishing')\n",
    "num_threads = 200\n",
    "arrays = [np.zeros((num_meds, num_meds)) for i in range(num_threads)]\n",
    "start = 0\n",
    "end = int(len(data) / num_threads)\n",
    "for i in range(num_threads):\n",
    "    if i == (num_threads - 1):\n",
    "        end = len(data)\n",
    "    x = threading.Thread(target=thread_func, args=(start, end, arrays[i]))\n",
    "    x.start()\n",
    "    start = end\n",
    "    end = start + int(len(data) / num_threads)"
   ]
  },
  {
   "cell_type": "code",
   "execution_count": null,
   "metadata": {},
   "outputs": [],
   "source": []
  }
 ],
 "metadata": {
  "kernelspec": {
   "display_name": "Python 3",
   "language": "python",
   "name": "python3"
  },
  "language_info": {
   "codemirror_mode": {
    "name": "ipython",
    "version": 3
   },
   "file_extension": ".py",
   "mimetype": "text/x-python",
   "name": "python",
   "nbconvert_exporter": "python",
   "pygments_lexer": "ipython3",
   "version": "3.6.4"
  }
 },
 "nbformat": 4,
 "nbformat_minor": 2
}
