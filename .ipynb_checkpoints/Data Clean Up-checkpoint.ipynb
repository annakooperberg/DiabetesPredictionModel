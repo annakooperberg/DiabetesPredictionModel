{
 "cells": [
  {
   "cell_type": "code",
   "execution_count": 51,
   "metadata": {},
   "outputs": [],
   "source": [
    "#from fancyimpute import KNN"
   ]
  },
  {
   "cell_type": "code",
   "execution_count": 1,
   "metadata": {},
   "outputs": [],
   "source": [
    "import pandas as pd\n",
    "from sklearn.linear_model import LogisticRegression\n",
    "from sklearn.preprocessing import LabelBinarizer, OneHotEncoder\n",
    "from sklearn.model_selection import train_test_split\n",
    "from sklearn.impute import SimpleImputer\n",
    "from sklearn.multiclass import OneVsRestClassifier\n",
    "import numpy as np\n",
    "import matplotlib.pyplot as plt"
   ]
  },
  {
   "cell_type": "code",
   "execution_count": 80,
   "metadata": {},
   "outputs": [],
   "source": [
    "filename = 'dataset_diabetes/diabetic_data.csv'"
   ]
  },
  {
   "cell_type": "code",
   "execution_count": 81,
   "metadata": {},
   "outputs": [],
   "source": [
    "data = pd.read_csv(filename)"
   ]
  },
  {
   "cell_type": "code",
   "execution_count": 82,
   "metadata": {},
   "outputs": [
    {
     "name": "stdout",
     "output_type": "stream",
     "text": [
      "0.4608808442898414\n"
     ]
    }
   ],
   "source": [
    "y_ternary = data.loc[:, data.columns == \"readmitted\"] # old 3-way classification\n",
    "y = data.replace(to_replace={'>30': 'YES', '<30': 'YES'}).loc[:, data.columns == \"readmitted\"]\n",
    "freq_readmission = y['readmitted'].value_counts().to_dict()\n",
    "print(freq_readmission['YES']/sum(freq_readmission.values()))\n",
    "X = data.drop(columns=[\"readmitted\", \"weight\", \"encounter_id\", \"patient_nbr\"])"
   ]
  },
  {
   "cell_type": "code",
   "execution_count": 83,
   "metadata": {},
   "outputs": [
    {
     "data": {
      "text/plain": [
       "Index(['race', 'gender', 'age', 'admission_type_id',\n",
       "       'discharge_disposition_id', 'admission_source_id', 'time_in_hospital',\n",
       "       'payer_code', 'medical_specialty', 'num_lab_procedures',\n",
       "       'num_procedures', 'num_medications', 'number_outpatient',\n",
       "       'number_emergency', 'number_inpatient', 'diag_1', 'diag_2', 'diag_3',\n",
       "       'number_diagnoses', 'max_glu_serum', 'A1Cresult', 'metformin',\n",
       "       'repaglinide', 'nateglinide', 'chlorpropamide', 'glimepiride',\n",
       "       'acetohexamide', 'glipizide', 'glyburide', 'tolbutamide',\n",
       "       'pioglitazone', 'rosiglitazone', 'acarbose', 'miglitol', 'troglitazone',\n",
       "       'tolazamide', 'examide', 'citoglipton', 'insulin',\n",
       "       'glyburide-metformin', 'glipizide-metformin',\n",
       "       'glimepiride-pioglitazone', 'metformin-rosiglitazone',\n",
       "       'metformin-pioglitazone', 'change', 'diabetesMed', 'diag_1_desc',\n",
       "       'diag_2_desc', 'diag_3_desc'],\n",
       "      dtype='object')"
      ]
     },
     "execution_count": 83,
     "metadata": {},
     "output_type": "execute_result"
    }
   ],
   "source": [
    "X.columns"
   ]
  },
  {
   "cell_type": "code",
   "execution_count": 84,
   "metadata": {},
   "outputs": [],
   "source": [
    "lb = LabelBinarizer()\n",
    "one = OneHotEncoder()"
   ]
  },
  {
   "cell_type": "code",
   "execution_count": 85,
   "metadata": {},
   "outputs": [
    {
     "data": {
      "text/plain": [
       "array(['NO', 'YES'], dtype='<U3')"
      ]
     },
     "execution_count": 85,
     "metadata": {},
     "output_type": "execute_result"
    }
   ],
   "source": [
    "y_transformed = lb.fit_transform(y)\n",
    "lb.classes_"
   ]
  },
  {
   "cell_type": "code",
   "execution_count": 86,
   "metadata": {},
   "outputs": [],
   "source": [
    "X_clean = X.replace(\"?\", np.nan)"
   ]
  },
  {
   "cell_type": "code",
   "execution_count": 87,
   "metadata": {},
   "outputs": [],
   "source": [
    "X_train, X_test, y_train, y_test = train_test_split(X_clean, y_transformed, test_size=0.20)"
   ]
  },
  {
   "cell_type": "code",
   "execution_count": 88,
   "metadata": {},
   "outputs": [],
   "source": [
    "imp_mode = SimpleImputer(missing_values=np.nan, strategy=\"most_frequent\")\n",
    "imp_unknown = SimpleImputer(missing_values=np.nan, strategy=\"constant\", fill_value=\"Unknown\")"
   ]
  },
  {
   "cell_type": "code",
   "execution_count": 89,
   "metadata": {},
   "outputs": [],
   "source": [
    "X_unknown_train = imp_unknown.fit_transform(X_train)\n",
    "X_unknown_test = imp_unknown.transform(X_test)"
   ]
  },
  {
   "cell_type": "code",
   "execution_count": 90,
   "metadata": {
    "scrolled": true
   },
   "outputs": [],
   "source": [
    "X_mode_train = imp_mode.fit_transform(X_train)"
   ]
  },
  {
   "cell_type": "code",
   "execution_count": 68,
   "metadata": {},
   "outputs": [],
   "source": [
    "X_mode_test = imp_mode.transform(X_test)"
   ]
  },
  {
   "cell_type": "code",
   "execution_count": 69,
   "metadata": {},
   "outputs": [],
   "source": [
    "X_drop_train = X_train.dropna(axis=1)\n",
    "X_drop_test = X_test.dropna(axis=1)"
   ]
  },
  {
   "cell_type": "code",
   "execution_count": 70,
   "metadata": {},
   "outputs": [],
   "source": [
    "enc_mode = OneHotEncoder(handle_unknown=\"ignore\")\n",
    "enc_unknown = OneHotEncoder(handle_unknown=\"ignore\")\n",
    "enc_drop = OneHotEncoder(handle_unknown=\"ignore\")"
   ]
  },
  {
   "cell_type": "code",
   "execution_count": 71,
   "metadata": {
    "scrolled": false
   },
   "outputs": [],
   "source": [
    "X_unknown_train_c = enc_unknown.fit_transform(X_unknown_train)\n",
    "X_unknown_test_c = enc_unknown.transform(X_unknown_test)\n",
    "\n",
    "X_mode_train_c = enc_mode.fit_transform(X_mode_train)\n",
    "X_mode_test_c = enc_mode.transform(X_mode_test)\n",
    "\n",
    "X_drop_train_c = enc_drop.fit_transform(X_drop_train)\n",
    "X_drop_test_c = enc_drop.transform(X_drop_test)"
   ]
  },
  {
   "cell_type": "code",
   "execution_count": 72,
   "metadata": {},
   "outputs": [
    {
     "data": {
      "text/plain": [
       "(81412, 901)"
      ]
     },
     "execution_count": 72,
     "metadata": {},
     "output_type": "execute_result"
    }
   ],
   "source": [
    "X_unknown_train_c.shape"
   ]
  },
  {
   "cell_type": "code",
   "execution_count": 73,
   "metadata": {},
   "outputs": [
    {
     "data": {
      "text/plain": [
       "(81412, 1)"
      ]
     },
     "execution_count": 73,
     "metadata": {},
     "output_type": "execute_result"
    }
   ],
   "source": [
    "y_train.shape"
   ]
  },
  {
   "cell_type": "code",
   "execution_count": 74,
   "metadata": {},
   "outputs": [
    {
     "name": "stderr",
     "output_type": "stream",
     "text": [
      "/Library/Frameworks/Python.framework/Versions/3.7/lib/python3.7/site-packages/sklearn/linear_model/logistic.py:433: FutureWarning: Default solver will be changed to 'lbfgs' in 0.22. Specify a solver to silence this warning.\n",
      "  FutureWarning)\n",
      "/Library/Frameworks/Python.framework/Versions/3.7/lib/python3.7/site-packages/sklearn/utils/validation.py:761: DataConversionWarning: A column-vector y was passed when a 1d array was expected. Please change the shape of y to (n_samples, ), for example using ravel().\n",
      "  y = column_or_1d(y, warn=True)\n"
     ]
    },
    {
     "data": {
      "text/plain": [
       "LogisticRegression(C=1.0, class_weight=None, dual=False, fit_intercept=True,\n",
       "          intercept_scaling=1, max_iter=100, multi_class='warn',\n",
       "          n_jobs=None, penalty='l2', random_state=None, solver='warn',\n",
       "          tol=0.0001, verbose=0, warm_start=False)"
      ]
     },
     "execution_count": 74,
     "metadata": {},
     "output_type": "execute_result"
    }
   ],
   "source": [
    "# classif = OneVsRestClassifier(LogisticRegression())\n",
    "classif = LogisticRegression()\n",
    "classif.fit(X_unknown_train_c, y_train)"
   ]
  },
  {
   "cell_type": "code",
   "execution_count": 93,
   "metadata": {},
   "outputs": [
    {
     "name": "stdout",
     "output_type": "stream",
     "text": [
      "0.5057973862631424\n",
      "0.38498575218630243\n"
     ]
    }
   ],
   "source": [
    "print(classif.score(X_unknown_test_c, y_test))\n",
    "predictions = lb.inverse_transform(classif.predict(X_unknown_test_c))\n",
    "print(sum(predictions == 'YES')/len(predictions)) # percentage of predictions labeled YES"
   ]
  },
  {
   "cell_type": "code",
   "execution_count": 76,
   "metadata": {},
   "outputs": [],
   "source": [
    "# clf_unknown = OneVsRestClassifier(LogisticRegression()).fit(X_unknown_train_c, y_train)\n",
    "clf_unknown = LogisticRegression().fit(X_unknown_train_c, y_train)"
   ]
  },
  {
   "cell_type": "code",
   "execution_count": 77,
   "metadata": {},
   "outputs": [],
   "source": [
    "# clf_mode = OneVsRestClassifier(LogisticRegression()).fit(X_mode_train_c, y_train)\n",
    "clf_mode = LogisticRegression().fit(X_mode_train_c, y_train)"
   ]
  },
  {
   "cell_type": "code",
   "execution_count": 78,
   "metadata": {},
   "outputs": [],
   "source": [
    "# clf_drop = OneVsRestClassifier(LogisticRegression()).fit(X_drop_train_c, y_train)\n",
    "clf_drop = LogisticRegression().fit(X_drop_train_c, y_train)"
   ]
  },
  {
   "cell_type": "code",
   "execution_count": 79,
   "metadata": {},
   "outputs": [
    {
     "name": "stdout",
     "output_type": "stream",
     "text": [
      "0.6406603124692936\n",
      "0.638842487963054\n",
      "0.6365333595362092\n"
     ]
    }
   ],
   "source": [
    "print(clf_unknown.score(X_unknown_test_c, y_test))\n",
    "print(clf_mode.score(X_mode_test_c, y_test))\n",
    "print(clf_drop.score(X_drop_test_c, y_test))"
   ]
  },
  {
   "cell_type": "code",
   "execution_count": 96,
   "metadata": {
    "scrolled": false
   },
   "outputs": [
    {
     "name": "stdout",
     "output_type": "stream",
     "text": [
      "dataset_diabetes/diabetic_data.csv\n"
     ]
    },
    {
     "name": "stderr",
     "output_type": "stream",
     "text": [
      "/Library/Frameworks/Python.framework/Versions/3.7/lib/python3.7/site-packages/sklearn/linear_model/logistic.py:433: FutureWarning: Default solver will be changed to 'lbfgs' in 0.22. Specify a solver to silence this warning.\n",
      "  FutureWarning)\n",
      "/Library/Frameworks/Python.framework/Versions/3.7/lib/python3.7/site-packages/sklearn/utils/validation.py:761: DataConversionWarning: A column-vector y was passed when a 1d array was expected. Please change the shape of y to (n_samples, ), for example using ravel().\n",
      "  y = column_or_1d(y, warn=True)\n"
     ]
    },
    {
     "name": "stdout",
     "output_type": "stream",
     "text": [
      "percentage of predictions labeled YES: 0.3767809767121942\n",
      "unknown test error: 0.6444924830500147\n",
      "mode test error: 0.6426255281517147\n",
      "drop test error: 0.6401690085486882\n",
      "dataset_diabetes/diabetic_data_clustered1.csv\n"
     ]
    },
    {
     "name": "stderr",
     "output_type": "stream",
     "text": [
      "/Library/Frameworks/Python.framework/Versions/3.7/lib/python3.7/site-packages/sklearn/linear_model/logistic.py:433: FutureWarning: Default solver will be changed to 'lbfgs' in 0.22. Specify a solver to silence this warning.\n",
      "  FutureWarning)\n",
      "/Library/Frameworks/Python.framework/Versions/3.7/lib/python3.7/site-packages/sklearn/utils/validation.py:761: DataConversionWarning: A column-vector y was passed when a 1d array was expected. Please change the shape of y to (n_samples, ), for example using ravel().\n",
      "  y = column_or_1d(y, warn=True)\n"
     ]
    },
    {
     "name": "stdout",
     "output_type": "stream",
     "text": [
      "percentage of predictions labeled YES: 0.37545445612655987\n",
      "unknown test error: 0.635501621302938\n",
      "mode test error: 0.6361403163997249\n",
      "drop test error: 0.63476466542203\n",
      "dataset_diabetes/diabetic_data_clustered2.csv\n"
     ]
    },
    {
     "name": "stderr",
     "output_type": "stream",
     "text": [
      "/Library/Frameworks/Python.framework/Versions/3.7/lib/python3.7/site-packages/sklearn/linear_model/logistic.py:433: FutureWarning: Default solver will be changed to 'lbfgs' in 0.22. Specify a solver to silence this warning.\n",
      "  FutureWarning)\n",
      "/Library/Frameworks/Python.framework/Versions/3.7/lib/python3.7/site-packages/sklearn/utils/validation.py:761: DataConversionWarning: A column-vector y was passed when a 1d array was expected. Please change the shape of y to (n_samples, ), for example using ravel().\n",
      "  y = column_or_1d(y, warn=True)\n"
     ]
    },
    {
     "name": "stdout",
     "output_type": "stream",
     "text": [
      "percentage of predictions labeled YES: 0.3888670531590842\n",
      "unknown test error: 0.6411024859978383\n",
      "mode test error: 0.6436081359929252\n",
      "drop test error: 0.6366316203203302\n",
      "dataset_diabetes/diabetic_data_clustered3.csv\n"
     ]
    },
    {
     "name": "stderr",
     "output_type": "stream",
     "text": [
      "/Library/Frameworks/Python.framework/Versions/3.7/lib/python3.7/site-packages/sklearn/linear_model/logistic.py:433: FutureWarning: Default solver will be changed to 'lbfgs' in 0.22. Specify a solver to silence this warning.\n",
      "  FutureWarning)\n",
      "/Library/Frameworks/Python.framework/Versions/3.7/lib/python3.7/site-packages/sklearn/utils/validation.py:761: DataConversionWarning: A column-vector y was passed when a 1d array was expected. Please change the shape of y to (n_samples, ), for example using ravel().\n",
      "  y = column_or_1d(y, warn=True)\n"
     ]
    },
    {
     "name": "stdout",
     "output_type": "stream",
     "text": [
      "percentage of predictions labeled YES: 0.396285742360224\n",
      "unknown test error: 0.643215092856441\n",
      "mode test error: 0.6433624840326225\n",
      "drop test error: 0.6378598801218434\n",
      "dataset_diabetes/diabetic_data_clustered4.csv\n"
     ]
    },
    {
     "name": "stderr",
     "output_type": "stream",
     "text": [
      "/Library/Frameworks/Python.framework/Versions/3.7/lib/python3.7/site-packages/sklearn/linear_model/logistic.py:433: FutureWarning: Default solver will be changed to 'lbfgs' in 0.22. Specify a solver to silence this warning.\n",
      "  FutureWarning)\n",
      "/Library/Frameworks/Python.framework/Versions/3.7/lib/python3.7/site-packages/sklearn/utils/validation.py:761: DataConversionWarning: A column-vector y was passed when a 1d array was expected. Please change the shape of y to (n_samples, ), for example using ravel().\n",
      "  y = column_or_1d(y, warn=True)\n"
     ]
    },
    {
     "name": "stdout",
     "output_type": "stream",
     "text": [
      "percentage of predictions labeled YES: 0.40114965117421636\n",
      "unknown test error: 0.6467033506927385\n",
      "mode test error: 0.64311683207232\n",
      "drop test error: 0.6361403163997249\n",
      "dataset_diabetes/diabetic_data_clustered5.csv\n"
     ]
    },
    {
     "name": "stderr",
     "output_type": "stream",
     "text": [
      "/Library/Frameworks/Python.framework/Versions/3.7/lib/python3.7/site-packages/sklearn/linear_model/logistic.py:433: FutureWarning: Default solver will be changed to 'lbfgs' in 0.22. Specify a solver to silence this warning.\n",
      "  FutureWarning)\n",
      "/Library/Frameworks/Python.framework/Versions/3.7/lib/python3.7/site-packages/sklearn/utils/validation.py:761: DataConversionWarning: A column-vector y was passed when a 1d array was expected. Please change the shape of y to (n_samples, ), for example using ravel().\n",
      "  y = column_or_1d(y, warn=True)\n"
     ]
    },
    {
     "name": "stdout",
     "output_type": "stream",
     "text": [
      "percentage of predictions labeled YES: 0.40645573351675346\n",
      "unknown test error: 0.6429694408961384\n",
      "mode test error: 0.6429694408961384\n",
      "drop test error: 0.6373194458091775\n",
      "\\begin{tabular}{llrrr}\n",
      "\\toprule\n",
      "{} &                                           file &   unknown &      mode &      drop \\\\\n",
      "\\midrule\n",
      "0 &             dataset\\_diabetes/diabetic\\_data.csv &  0.644492 &  0.642626 &  0.640169 \\\\\n",
      "1 &  dataset\\_diabetes/diabetic\\_data\\_clustered1.csv &  0.635502 &  0.636140 &  0.634765 \\\\\n",
      "2 &  dataset\\_diabetes/diabetic\\_data\\_clustered2.csv &  0.641102 &  0.643608 &  0.636632 \\\\\n",
      "3 &  dataset\\_diabetes/diabetic\\_data\\_clustered3.csv &  0.643215 &  0.643362 &  0.637860 \\\\\n",
      "4 &  dataset\\_diabetes/diabetic\\_data\\_clustered4.csv &  0.646703 &  0.643117 &  0.636140 \\\\\n",
      "5 &  dataset\\_diabetes/diabetic\\_data\\_clustered5.csv &  0.642969 &  0.642969 &  0.637319 \\\\\n",
      "\\bottomrule\n",
      "\\end{tabular}\n",
      "\n"
     ]
    }
   ],
   "source": [
    "def classify(filename):\n",
    "    print(filename)\n",
    "    data = pd.read_csv(filename)\n",
    "    y = data.replace(to_replace={'>30': 'YES', '<30': 'YES'}).loc[:, data.columns == \"readmitted\"]\n",
    "    X = data.drop(columns=[\n",
    "        \"readmitted\",\n",
    "        \"weight\", \n",
    "        \"encounter_id\", \n",
    "        \"patient_nbr\", \n",
    "        \"diag_1\", \n",
    "        \"diag_2\", \n",
    "        \"diag_3\"\n",
    "        ])\n",
    "    lb = LabelBinarizer()\n",
    "    one = OneHotEncoder()\n",
    "    y_transformed = lb.fit_transform(y)\n",
    "    X_clean = X.replace(\"?\", np.nan)\n",
    "    X_train, X_test, y_train, y_test = train_test_split(X_clean, y_transformed, test_size=0.20)\n",
    "    imp_mode = SimpleImputer(missing_values=np.nan, strategy=\"most_frequent\")\n",
    "    imp_unknown = SimpleImputer(missing_values=np.nan, strategy=\"constant\", fill_value=\"Unknown\")\n",
    "    X_unknown_train = imp_unknown.fit_transform(X_train)\n",
    "    X_unknown_test = imp_unknown.transform(X_test)\n",
    "    X_mode_train = imp_mode.fit_transform(X_train)\n",
    "    X_mode_test = imp_mode.transform(X_test)\n",
    "    X_drop_train = X_train.dropna(axis=1)\n",
    "    X_drop_test = X_test.dropna(axis=1)\n",
    "    enc_mode = OneHotEncoder(handle_unknown=\"ignore\")\n",
    "    enc_unknown = OneHotEncoder(handle_unknown=\"ignore\")\n",
    "    enc_drop = OneHotEncoder(handle_unknown=\"ignore\")\n",
    "    X_unknown_train_c = enc_unknown.fit_transform(X_unknown_train)\n",
    "    X_unknown_test_c = enc_unknown.transform(X_unknown_test)\n",
    "\n",
    "    X_mode_train_c = enc_mode.fit_transform(X_mode_train)\n",
    "    X_mode_test_c = enc_mode.transform(X_mode_test)\n",
    "\n",
    "    X_drop_train_c = enc_drop.fit_transform(X_drop_train)\n",
    "    X_drop_test_c = enc_drop.transform(X_drop_test)\n",
    "\n",
    "    classif = LogisticRegression()\n",
    "    classif.fit(X_unknown_train_c, y_train)\n",
    "    \n",
    "    classif.score(X_unknown_test_c, y_test)\n",
    "    predictions = lb.inverse_transform(classif.predict(X_unknown_test_c))\n",
    "    print('percentage of predictions labeled YES:', sum(predictions == 'YES')/len(predictions))\n",
    "    \n",
    "    clf_unknown = LogisticRegression().fit(X_unknown_train_c, y_train)\n",
    "    clf_mode = LogisticRegression().fit(X_mode_train_c, y_train)\n",
    "    clf_drop = LogisticRegression().fit(X_drop_train_c, y_train)\n",
    "    \n",
    "    unknown_score = clf_unknown.score(X_unknown_test_c, y_test)\n",
    "    mode_score = clf_mode.score(X_mode_test_c, y_test)\n",
    "    drop_score = clf_drop.score(X_drop_test_c, y_test)\n",
    "    \n",
    "    print('unknown test error:', unknown_score)\n",
    "    print('mode test error:', mode_score)\n",
    "    print('drop test error:', drop_score)\n",
    "    \n",
    "    return unknown_score, mode_score, drop_score\n",
    "    \n",
    "files = [\n",
    "    'dataset_diabetes/diabetic_data.csv', \n",
    "    'dataset_diabetes/diabetic_data_clustered1.csv',\n",
    "    'dataset_diabetes/diabetic_data_clustered2.csv',\n",
    "    'dataset_diabetes/diabetic_data_clustered3.csv',\n",
    "    'dataset_diabetes/diabetic_data_clustered4.csv',\n",
    "    'dataset_diabetes/diabetic_data_clustered5.csv',\n",
    "]\n",
    "\n",
    "accuracies = {}\n",
    "unknown_accuracies = []\n",
    "mode_accuracies = []\n",
    "drop_accuracies = []\n",
    "for file in files:\n",
    "    result = classify(file)\n",
    "    accuracies[file] = result\n",
    "    unknown_accuracies.append(result[0])\n",
    "    mode_accuracies.append(result[1])\n",
    "    drop_accuracies.append(result[2])\n",
    "df_accuracy = pd.DataFrame({\n",
    "    'file': files, \n",
    "    'unknown': unknown_accuracies,\n",
    "    'mode': mode_accuracies,\n",
    "    'drop': drop_accuracies\n",
    "})\n",
    "\n",
    "print(df_accuracy.to_latex())"
   ]
  },
  {
   "cell_type": "code",
   "execution_count": 32,
   "metadata": {},
   "outputs": [
    {
     "data": {
      "image/png": "[encoded data removed]",
      "text/plain": [
       "<Figure size 432x288 with 1 Axes>"
      ]
     },
     "metadata": {
      "needs_background": "light"
     },
     "output_type": "display_data"
    }
   ],
   "source": [
    "feature_importance = abs(clf_unknown.coef_[0])\n",
    "feature_importance = 100.0 * (feature_importance / feature_importance.max())\n",
    "sorted_idx = np.argsort(feature_importance)\n",
    "pos = np.arange(sorted_idx.shape[0]) + .5\n",
    "\n",
    "featfig = plt.figure()\n",
    "featax = featfig.add_subplot(1, 1, 1)\n",
    "featax.barh(pos, feature_importance[sorted_idx], align='center')\n",
    "featax.set_yticks(pos)\n",
    "#featax.set_yticklabels(np.array(X.columns)[sorted_idx], fontsize=8)\n",
    "featax.set_xlabel('Relative Feature Importance')\n",
    "\n",
    "plt.tight_layout()   \n",
    "plt.show()"
   ]
  },
  {
   "cell_type": "code",
   "execution_count": 49,
   "metadata": {},
   "outputs": [
    {
     "ename": "ValueError",
     "evalue": "could not convert string to float: 'No'",
     "output_type": "error",
     "traceback": [
      "\u001b[0;31m---------------------------------------------------------------------------\u001b[0m",
      "\u001b[0;31mValueError\u001b[0m                                Traceback (most recent call last)",
      "\u001b[0;32m<ipython-input-49-019f54f65e84>\u001b[0m in \u001b[0;36m<module>\u001b[0;34m()\u001b[0m\n\u001b[0;32m----> 1\u001b[0;31m \u001b[0mclf\u001b[0m \u001b[0;34m=\u001b[0m \u001b[0mLogisticRegression\u001b[0m\u001b[0;34m(\u001b[0m\u001b[0mrandom_state\u001b[0m\u001b[0;34m=\u001b[0m\u001b[0;36m0\u001b[0m\u001b[0;34m,\u001b[0m \u001b[0msolver\u001b[0m\u001b[0;34m=\u001b[0m\u001b[0;34m'lbfgs'\u001b[0m\u001b[0;34m,\u001b[0m \u001b[0mmulti_class\u001b[0m\u001b[0;34m=\u001b[0m\u001b[0;34m'multinomial'\u001b[0m\u001b[0;34m)\u001b[0m\u001b[0;34m.\u001b[0m\u001b[0mfit\u001b[0m\u001b[0;34m(\u001b[0m\u001b[0mdata\u001b[0m\u001b[0;34m.\u001b[0m\u001b[0mloc\u001b[0m\u001b[0;34m[\u001b[0m\u001b[0;34m:\u001b[0m\u001b[0;34m,\u001b[0m \u001b[0mdata\u001b[0m\u001b[0;34m.\u001b[0m\u001b[0mcolumns\u001b[0m \u001b[0;34m!=\u001b[0m \u001b[0;34m\"readmitted\"\u001b[0m\u001b[0;34m]\u001b[0m\u001b[0;34m,\u001b[0m \u001b[0mdata\u001b[0m\u001b[0;34m.\u001b[0m\u001b[0mloc\u001b[0m\u001b[0;34m[\u001b[0m\u001b[0;34m:\u001b[0m\u001b[0;34m,\u001b[0m \u001b[0mdata\u001b[0m\u001b[0;34m.\u001b[0m\u001b[0mcolumns\u001b[0m \u001b[0;34m==\u001b[0m \u001b[0;34m\"readmitted\"\u001b[0m\u001b[0;34m]\u001b[0m\u001b[0;34m)\u001b[0m\u001b[0;34m\u001b[0m\u001b[0m\n\u001b[0m\u001b[1;32m      2\u001b[0m \u001b[0;31m#clf.predict(X[:2, :])\u001b[0m\u001b[0;34m\u001b[0m\u001b[0;34m\u001b[0m\u001b[0m\n",
      "\u001b[0;32m~/Library/Python/3.5/lib/python/site-packages/sklearn/linear_model/logistic.py\u001b[0m in \u001b[0;36mfit\u001b[0;34m(self, X, y, sample_weight)\u001b[0m\n\u001b[1;32m   1286\u001b[0m \u001b[0;34m\u001b[0m\u001b[0m\n\u001b[1;32m   1287\u001b[0m         X, y = check_X_y(X, y, accept_sparse='csr', dtype=_dtype, order=\"C\",\n\u001b[0;32m-> 1288\u001b[0;31m                          accept_large_sparse=solver != 'liblinear')\n\u001b[0m\u001b[1;32m   1289\u001b[0m         \u001b[0mcheck_classification_targets\u001b[0m\u001b[0;34m(\u001b[0m\u001b[0my\u001b[0m\u001b[0;34m)\u001b[0m\u001b[0;34m\u001b[0m\u001b[0m\n\u001b[1;32m   1290\u001b[0m         \u001b[0mself\u001b[0m\u001b[0;34m.\u001b[0m\u001b[0mclasses_\u001b[0m \u001b[0;34m=\u001b[0m \u001b[0mnp\u001b[0m\u001b[0;34m.\u001b[0m\u001b[0munique\u001b[0m\u001b[0;34m(\u001b[0m\u001b[0my\u001b[0m\u001b[0;34m)\u001b[0m\u001b[0;34m\u001b[0m\u001b[0m\n",
      "\u001b[0;32m~/Library/Python/3.5/lib/python/site-packages/sklearn/utils/validation.py\u001b[0m in \u001b[0;36mcheck_X_y\u001b[0;34m(X, y, accept_sparse, accept_large_sparse, dtype, order, copy, force_all_finite, ensure_2d, allow_nd, multi_output, ensure_min_samples, ensure_min_features, y_numeric, warn_on_dtype, estimator)\u001b[0m\n\u001b[1;32m    754\u001b[0m                     \u001b[0mensure_min_features\u001b[0m\u001b[0;34m=\u001b[0m\u001b[0mensure_min_features\u001b[0m\u001b[0;34m,\u001b[0m\u001b[0;34m\u001b[0m\u001b[0m\n\u001b[1;32m    755\u001b[0m                     \u001b[0mwarn_on_dtype\u001b[0m\u001b[0;34m=\u001b[0m\u001b[0mwarn_on_dtype\u001b[0m\u001b[0;34m,\u001b[0m\u001b[0;34m\u001b[0m\u001b[0m\n\u001b[0;32m--> 756\u001b[0;31m                     estimator=estimator)\n\u001b[0m\u001b[1;32m    757\u001b[0m     \u001b[0;32mif\u001b[0m \u001b[0mmulti_output\u001b[0m\u001b[0;34m:\u001b[0m\u001b[0;34m\u001b[0m\u001b[0m\n\u001b[1;32m    758\u001b[0m         y = check_array(y, 'csr', force_all_finite=True, ensure_2d=False,\n",
      "\u001b[0;32m~/Library/Python/3.5/lib/python/site-packages/sklearn/utils/validation.py\u001b[0m in \u001b[0;36mcheck_array\u001b[0;34m(array, accept_sparse, accept_large_sparse, dtype, order, copy, force_all_finite, ensure_2d, allow_nd, ensure_min_samples, ensure_min_features, warn_on_dtype, estimator)\u001b[0m\n\u001b[1;32m    525\u001b[0m             \u001b[0;32mtry\u001b[0m\u001b[0;34m:\u001b[0m\u001b[0;34m\u001b[0m\u001b[0m\n\u001b[1;32m    526\u001b[0m                 \u001b[0mwarnings\u001b[0m\u001b[0;34m.\u001b[0m\u001b[0msimplefilter\u001b[0m\u001b[0;34m(\u001b[0m\u001b[0;34m'error'\u001b[0m\u001b[0;34m,\u001b[0m \u001b[0mComplexWarning\u001b[0m\u001b[0;34m)\u001b[0m\u001b[0;34m\u001b[0m\u001b[0m\n\u001b[0;32m--> 527\u001b[0;31m                 \u001b[0marray\u001b[0m \u001b[0;34m=\u001b[0m \u001b[0mnp\u001b[0m\u001b[0;34m.\u001b[0m\u001b[0masarray\u001b[0m\u001b[0;34m(\u001b[0m\u001b[0marray\u001b[0m\u001b[0;34m,\u001b[0m \u001b[0mdtype\u001b[0m\u001b[0;34m=\u001b[0m\u001b[0mdtype\u001b[0m\u001b[0;34m,\u001b[0m \u001b[0morder\u001b[0m\u001b[0;34m=\u001b[0m\u001b[0morder\u001b[0m\u001b[0;34m)\u001b[0m\u001b[0;34m\u001b[0m\u001b[0m\n\u001b[0m\u001b[1;32m    528\u001b[0m             \u001b[0;32mexcept\u001b[0m \u001b[0mComplexWarning\u001b[0m\u001b[0;34m:\u001b[0m\u001b[0;34m\u001b[0m\u001b[0m\n\u001b[1;32m    529\u001b[0m                 raise ValueError(\"Complex data not supported\\n\"\n",
      "\u001b[0;32m/Library/Frameworks/Python.framework/Versions/3.5/lib/python3.5/site-packages/numpy/core/numeric.py\u001b[0m in \u001b[0;36masarray\u001b[0;34m(a, dtype, order)\u001b[0m\n\u001b[1;32m    490\u001b[0m \u001b[0;34m\u001b[0m\u001b[0m\n\u001b[1;32m    491\u001b[0m     \"\"\"\n\u001b[0;32m--> 492\u001b[0;31m     \u001b[0;32mreturn\u001b[0m \u001b[0marray\u001b[0m\u001b[0;34m(\u001b[0m\u001b[0ma\u001b[0m\u001b[0;34m,\u001b[0m \u001b[0mdtype\u001b[0m\u001b[0;34m,\u001b[0m \u001b[0mcopy\u001b[0m\u001b[0;34m=\u001b[0m\u001b[0;32mFalse\u001b[0m\u001b[0;34m,\u001b[0m \u001b[0morder\u001b[0m\u001b[0;34m=\u001b[0m\u001b[0morder\u001b[0m\u001b[0;34m)\u001b[0m\u001b[0;34m\u001b[0m\u001b[0m\n\u001b[0m\u001b[1;32m    493\u001b[0m \u001b[0;34m\u001b[0m\u001b[0m\n\u001b[1;32m    494\u001b[0m \u001b[0;34m\u001b[0m\u001b[0m\n",
      "\u001b[0;31mValueError\u001b[0m: could not convert string to float: 'No'"
     ]
    }
   ],
   "source": [
    "clf = LogisticRegression(random_state=0, solver='lbfgs', multi_class='multinomial').fit(data.loc[:, data.columns != \"readmitted\"], data.loc[:, data.columns == \"readmitted\"])\n",
    "#clf.predict(X[:2, :])"
   ]
  },
  {
   "cell_type": "code",
   "execution_count": null,
   "metadata": {
    "collapsed": true
   },
   "outputs": [],
   "source": []
  },
  {
   "cell_type": "code",
   "execution_count": null,
   "metadata": {
    "collapsed": true
   },
   "outputs": [],
   "source": []
  },
  {
   "cell_type": "code",
   "execution_count": null,
   "metadata": {
    "collapsed": true
   },
   "outputs": [],
   "source": []
  },
  {
   "cell_type": "code",
   "execution_count": null,
   "metadata": {
    "collapsed": true
   },
   "outputs": [],
   "source": [
    "int disp[2][4] = {\n",
    "    {10, 11, 12, 13},\n",
    "    {14, 15, 16, 17}\n",
    "};"
   ]
  },
  {
   "cell_type": "code",
   "execution_count": null,
   "metadata": {
    "collapsed": true
   },
   "outputs": [],
   "source": [
    " (1 / (delta_fil + 1)) * (1 / (delta_rnk + 1))"
   ]
  },
  {
   "cell_type": "code",
   "execution_count": 4,
   "metadata": {},
   "outputs": [
    {
     "name": "stdout",
     "output_type": "stream",
     "text": [
      "{1.0,0.5,0.3333333333333333,0.25,0.2,0.16666666666666666,0.14285714285714285,0.125,0.1111111111111111},\n",
      "{0.5,0.25,0.16666666666666666,0.125,0.1,0.08333333333333333,0.07142857142857142,0.0625,0.05555555555555555},\n",
      "{0.3333333333333333,0.16666666666666666,0.1111111111111111,0.08333333333333333,0.06666666666666667,0.05555555555555555,0.047619047619047616,0.041666666666666664,0.037037037037037035},\n",
      "{0.25,0.125,0.08333333333333333,0.0625,0.05,0.041666666666666664,0.03571428571428571,0.03125,0.027777777777777776},\n",
      "{0.2,0.1,0.06666666666666667,0.05,0.04000000000000001,0.03333333333333333,0.02857142857142857,0.025,0.022222222222222223},\n",
      "{0.16666666666666666,0.08333333333333333,0.05555555555555555,0.041666666666666664,0.03333333333333333,0.027777777777777776,0.023809523809523808,0.020833333333333332,0.018518518518518517},\n",
      "{0.14285714285714285,0.07142857142857142,0.047619047619047616,0.03571428571428571,0.02857142857142857,0.023809523809523808,0.02040816326530612,0.017857142857142856,0.015873015873015872},\n",
      "{0.125,0.0625,0.041666666666666664,0.03125,0.025,0.020833333333333332,0.017857142857142856,0.015625,0.013888888888888888},\n",
      "{0.1111111111111111,0.05555555555555555,0.037037037037037035,0.027777777777777776,0.022222222222222223,0.018518518518518517,0.015873015873015872,0.013888888888888888,0.012345679012345678},\n"
     ]
    }
   ],
   "source": [
    "for delta_fil in range(0,9): \n",
    "    s = \"{\"\n",
    "    for delta_rnk in range(0, 9):\n",
    "        s += str((1 / (delta_fil + 1.0)) * (1 / (delta_rnk + 1.0))) + ','\n",
    "        \n",
    "    print(s[:-1]+\"},\")\n",
    "        "
   ]
  },
  {
   "cell_type": "code",
   "execution_count": 5,
   "metadata": {
    "collapsed": true
   },
   "outputs": [],
   "source": [
    "ARR_WIDTH = 16"
   ]
  },
  {
   "cell_type": "code",
   "execution_count": 6,
   "metadata": {
    "collapsed": true
   },
   "outputs": [],
   "source": []
  },
  {
   "cell_type": "code",
   "execution_count": 7,
   "metadata": {
    "collapsed": true
   },
   "outputs": [],
   "source": [
    "FIL_ORIGIN = 2"
   ]
  },
  {
   "cell_type": "code",
   "execution_count": 8,
   "metadata": {
    "collapsed": true
   },
   "outputs": [],
   "source": [
    "RNK_ORIGIN = ((ARR_WIDTH - BOARD_WIDTH) / 2)"
   ]
  },
  {
   "cell_type": "code",
   "execution_count": 17,
   "metadata": {},
   "outputs": [
    {
     "name": "stdout",
     "output_type": "stream",
     "text": [
      "{51,52,53,54,55,56,57,58,59,60},\n",
      "{67,68,69,70,71,72,73,74,75,76},\n",
      "{83,84,85,86,87,88,89,90,91,92},\n",
      "{99,100,101,102,103,104,105,106,107,108},\n",
      "{115,116,117,118,119,120,121,122,123,124},\n",
      "{131,132,133,134,135,136,137,138,139,140},\n",
      "{147,148,149,150,151,152,153,154,155,156},\n",
      "{163,164,165,166,167,168,169,170,171,172},\n",
      "{179,180,181,182,183,184,185,186,187,188},\n",
      "{195,196,197,198,199,200,201,202,203,204},\n"
     ]
    }
   ],
   "source": [
    "for f in range(-1,9): \n",
    "    s = \"{\"\n",
    "    for r in range(-1, 9):\n",
    "        s += str(int(ARR_WIDTH * (FIL_ORIGIN + f) + RNK_ORIGIN + r)) + ','\n",
    "        \n",
    "    print(s[:-1]+\"},\")"
   ]
  },
  {
   "cell_type": "code",
   "execution_count": 18,
   "metadata": {
    "collapsed": true
   },
   "outputs": [],
   "source": [
    "FIL_MASK = 15\n",
    "FIL_SHIFT = 4\n",
    "RNK_MASK = 15\n",
    "RNK_SHIFT = 0"
   ]
  },
  {
   "cell_type": "code",
   "execution_count": 26,
   "metadata": {},
   "outputs": [
    {
     "name": "stdout",
     "output_type": "stream",
     "text": [
      "{-1,-1,-1,-1,-1,-1,-1,-1,-1,-1,-1,-1,-1,0,0,0,0,0,0,0,0,0,0,0,0,0,0,0,0,1,1,1,1,1,1,1,1,1,1,1,1,1,1,1,1,2,2,2,2,2,2,2,2,2,2,2,2,2,2,2,2,3,3,3,3,3,3,3,3,3,3,3,3,3,3,3,3,4,4,4,4,4,4,4,4,4,4,4,4,4,4,4,4,5,5,5,5,5,5,5,5,5,5,5,5,5,5,5,5,6,6,6,6,6,6,6,6,6,6,6,6,6,6,6,6,7,7,7,7,7,7,7,7,7,7,7,7,7,7,7,7,8,8,8,8,8,8,8,8,8,8,8,8,8}\n"
     ]
    }
   ],
   "source": [
    "s = \"{\"\n",
    "for sq in range(51,205): \n",
    "    s += str(int(((sq >> FIL_SHIFT) & FIL_MASK) - FIL_ORIGIN)) + ','\n",
    "        \n",
    "print(s[:-1]+\"}\")\n",
    "\n",
    "#fil_t f = ((sq >> FIL_SHIFT) & FIL_MASK) - FIL_ORIGIN;\n",
    "\n",
    "#rnk_t r = ((sq >> RNK_SHIFT) & RNK_MASK) - RNK_ORIGIN;"
   ]
  },
  {
   "cell_type": "code",
   "execution_count": 29,
   "metadata": {},
   "outputs": [
    {
     "name": "stdout",
     "output_type": "stream",
     "text": [
      "{-1,0,1,2,3,4,5,6,7,8,9,10,11,-4,-3,-2,-1,0,1,2,3,4,5,6,7,8,9,10,11,-4,-3,-2,-1,0,1,2,3,4,5,6,7,8,9,10,11,-4,-3,-2,-1,0,1,2,3,4,5,6,7,8,9,10,11,-4,-3,-2,-1,0,1,2,3,4,5,6,7,8,9,10,11,-4,-3,-2,-1,0,1,2,3,4,5,6,7,8,9,10,11,-4,-3,-2,-1,0,1,2,3,4,5,6,7,8,9,10,11,-4,-3,-2,-1,0,1,2,3,4,5,6,7,8,9,10,11,-4,-3,-2,-1,0,1,2,3,4,5,6,7,8,9,10,11,-4,-3,-2,-1,0,1,2,3,4,5,6,7,8}\n"
     ]
    }
   ],
   "source": [
    "s = \"{\"\n",
    "for sq in range(51,205): \n",
    "    s += str(int(((sq >> RNK_SHIFT) & RNK_MASK) - RNK_ORIGIN)) + ','\n",
    "print(s[:-1]+\"}\")"
   ]
  },
  {
   "cell_type": "code",
   "execution_count": null,
   "metadata": {
    "collapsed": true
   },
   "outputs": [],
   "source": []
  }
 ],
 "metadata": {
  "kernelspec": {
   "display_name": "Python 3",
   "language": "python",
   "name": "python3"
  },
  "language_info": {
   "codemirror_mode": {
    "name": "ipython",
    "version": 3
   },
   "file_extension": ".py",
   "mimetype": "text/x-python",
   "name": "python",
   "nbconvert_exporter": "python",
   "pygments_lexer": "ipython3",
   "version": "3.7.2"
  }
 },
 "nbformat": 4,
 "nbformat_minor": 2
}
