{
 "cells": [
  {
   "cell_type": "code",
   "execution_count": 51,
   "metadata": {},
   "outputs": [],
   "source": [
    "#from fancyimpute import KNN"
   ]
  },
  {
   "cell_type": "code",
   "execution_count": 1,
   "metadata": {},
   "outputs": [],
   "source": [
    "import pandas as pd\n",
    "from sklearn.linear_model import LogisticRegression\n",
    "from sklearn.preprocessing import LabelBinarizer, OneHotEncoder\n",
    "from sklearn.model_selection import train_test_split\n",
    "from sklearn.impute import SimpleImputer\n",
    "from sklearn.multiclass import OneVsRestClassifier\n",
    "import numpy as np\n",
    "import matplotlib.pyplot as plt"
   ]
  },
  {
   "cell_type": "code",
   "execution_count": 80,
   "metadata": {},
   "outputs": [],
   "source": [
    "filename = 'dataset_diabetes/diabetic_data.csv'"
   ]
  },
  {
   "cell_type": "code",
   "execution_count": 81,
   "metadata": {},
   "outputs": [],
   "source": [
    "data = pd.read_csv(filename)"
   ]
  },
  {
   "cell_type": "code",
   "execution_count": 82,
   "metadata": {},
   "outputs": [
    {
     "name": "stdout",
     "output_type": "stream",
     "text": [
      "0.4608808442898414\n"
     ]
    }
   ],
   "source": [
    "y_ternary = data.loc[:, data.columns == \"readmitted\"] # old 3-way classification\n",
    "y = data.replace(to_replace={'>30': 'YES', '<30': 'YES'}).loc[:, data.columns == \"readmitted\"]\n",
    "freq_readmission = y['readmitted'].value_counts().to_dict()\n",
    "print(freq_readmission['YES']/sum(freq_readmission.values()))\n",
    "X = data.drop(columns=[\"readmitted\", \"weight\", \"encounter_id\", \"patient_nbr\"])"
   ]
  },
  {
   "cell_type": "code",
   "execution_count": 83,
   "metadata": {},
   "outputs": [
    {
     "data": {
      "text/plain": [
       "Index(['race', 'gender', 'age', 'admission_type_id',\n",
       "       'discharge_disposition_id', 'admission_source_id', 'time_in_hospital',\n",
       "       'payer_code', 'medical_specialty', 'num_lab_procedures',\n",
       "       'num_procedures', 'num_medications', 'number_outpatient',\n",
       "       'number_emergency', 'number_inpatient', 'diag_1', 'diag_2', 'diag_3',\n",
       "       'number_diagnoses', 'max_glu_serum', 'A1Cresult', 'metformin',\n",
       "       'repaglinide', 'nateglinide', 'chlorpropamide', 'glimepiride',\n",
       "       'acetohexamide', 'glipizide', 'glyburide', 'tolbutamide',\n",
       "       'pioglitazone', 'rosiglitazone', 'acarbose', 'miglitol', 'troglitazone',\n",
       "       'tolazamide', 'examide', 'citoglipton', 'insulin',\n",
       "       'glyburide-metformin', 'glipizide-metformin',\n",
       "       'glimepiride-pioglitazone', 'metformin-rosiglitazone',\n",
       "       'metformin-pioglitazone', 'change', 'diabetesMed', 'diag_1_desc',\n",
       "       'diag_2_desc', 'diag_3_desc'],\n",
       "      dtype='object')"
      ]
     },
     "execution_count": 83,
     "metadata": {},
     "output_type": "execute_result"
    }
   ],
   "source": [
    "X.columns"
   ]
  },
  {
   "cell_type": "code",
   "execution_count": 84,
   "metadata": {},
   "outputs": [],
   "source": [
    "lb = LabelBinarizer()\n",
    "one = OneHotEncoder()"
   ]
  },
  {
   "cell_type": "code",
   "execution_count": 85,
   "metadata": {},
   "outputs": [
    {
     "data": {
      "text/plain": [
       "array(['NO', 'YES'], dtype='<U3')"
      ]
     },
     "execution_count": 85,
     "metadata": {},
     "output_type": "execute_result"
    }
   ],
   "source": [
    "y_transformed = lb.fit_transform(y)\n",
    "lb.classes_"
   ]
  },
  {
   "cell_type": "code",
   "execution_count": 86,
   "metadata": {},
   "outputs": [],
   "source": [
    "X_clean = X.replace(\"?\", np.nan)"
   ]
  },
  {
   "cell_type": "code",
   "execution_count": 87,
   "metadata": {},
   "outputs": [],
   "source": [
    "X_train, X_test, y_train, y_test = train_test_split(X_clean, y_transformed, test_size=0.20)"
   ]
  },
  {
   "cell_type": "code",
   "execution_count": 88,
   "metadata": {},
   "outputs": [],
   "source": [
    "imp_mode = SimpleImputer(missing_values=np.nan, strategy=\"most_frequent\")\n",
    "imp_unknown = SimpleImputer(missing_values=np.nan, strategy=\"constant\", fill_value=\"Unknown\")"
   ]
  },
  {
   "cell_type": "code",
   "execution_count": 101,
   "metadata": {},
   "outputs": [
    {
     "name": "stdout",
     "output_type": "stream",
     "text": [
      "[['Caucasian' 'Female' '[70-80)' ...\n",
      "  'ARTHROPATHIES AND RELATED DISORDERS ' 'OTHER FORMS OF HEART DISEASE '\n",
      "  'CHRONIC OBSTRUCTIVE PULMONARY DISEASE AND ALLIED CONDITIONS ']\n",
      " ['Caucasian' 'Female' '[70-80)' ...\n",
      "  'MALIGNANT NEOPLASM OF LYMPHATIC AND HEMATOPOIETIC TISSUE '\n",
      "  'OTHER DISEASES OF RESPIRATORY SYSTEM '\n",
      "  'DISEASES OF OTHER ENDOCRINE GLANDS ']\n",
      " ['Caucasian' 'Female' '[70-80)' ... 'ISCHEMIC HEART DISEASE '\n",
      "  'OTHER FORMS OF HEART DISEASE ' 'PNEUMONIA AND INFLUENZA ']\n",
      " ...\n",
      " ['Caucasian' 'Male' '[80-90)' ... 'ISCHEMIC HEART DISEASE '\n",
      "  'OTHER FORMS OF HEART DISEASE '\n",
      "  'MALIGNANT NEOPLASM OF RESPIRATORY AND INTRATHORACIC ORGANS ']\n",
      " ['Caucasian' 'Female' '[60-70)' ...\n",
      "  'COMPLICATIONS OF SURGICAL AND MEDICAL CARE, NOT ELSEWHERE CLASSIFIED '\n",
      "  'DISEASES OF ARTERIES, ARTERIOLES, AND CAPILLARIES '\n",
      "  'DISEASES OF OTHER ENDOCRINE GLANDS ']\n",
      " ['AfricanAmerican' 'Male' '[60-70)' ... 'OTHER FORMS OF HEART DISEASE '\n",
      "  'CHRONIC OBSTRUCTIVE PULMONARY DISEASE AND ALLIED CONDITIONS '\n",
      "  'DISEASES OF OTHER ENDOCRINE GLANDS ']]\n"
     ]
    }
   ],
   "source": [
    "X_unknown_train = imp_unknown.fit_transform(X_train)\n",
    "X_unknown_test = imp_unknown.transform(X_test)\n",
    "print(X_unknown_train)"
   ]
  },
  {
   "cell_type": "code",
   "execution_count": 90,
   "metadata": {
    "scrolled": true
   },
   "outputs": [],
   "source": [
    "X_mode_train = imp_mode.fit_transform(X_train)"
   ]
  },
  {
   "cell_type": "code",
   "execution_count": 68,
   "metadata": {},
   "outputs": [],
   "source": [
    "X_mode_test = imp_mode.transform(X_test)"
   ]
  },
  {
   "cell_type": "code",
   "execution_count": 143,
   "metadata": {},
   "outputs": [
    {
     "name": "stdout",
     "output_type": "stream",
     "text": [
      "Index(['gender', 'age', 'admission_type_id', 'discharge_disposition_id',\n",
      "       'admission_source_id', 'time_in_hospital', 'num_lab_procedures',\n",
      "       'num_procedures', 'num_medications', 'number_outpatient',\n",
      "       'number_emergency', 'number_inpatient', 'number_diagnoses',\n",
      "       'max_glu_serum', 'A1Cresult', 'metformin', 'repaglinide', 'nateglinide',\n",
      "       'chlorpropamide', 'glimepiride', 'acetohexamide', 'glipizide',\n",
      "       'glyburide', 'tolbutamide', 'pioglitazone', 'rosiglitazone', 'acarbose',\n",
      "       'miglitol', 'troglitazone', 'tolazamide', 'examide', 'citoglipton',\n",
      "       'insulin', 'glyburide-metformin', 'glipizide-metformin',\n",
      "       'glimepiride-pioglitazone', 'metformin-rosiglitazone',\n",
      "       'metformin-pioglitazone', 'change', 'diabetesMed'],\n",
      "      dtype='object')\n"
     ]
    }
   ],
   "source": [
    "X_drop_train = X_train.dropna(axis=1)\n",
    "X_drop_test = X_test.dropna(axis=1)"
   ]
  },
  {
   "cell_type": "code",
   "execution_count": 102,
   "metadata": {},
   "outputs": [
    {
     "ename": "NotFittedError",
     "evalue": "This OneHotEncoder instance is not fitted yet. Call 'fit' with appropriate arguments before using this method.",
     "output_type": "error",
     "traceback": [
      "\u001b[0;31m---------------------------------------------------------------------------\u001b[0m",
      "\u001b[0;31mNotFittedError\u001b[0m                            Traceback (most recent call last)",
      "\u001b[0;32m<ipython-input-102-b18731f004d1>\u001b[0m in \u001b[0;36m<module>\u001b[0;34m\u001b[0m\n\u001b[1;32m      2\u001b[0m \u001b[0menc_unknown\u001b[0m \u001b[0;34m=\u001b[0m \u001b[0mOneHotEncoder\u001b[0m\u001b[0;34m(\u001b[0m\u001b[0mhandle_unknown\u001b[0m\u001b[0;34m=\u001b[0m\u001b[0;34m\"ignore\"\u001b[0m\u001b[0;34m)\u001b[0m\u001b[0;34m\u001b[0m\u001b[0;34m\u001b[0m\u001b[0m\n\u001b[1;32m      3\u001b[0m \u001b[0menc_drop\u001b[0m \u001b[0;34m=\u001b[0m \u001b[0mOneHotEncoder\u001b[0m\u001b[0;34m(\u001b[0m\u001b[0mhandle_unknown\u001b[0m\u001b[0;34m=\u001b[0m\u001b[0;34m\"ignore\"\u001b[0m\u001b[0;34m)\u001b[0m\u001b[0;34m\u001b[0m\u001b[0;34m\u001b[0m\u001b[0m\n\u001b[0;32m----> 4\u001b[0;31m \u001b[0mprint\u001b[0m\u001b[0;34m(\u001b[0m\u001b[0menc_mode\u001b[0m\u001b[0;34m.\u001b[0m\u001b[0mget_feature_names\u001b[0m\u001b[0;34m(\u001b[0m\u001b[0;34m)\u001b[0m\u001b[0;34m)\u001b[0m\u001b[0;34m\u001b[0m\u001b[0;34m\u001b[0m\u001b[0m\n\u001b[0m",
      "\u001b[0;32m/Library/Frameworks/Python.framework/Versions/3.7/lib/python3.7/site-packages/sklearn/preprocessing/_encoders.py\u001b[0m in \u001b[0;36mget_feature_names\u001b[0;34m(self, input_features)\u001b[0m\n\u001b[1;32m    694\u001b[0m \u001b[0;34m\u001b[0m\u001b[0m\n\u001b[1;32m    695\u001b[0m         \"\"\"\n\u001b[0;32m--> 696\u001b[0;31m         \u001b[0mcheck_is_fitted\u001b[0m\u001b[0;34m(\u001b[0m\u001b[0mself\u001b[0m\u001b[0;34m,\u001b[0m \u001b[0;34m'categories_'\u001b[0m\u001b[0;34m)\u001b[0m\u001b[0;34m\u001b[0m\u001b[0;34m\u001b[0m\u001b[0m\n\u001b[0m\u001b[1;32m    697\u001b[0m         \u001b[0mcats\u001b[0m \u001b[0;34m=\u001b[0m \u001b[0mself\u001b[0m\u001b[0;34m.\u001b[0m\u001b[0mcategories_\u001b[0m\u001b[0;34m\u001b[0m\u001b[0;34m\u001b[0m\u001b[0m\n\u001b[1;32m    698\u001b[0m         \u001b[0;32mif\u001b[0m \u001b[0minput_features\u001b[0m \u001b[0;32mis\u001b[0m \u001b[0;32mNone\u001b[0m\u001b[0;34m:\u001b[0m\u001b[0;34m\u001b[0m\u001b[0;34m\u001b[0m\u001b[0m\n",
      "\u001b[0;32m/Library/Frameworks/Python.framework/Versions/3.7/lib/python3.7/site-packages/sklearn/utils/validation.py\u001b[0m in \u001b[0;36mcheck_is_fitted\u001b[0;34m(estimator, attributes, msg, all_or_any)\u001b[0m\n\u001b[1;32m    949\u001b[0m \u001b[0;34m\u001b[0m\u001b[0m\n\u001b[1;32m    950\u001b[0m     \u001b[0;32mif\u001b[0m \u001b[0;32mnot\u001b[0m \u001b[0mall_or_any\u001b[0m\u001b[0;34m(\u001b[0m\u001b[0;34m[\u001b[0m\u001b[0mhasattr\u001b[0m\u001b[0;34m(\u001b[0m\u001b[0mestimator\u001b[0m\u001b[0;34m,\u001b[0m \u001b[0mattr\u001b[0m\u001b[0;34m)\u001b[0m \u001b[0;32mfor\u001b[0m \u001b[0mattr\u001b[0m \u001b[0;32min\u001b[0m \u001b[0mattributes\u001b[0m\u001b[0;34m]\u001b[0m\u001b[0;34m)\u001b[0m\u001b[0;34m:\u001b[0m\u001b[0;34m\u001b[0m\u001b[0;34m\u001b[0m\u001b[0m\n\u001b[0;32m--> 951\u001b[0;31m         \u001b[0;32mraise\u001b[0m \u001b[0mNotFittedError\u001b[0m\u001b[0;34m(\u001b[0m\u001b[0mmsg\u001b[0m \u001b[0;34m%\u001b[0m \u001b[0;34m{\u001b[0m\u001b[0;34m'name'\u001b[0m\u001b[0;34m:\u001b[0m \u001b[0mtype\u001b[0m\u001b[0;34m(\u001b[0m\u001b[0mestimator\u001b[0m\u001b[0;34m)\u001b[0m\u001b[0;34m.\u001b[0m\u001b[0m__name__\u001b[0m\u001b[0;34m}\u001b[0m\u001b[0;34m)\u001b[0m\u001b[0;34m\u001b[0m\u001b[0;34m\u001b[0m\u001b[0m\n\u001b[0m\u001b[1;32m    952\u001b[0m \u001b[0;34m\u001b[0m\u001b[0m\n\u001b[1;32m    953\u001b[0m \u001b[0;34m\u001b[0m\u001b[0m\n",
      "\u001b[0;31mNotFittedError\u001b[0m: This OneHotEncoder instance is not fitted yet. Call 'fit' with appropriate arguments before using this method."
     ]
    }
   ],
   "source": [
    "enc_mode = OneHotEncoder(handle_unknown=\"ignore\")\n",
    "enc_unknown = OneHotEncoder(handle_unknown=\"ignore\")\n",
    "enc_drop = OneHotEncoder(handle_unknown=\"ignore\")"
   ]
  },
  {
   "cell_type": "code",
   "execution_count": 141,
   "metadata": {
    "scrolled": false
   },
   "outputs": [],
   "source": [
    "X_unknown_train_c = enc_unknown.fit_transform(X_unknown_train)\n",
    "X_unknown_test_c = enc_unknown.transform(X_unknown_test)\n",
    "coef_labels_unknown = enc_unknown.get_feature_names([x + '&' for x in X.columns.tolist()])\n",
    "\n",
    "X_mode_train_c = enc_mode.fit_transform(X_mode_train)\n",
    "X_mode_test_c = enc_mode.transform(X_mode_test)\n",
    "coef_labels_mode = enc_mode.get_feature_names(X.columns)\n",
    "\n",
    "X_drop_train_c = enc_drop.fit_transform(X_drop_train)\n",
    "X_drop_test_c = enc_drop.transform(X_drop_test)\n",
    "coef_labels_drop = enc_drop.get_feature_names(X_drop_train.columns)"
   ]
  },
  {
   "cell_type": "code",
   "execution_count": 99,
   "metadata": {},
   "outputs": [
    {
     "data": {
      "text/plain": [
       "(81412, 901)"
      ]
     },
     "execution_count": 99,
     "metadata": {},
     "output_type": "execute_result"
    }
   ],
   "source": [
    "X_unknown_train_c.shape"
   ]
  },
  {
   "cell_type": "code",
   "execution_count": 73,
   "metadata": {},
   "outputs": [
    {
     "data": {
      "text/plain": [
       "(81412, 1)"
      ]
     },
     "execution_count": 73,
     "metadata": {},
     "output_type": "execute_result"
    }
   ],
   "source": [
    "y_train.shape"
   ]
  },
  {
   "cell_type": "code",
   "execution_count": 74,
   "metadata": {},
   "outputs": [
    {
     "name": "stderr",
     "output_type": "stream",
     "text": [
      "/Library/Frameworks/Python.framework/Versions/3.7/lib/python3.7/site-packages/sklearn/linear_model/logistic.py:433: FutureWarning: Default solver will be changed to 'lbfgs' in 0.22. Specify a solver to silence this warning.\n",
      "  FutureWarning)\n",
      "/Library/Frameworks/Python.framework/Versions/3.7/lib/python3.7/site-packages/sklearn/utils/validation.py:761: DataConversionWarning: A column-vector y was passed when a 1d array was expected. Please change the shape of y to (n_samples, ), for example using ravel().\n",
      "  y = column_or_1d(y, warn=True)\n"
     ]
    },
    {
     "data": {
      "text/plain": [
       "LogisticRegression(C=1.0, class_weight=None, dual=False, fit_intercept=True,\n",
       "          intercept_scaling=1, max_iter=100, multi_class='warn',\n",
       "          n_jobs=None, penalty='l2', random_state=None, solver='warn',\n",
       "          tol=0.0001, verbose=0, warm_start=False)"
      ]
     },
     "execution_count": 74,
     "metadata": {},
     "output_type": "execute_result"
    }
   ],
   "source": [
    "# classif = OneVsRestClassifier(LogisticRegression())\n",
    "classif = LogisticRegression()\n",
    "classif.fit(X_unknown_train_c, y_train)"
   ]
  },
  {
   "cell_type": "code",
   "execution_count": 93,
   "metadata": {},
   "outputs": [
    {
     "name": "stdout",
     "output_type": "stream",
     "text": [
      "0.5057973862631424\n",
      "0.38498575218630243\n"
     ]
    }
   ],
   "source": [
    "print(classif.score(X_unknown_test_c, y_test))\n",
    "predictions = lb.inverse_transform(classif.predict(X_unknown_test_c))\n",
    "print(sum(predictions == 'YES')/len(predictions)) # percentage of predictions labeled YES\n",
    "# clf_unknown = OneVsRestClassifier(LogisticRegression()).fit(X_unknown_train_c, y_train)\n",
    "clf_unknown = LogisticRegression().fit(X_unknown_train_c, y_train)"
   ]
  },
  {
   "cell_type": "code",
   "execution_count": 140,
   "metadata": {},
   "outputs": [
    {
     "name": "stdout",
     "output_type": "stream",
     "text": [
      "['diag_3', 'diag_2', 'diag_3_desc', 'diag_2_desc', 'diag_1', 'diag_1_desc', 'num_lab_procedures', 'num_medications', 'medical_specialty', 'number_outpatient', 'number_emergency', 'discharge_disposition_id', 'number_inpatient', 'payer_code', 'admission_source_id', 'number_diagnoses', 'time_in_hospital', 'age', 'admission_type_id', 'num_procedures', 'race', 'chlorpropamide', 'glyburide-metformin', 'acarbose', 'miglitol', 'nateglinide', 'repaglinide', 'pioglitazone', 'glyburide', 'max_glu_serum', 'rosiglitazone', 'metformin', 'glimepiride', 'glipizide', 'A1Cresult', 'insulin', 'tolazamide', 'gender', 'glimepiride-pioglitazone', 'troglitazone', 'glipizide-metformin', 'acetohexamide', 'tolbutamide', 'metformin-pioglitazone', 'metformin-rosiglitazone', 'diabetesMed', 'change', 'examide', 'citoglipton']\n",
      "[0.00018966409829311153, 0.00020958679767136656, 0.00021782383341476205, 0.00024214397012587818, 0.0002934215167004358, 0.00039588617332717333, 0.00043001429175732294, 0.0006833103813693693, 0.0007229225779156854, 0.0013481529134582058, 0.0016627219279235985, 0.0019185253021739824, 0.0023753170397477564, 0.002771203217408036, 0.0029342151664349227, 0.003117603616627433, 0.003562975559892001, 0.004988165784896867, 0.006235207237927545, 0.0071259511309291175, 0.00831360964517968, 0.012470414420720416, 0.012470414421757059, 0.012470414421995979, 0.012470414422023512, 0.01247041442281166, 0.012470414433600065, 0.012470414433612808, 0.012470414434211088, 0.012470414435463185, 0.012470414437241003, 0.012470414438624147, 0.012470414440105146, 0.012470414459358821, 0.012470414464403723, 0.012470414478389147, 0.01662721923093056, 0.016627219293589124, 0.02494082884357822, 0.02494082884367993, 0.02494082884400603, 0.024940828844517537, 0.02494082884503096, 0.024940828846151855, 0.02494082884662238, 0.024940828919003323, 0.02494082892435544, 0.04988165768757998, 0.04988165768757998]\n"
     ]
    }
   ],
   "source": [
    "_, n = clf_unknown.coef_.shape\n",
    "coefs = np.array([np.reshape(coef_labels_unknown, n), np.reshape(clf_unknown.coef_,n)]).tolist()\n",
    "var_coefs = {}\n",
    "for i in range(len(coefs[0])):\n",
    "    result = coefs[0][i].split('&')\n",
    "    var = result[0]\n",
    "    coef = coefs[1][i]\n",
    "    if var not in var_coefs:\n",
    "        var_coefs[var] = [coef]\n",
    "    else:\n",
    "        var_coefs[var].append(coef)\n",
    "var_avg = {}\n",
    "for var in var_coefs:\n",
    "    var_avg[var] = np.mean(var_coefs[var])\n",
    "sorted_vars = sorted(list(var_avg.keys()), key= lambda x: var_avg[x])\n",
    "print(sorted_vars)\n",
    "print([var_avg[var] for var in sorted_vars])"
   ]
  },
  {
   "cell_type": "code",
   "execution_count": 77,
   "metadata": {},
   "outputs": [],
   "source": [
    "# clf_mode = OneVsRestClassifier(LogisticRegression()).fit(X_mode_train_c, y_train)\n",
    "clf_mode = LogisticRegression().fit(X_mode_train_c, y_train)"
   ]
  },
  {
   "cell_type": "code",
   "execution_count": 78,
   "metadata": {},
   "outputs": [],
   "source": [
    "# clf_drop = OneVsRestClassifier(LogisticRegression()).fit(X_drop_train_c, y_train)\n",
    "clf_drop = LogisticRegression().fit(X_drop_train_c, y_train)"
   ]
  },
  {
   "cell_type": "code",
   "execution_count": 79,
   "metadata": {},
   "outputs": [
    {
     "name": "stdout",
     "output_type": "stream",
     "text": [
      "0.6406603124692936\n",
      "0.638842487963054\n",
      "0.6365333595362092\n"
     ]
    }
   ],
   "source": [
    "print(clf_unknown.score(X_unknown_test_c, y_test))\n",
    "print(clf_mode.score(X_mode_test_c, y_test))\n",
    "print(clf_drop.score(X_drop_test_c, y_test))"
   ]
  },
  {
   "cell_type": "code",
   "execution_count": 149,
   "metadata": {
    "scrolled": false
   },
   "outputs": [
    {
     "name": "stdout",
     "output_type": "stream",
     "text": [
      "dataset_diabetes/diabetic_data.csv\n"
     ]
    },
    {
     "name": "stderr",
     "output_type": "stream",
     "text": [
      "/Library/Frameworks/Python.framework/Versions/3.7/lib/python3.7/site-packages/sklearn/linear_model/logistic.py:433: FutureWarning: Default solver will be changed to 'lbfgs' in 0.22. Specify a solver to silence this warning.\n",
      "  FutureWarning)\n",
      "/Library/Frameworks/Python.framework/Versions/3.7/lib/python3.7/site-packages/sklearn/utils/validation.py:761: DataConversionWarning: A column-vector y was passed when a 1d array was expected. Please change the shape of y to (n_samples, ), for example using ravel().\n",
      "  y = column_or_1d(y, warn=True)\n"
     ]
    },
    {
     "name": "stdout",
     "output_type": "stream",
     "text": [
      "percentage of predictions labeled YES: 0.36975533064753857\n",
      "\\begin{tabular}{llr}\n",
      "\\toprule\n",
      "{} &                      raw\\_coef &       val \\\\\n",
      "\\midrule\n",
      "0 &  discharge\\_disposition\\_id\\&\\_11 &  5.254451 \\\\\n",
      "1 &  discharge\\_disposition\\_id\\&\\_14 &  2.292742 \\\\\n",
      "2 &           number\\_inpatient\\&\\_0 &  1.681499 \\\\\n",
      "3 &          admission\\_type\\_id\\&\\_7 &  1.581700 \\\\\n",
      "4 &  discharge\\_disposition\\_id\\&\\_15 &  1.357252 \\\\\n",
      "5 &  discharge\\_disposition\\_id\\&\\_13 &  1.314563 \\\\\n",
      "6 &          number\\_inpatient\\&\\_11 &  1.292421 \\\\\n",
      "7 &          number\\_emergency\\&\\_10 &  1.142797 \\\\\n",
      "8 &           number\\_inpatient\\&\\_1 &  1.126665 \\\\\n",
      "9 &           number\\_emergency\\&\\_0 &  1.098930 \\\\\n",
      "\\bottomrule\n",
      "\\end{tabular}\n",
      "\n",
      "\\begin{tabular}{llr}\n",
      "\\toprule\n",
      "{} &                  avg\\_coef &       val \\\\\n",
      "\\midrule\n",
      "0 &  discharge\\_disposition\\_id &  0.819382 \\\\\n",
      "1 &          number\\_inpatient &  0.569192 \\\\\n",
      "2 &   metformin-rosiglitazone &  0.454738 \\\\\n",
      "3 &       glyburide-metformin &  0.442071 \\\\\n",
      "4 &         admission\\_type\\_id &  0.437827 \\\\\n",
      "5 &            chlorpropamide &  0.359849 \\\\\n",
      "6 &                  acarbose &  0.351004 \\\\\n",
      "7 &          number\\_emergency &  0.343366 \\\\\n",
      "8 &                    gender &  0.337595 \\\\\n",
      "9 &         medical\\_specialty &  0.325613 \\\\\n",
      "\\bottomrule\n",
      "\\end{tabular}\n",
      "\n",
      "\\begin{tabular}{llr}\n",
      "\\toprule\n",
      "{} &                     raw\\_coef &       val \\\\\n",
      "\\midrule\n",
      "0 &  discharge\\_disposition\\_id\\_11 &  5.264144 \\\\\n",
      "1 &  discharge\\_disposition\\_id\\_14 &  2.303055 \\\\\n",
      "2 &           number\\_inpatient\\_0 &  1.679622 \\\\\n",
      "3 &          admission\\_type\\_id\\_7 &  1.597554 \\\\\n",
      "4 &  discharge\\_disposition\\_id\\_15 &  1.414501 \\\\\n",
      "5 &  discharge\\_disposition\\_id\\_13 &  1.326285 \\\\\n",
      "6 &          number\\_inpatient\\_11 &  1.305790 \\\\\n",
      "7 &          number\\_emergency\\_10 &  1.154601 \\\\\n",
      "8 &           number\\_inpatient\\_1 &  1.124619 \\\\\n",
      "9 &           number\\_emergency\\_0 &  1.086461 \\\\\n",
      "\\bottomrule\n",
      "\\end{tabular}\n",
      "\n",
      "\\begin{tabular}{llr}\n",
      "\\toprule\n",
      "{} &                     avg\\_coef &       val \\\\\n",
      "\\midrule\n",
      "0 &  discharge\\_disposition\\_id\\_11 &  5.264144 \\\\\n",
      "1 &  discharge\\_disposition\\_id\\_14 &  2.303055 \\\\\n",
      "2 &           number\\_inpatient\\_0 &  1.679622 \\\\\n",
      "3 &          admission\\_type\\_id\\_7 &  1.597554 \\\\\n",
      "4 &  discharge\\_disposition\\_id\\_15 &  1.414501 \\\\\n",
      "5 &  discharge\\_disposition\\_id\\_13 &  1.326285 \\\\\n",
      "6 &          number\\_inpatient\\_11 &  1.305790 \\\\\n",
      "7 &          number\\_emergency\\_10 &  1.154601 \\\\\n",
      "8 &           number\\_inpatient\\_1 &  1.124619 \\\\\n",
      "9 &           number\\_emergency\\_0 &  1.086461 \\\\\n",
      "\\bottomrule\n",
      "\\end{tabular}\n",
      "\n",
      "\\begin{tabular}{llr}\n",
      "\\toprule\n",
      "{} &                     raw\\_coef &       val \\\\\n",
      "\\midrule\n",
      "0 &  discharge\\_disposition\\_id\\_11 &  5.242810 \\\\\n",
      "1 &  discharge\\_disposition\\_id\\_14 &  2.305143 \\\\\n",
      "2 &           number\\_inpatient\\_0 &  1.721865 \\\\\n",
      "3 &          admission\\_type\\_id\\_7 &  1.617368 \\\\\n",
      "4 &  discharge\\_disposition\\_id\\_15 &  1.446711 \\\\\n",
      "5 &  discharge\\_disposition\\_id\\_13 &  1.343464 \\\\\n",
      "6 &          number\\_inpatient\\_11 &  1.295677 \\\\\n",
      "7 &           number\\_inpatient\\_1 &  1.151574 \\\\\n",
      "8 &          number\\_emergency\\_10 &  1.122338 \\\\\n",
      "9 &       admission\\_source\\_id\\_20 &  1.081828 \\\\\n",
      "\\bottomrule\n",
      "\\end{tabular}\n",
      "\n",
      "\\begin{tabular}{llr}\n",
      "\\toprule\n",
      "{} &                     avg\\_coef &       val \\\\\n",
      "\\midrule\n",
      "0 &  discharge\\_disposition\\_id\\_11 &  5.242810 \\\\\n",
      "1 &  discharge\\_disposition\\_id\\_14 &  2.305143 \\\\\n",
      "2 &           number\\_inpatient\\_0 &  1.721865 \\\\\n",
      "3 &          admission\\_type\\_id\\_7 &  1.617368 \\\\\n",
      "4 &  discharge\\_disposition\\_id\\_15 &  1.446711 \\\\\n",
      "5 &  discharge\\_disposition\\_id\\_13 &  1.343464 \\\\\n",
      "6 &          number\\_inpatient\\_11 &  1.295677 \\\\\n",
      "7 &           number\\_inpatient\\_1 &  1.151574 \\\\\n",
      "8 &          number\\_emergency\\_10 &  1.122338 \\\\\n",
      "9 &       admission\\_source\\_id\\_20 &  1.081828 \\\\\n",
      "\\bottomrule\n",
      "\\end{tabular}\n",
      "\n",
      "unknown test error: 0.6396777046280829\n",
      "mode test error: 0.6385968360027513\n",
      "drop test error: 0.6370737938488749\n",
      "dataset_diabetes/diabetic_data_clustered1.csv\n"
     ]
    },
    {
     "name": "stderr",
     "output_type": "stream",
     "text": [
      "/Library/Frameworks/Python.framework/Versions/3.7/lib/python3.7/site-packages/sklearn/linear_model/logistic.py:433: FutureWarning: Default solver will be changed to 'lbfgs' in 0.22. Specify a solver to silence this warning.\n",
      "  FutureWarning)\n",
      "/Library/Frameworks/Python.framework/Versions/3.7/lib/python3.7/site-packages/sklearn/utils/validation.py:761: DataConversionWarning: A column-vector y was passed when a 1d array was expected. Please change the shape of y to (n_samples, ), for example using ravel().\n",
      "  y = column_or_1d(y, warn=True)\n"
     ]
    },
    {
     "name": "stdout",
     "output_type": "stream",
     "text": [
      "percentage of predictions labeled YES: 0.3775670629851626\n",
      "\\begin{tabular}{llr}\n",
      "\\toprule\n",
      "{} &                                           raw\\_coef &       val \\\\\n",
      "\\midrule\n",
      "0 &                       discharge\\_disposition\\_id\\&\\_11 &  5.277066 \\\\\n",
      "1 &                       discharge\\_disposition\\_id\\&\\_14 &  2.059569 \\\\\n",
      "2 &                                number\\_inpatient\\&\\_0 &  1.682145 \\\\\n",
      "3 &                       discharge\\_disposition\\_id\\&\\_13 &  1.383959 \\\\\n",
      "4 &                               admission\\_type\\_id\\&\\_7 &  1.322209 \\\\\n",
      "5 &                               number\\_inpatient\\&\\_11 &  1.275093 \\\\\n",
      "6 &  diag\\_3\\_desc\\&\\_PERSONS ENCOUNTERING HEALTH SERVI... &  1.245800 \\\\\n",
      "7 &                       discharge\\_disposition\\_id\\&\\_15 &  1.209210 \\\\\n",
      "8 &                               number\\_emergency\\&\\_10 &  1.196816 \\\\\n",
      "9 &                                number\\_inpatient\\&\\_1 &  1.147713 \\\\\n",
      "\\bottomrule\n",
      "\\end{tabular}\n",
      "\n",
      "\\begin{tabular}{llr}\n",
      "\\toprule\n",
      "{} &                  avg\\_coef &       val \\\\\n",
      "\\midrule\n",
      "0 &  discharge\\_disposition\\_id &  0.797019 \\\\\n",
      "1 &          number\\_inpatient &  0.564332 \\\\\n",
      "2 &               tolbutamide &  0.405158 \\\\\n",
      "3 &         admission\\_type\\_id &  0.360755 \\\\\n",
      "4 &       glyburide-metformin &  0.352398 \\\\\n",
      "5 &                  miglitol &  0.338639 \\\\\n",
      "6 &          number\\_emergency &  0.326632 \\\\\n",
      "7 &                  acarbose &  0.318232 \\\\\n",
      "8 &         number\\_outpatient &  0.307868 \\\\\n",
      "9 &               diag\\_2\\_desc &  0.305325 \\\\\n",
      "\\bottomrule\n",
      "\\end{tabular}\n",
      "\n",
      "\\begin{tabular}{llr}\n",
      "\\toprule\n",
      "{} &                                           raw\\_coef &       val \\\\\n",
      "\\midrule\n",
      "0 &                        discharge\\_disposition\\_id\\_11 &  5.297115 \\\\\n",
      "1 &                        discharge\\_disposition\\_id\\_14 &  2.054342 \\\\\n",
      "2 &                                 number\\_inpatient\\_0 &  1.678765 \\\\\n",
      "3 &                        discharge\\_disposition\\_id\\_13 &  1.386482 \\\\\n",
      "4 &                                admission\\_type\\_id\\_7 &  1.325311 \\\\\n",
      "5 &                                number\\_inpatient\\_11 &  1.278885 \\\\\n",
      "6 &                        discharge\\_disposition\\_id\\_15 &  1.256828 \\\\\n",
      "7 &  diag\\_3\\_desc\\_PERSONS ENCOUNTERING HEALTH SERVIC... &  1.243007 \\\\\n",
      "8 &                                number\\_emergency\\_10 &  1.212802 \\\\\n",
      "9 &                                 number\\_inpatient\\_1 &  1.145813 \\\\\n",
      "\\bottomrule\n",
      "\\end{tabular}\n",
      "\n",
      "\\begin{tabular}{llr}\n",
      "\\toprule\n",
      "{} &                                           avg\\_coef &       val \\\\\n",
      "\\midrule\n",
      "0 &                        discharge\\_disposition\\_id\\_11 &  5.297115 \\\\\n",
      "1 &                        discharge\\_disposition\\_id\\_14 &  2.054342 \\\\\n",
      "2 &                                 number\\_inpatient\\_0 &  1.678765 \\\\\n",
      "3 &                        discharge\\_disposition\\_id\\_13 &  1.386482 \\\\\n",
      "4 &                                admission\\_type\\_id\\_7 &  1.325311 \\\\\n",
      "5 &                                number\\_inpatient\\_11 &  1.278885 \\\\\n",
      "6 &                        discharge\\_disposition\\_id\\_15 &  1.256828 \\\\\n",
      "7 &  diag\\_3\\_desc\\_PERSONS ENCOUNTERING HEALTH SERVIC... &  1.243007 \\\\\n",
      "8 &                                number\\_emergency\\_10 &  1.212802 \\\\\n",
      "9 &                                 number\\_inpatient\\_1 &  1.145813 \\\\\n",
      "\\bottomrule\n",
      "\\end{tabular}\n",
      "\n",
      "\\begin{tabular}{llr}\n",
      "\\toprule\n",
      "{} &                     raw\\_coef &       val \\\\\n",
      "\\midrule\n",
      "0 &  discharge\\_disposition\\_id\\_11 &  5.266265 \\\\\n",
      "1 &  discharge\\_disposition\\_id\\_14 &  2.070053 \\\\\n",
      "2 &           number\\_inpatient\\_0 &  1.745570 \\\\\n",
      "3 &  discharge\\_disposition\\_id\\_13 &  1.441884 \\\\\n",
      "4 &          admission\\_type\\_id\\_7 &  1.420922 \\\\\n",
      "5 &          number\\_inpatient\\_11 &  1.290670 \\\\\n",
      "6 &  discharge\\_disposition\\_id\\_15 &  1.289527 \\\\\n",
      "7 &          number\\_emergency\\_10 &  1.194298 \\\\\n",
      "8 &           number\\_inpatient\\_1 &  1.186505 \\\\\n",
      "9 &           num\\_medications\\_66 &  1.070915 \\\\\n",
      "\\bottomrule\n",
      "\\end{tabular}\n",
      "\n",
      "\\begin{tabular}{llr}\n",
      "\\toprule\n",
      "{} &                     avg\\_coef &       val \\\\\n",
      "\\midrule\n",
      "0 &  discharge\\_disposition\\_id\\_11 &  5.266265 \\\\\n",
      "1 &  discharge\\_disposition\\_id\\_14 &  2.070053 \\\\\n",
      "2 &           number\\_inpatient\\_0 &  1.745570 \\\\\n",
      "3 &  discharge\\_disposition\\_id\\_13 &  1.441884 \\\\\n",
      "4 &          admission\\_type\\_id\\_7 &  1.420922 \\\\\n",
      "5 &          number\\_inpatient\\_11 &  1.290670 \\\\\n",
      "6 &  discharge\\_disposition\\_id\\_15 &  1.289527 \\\\\n",
      "7 &          number\\_emergency\\_10 &  1.194298 \\\\\n",
      "8 &           number\\_inpatient\\_1 &  1.186505 \\\\\n",
      "9 &           num\\_medications\\_66 &  1.070915 \\\\\n",
      "\\bottomrule\n",
      "\\end{tabular}\n",
      "\n",
      "unknown test error: 0.6455242212832858\n",
      "mode test error: 0.6457207428515279\n",
      "drop test error: 0.640611182077233\n",
      "dataset_diabetes/diabetic_data_clustered2.csv\n"
     ]
    },
    {
     "name": "stderr",
     "output_type": "stream",
     "text": [
      "/Library/Frameworks/Python.framework/Versions/3.7/lib/python3.7/site-packages/sklearn/linear_model/logistic.py:433: FutureWarning: Default solver will be changed to 'lbfgs' in 0.22. Specify a solver to silence this warning.\n",
      "  FutureWarning)\n",
      "/Library/Frameworks/Python.framework/Versions/3.7/lib/python3.7/site-packages/sklearn/utils/validation.py:761: DataConversionWarning: A column-vector y was passed when a 1d array was expected. Please change the shape of y to (n_samples, ), for example using ravel().\n",
      "  y = column_or_1d(y, warn=True)\n"
     ]
    },
    {
     "name": "stdout",
     "output_type": "stream",
     "text": [
      "percentage of predictions labeled YES: 0.3879827061019947\n",
      "\\begin{tabular}{llr}\n",
      "\\toprule\n",
      "{} &                                           raw\\_coef &       val \\\\\n",
      "\\midrule\n",
      "0 &                       discharge\\_disposition\\_id\\&\\_11 &  5.198247 \\\\\n",
      "1 &                       discharge\\_disposition\\_id\\&\\_14 &  1.935061 \\\\\n",
      "2 &                                number\\_inpatient\\&\\_0 &  1.578647 \\\\\n",
      "3 &  diag\\_3\\_desc\\&\\_NORMAL DELIVERY, AND OTHER INDICA... &  1.505580 \\\\\n",
      "4 &                       discharge\\_disposition\\_id\\&\\_13 &  1.370275 \\\\\n",
      "5 &                               admission\\_type\\_id\\&\\_7 &  1.356606 \\\\\n",
      "6 &                               number\\_inpatient\\&\\_11 &  1.351820 \\\\\n",
      "7 &                       discharge\\_disposition\\_id\\&\\_15 &  1.268211 \\\\\n",
      "8 &                       discharge\\_disposition\\_id\\&\\_28 &  1.239127 \\\\\n",
      "9 &          medical\\_specialty\\&\\_Pediatrics-Pulmonology &  1.185566 \\\\\n",
      "\\bottomrule\n",
      "\\end{tabular}\n",
      "\n",
      "\\begin{tabular}{llr}\n",
      "\\toprule\n",
      "{} &                  avg\\_coef &       val \\\\\n",
      "\\midrule\n",
      "0 &  discharge\\_disposition\\_id &  0.797772 \\\\\n",
      "1 &          number\\_inpatient &  0.532531 \\\\\n",
      "2 &   metformin-rosiglitazone &  0.500040 \\\\\n",
      "3 &         admission\\_type\\_id &  0.377168 \\\\\n",
      "4 &          number\\_emergency &  0.353804 \\\\\n",
      "5 &                  miglitol &  0.351313 \\\\\n",
      "6 &                  acarbose &  0.346444 \\\\\n",
      "7 &       glyburide-metformin &  0.343173 \\\\\n",
      "8 &         number\\_outpatient &  0.332711 \\\\\n",
      "9 &               diag\\_3\\_desc &  0.311864 \\\\\n",
      "\\bottomrule\n",
      "\\end{tabular}\n",
      "\n",
      "\\begin{tabular}{llr}\n",
      "\\toprule\n",
      "{} &                                           raw\\_coef &       val \\\\\n",
      "\\midrule\n",
      "0 &                        discharge\\_disposition\\_id\\_11 &  5.215981 \\\\\n",
      "1 &                        discharge\\_disposition\\_id\\_14 &  1.932073 \\\\\n",
      "2 &                                 number\\_inpatient\\_0 &  1.575473 \\\\\n",
      "3 &  diag\\_3\\_desc\\_NORMAL DELIVERY, AND OTHER INDICAT... &  1.500715 \\\\\n",
      "4 &                        discharge\\_disposition\\_id\\_13 &  1.378772 \\\\\n",
      "5 &                                admission\\_type\\_id\\_7 &  1.356747 \\\\\n",
      "6 &                                number\\_inpatient\\_11 &  1.351601 \\\\\n",
      "7 &                        discharge\\_disposition\\_id\\_15 &  1.326657 \\\\\n",
      "8 &                        discharge\\_disposition\\_id\\_28 &  1.238104 \\\\\n",
      "9 &           medical\\_specialty\\_Pediatrics-Pulmonology &  1.217019 \\\\\n",
      "\\bottomrule\n",
      "\\end{tabular}\n",
      "\n",
      "\\begin{tabular}{llr}\n",
      "\\toprule\n",
      "{} &                                           avg\\_coef &       val \\\\\n",
      "\\midrule\n",
      "0 &                        discharge\\_disposition\\_id\\_11 &  5.215981 \\\\\n",
      "1 &                        discharge\\_disposition\\_id\\_14 &  1.932073 \\\\\n",
      "2 &                                 number\\_inpatient\\_0 &  1.575473 \\\\\n",
      "3 &  diag\\_3\\_desc\\_NORMAL DELIVERY, AND OTHER INDICAT... &  1.500715 \\\\\n",
      "4 &                        discharge\\_disposition\\_id\\_13 &  1.378772 \\\\\n",
      "5 &                                admission\\_type\\_id\\_7 &  1.356747 \\\\\n",
      "6 &                                number\\_inpatient\\_11 &  1.351601 \\\\\n",
      "7 &                        discharge\\_disposition\\_id\\_15 &  1.326657 \\\\\n",
      "8 &                        discharge\\_disposition\\_id\\_28 &  1.238104 \\\\\n",
      "9 &           medical\\_specialty\\_Pediatrics-Pulmonology &  1.217019 \\\\\n",
      "\\bottomrule\n",
      "\\end{tabular}\n",
      "\n",
      "\\begin{tabular}{llr}\n",
      "\\toprule\n",
      "{} &                     raw\\_coef &       val \\\\\n",
      "\\midrule\n",
      "0 &  discharge\\_disposition\\_id\\_11 &  5.224312 \\\\\n",
      "1 &  discharge\\_disposition\\_id\\_14 &  1.985468 \\\\\n",
      "2 &           number\\_inpatient\\_0 &  1.693303 \\\\\n",
      "3 &          admission\\_type\\_id\\_7 &  1.603534 \\\\\n",
      "4 &  discharge\\_disposition\\_id\\_13 &  1.434083 \\\\\n",
      "5 &          number\\_inpatient\\_11 &  1.369131 \\\\\n",
      "6 &  discharge\\_disposition\\_id\\_15 &  1.348050 \\\\\n",
      "7 &          number\\_emergency\\_25 &  1.305239 \\\\\n",
      "8 &  discharge\\_disposition\\_id\\_28 &  1.169518 \\\\\n",
      "9 &           number\\_inpatient\\_1 &  1.135158 \\\\\n",
      "\\bottomrule\n",
      "\\end{tabular}\n",
      "\n",
      "\\begin{tabular}{llr}\n",
      "\\toprule\n",
      "{} &                     avg\\_coef &       val \\\\\n",
      "\\midrule\n",
      "0 &  discharge\\_disposition\\_id\\_11 &  5.224312 \\\\\n",
      "1 &  discharge\\_disposition\\_id\\_14 &  1.985468 \\\\\n",
      "2 &           number\\_inpatient\\_0 &  1.693303 \\\\\n",
      "3 &          admission\\_type\\_id\\_7 &  1.603534 \\\\\n",
      "4 &  discharge\\_disposition\\_id\\_13 &  1.434083 \\\\\n",
      "5 &          number\\_inpatient\\_11 &  1.369131 \\\\\n",
      "6 &  discharge\\_disposition\\_id\\_15 &  1.348050 \\\\\n",
      "7 &          number\\_emergency\\_25 &  1.305239 \\\\\n",
      "8 &  discharge\\_disposition\\_id\\_28 &  1.169518 \\\\\n",
      "9 &           number\\_inpatient\\_1 &  1.135158 \\\\\n",
      "\\bottomrule\n",
      "\\end{tabular}\n",
      "\n",
      "unknown test error: 0.6411024859978383\n",
      "mode test error: 0.6395303134519014\n",
      "drop test error: 0.637270315417117\n",
      "dataset_diabetes/diabetic_data_clustered3.csv\n"
     ]
    },
    {
     "name": "stderr",
     "output_type": "stream",
     "text": [
      "/Library/Frameworks/Python.framework/Versions/3.7/lib/python3.7/site-packages/sklearn/linear_model/logistic.py:433: FutureWarning: Default solver will be changed to 'lbfgs' in 0.22. Specify a solver to silence this warning.\n",
      "  FutureWarning)\n",
      "/Library/Frameworks/Python.framework/Versions/3.7/lib/python3.7/site-packages/sklearn/utils/validation.py:761: DataConversionWarning: A column-vector y was passed when a 1d array was expected. Please change the shape of y to (n_samples, ), for example using ravel().\n",
      "  y = column_or_1d(y, warn=True)\n"
     ]
    },
    {
     "name": "stdout",
     "output_type": "stream",
     "text": [
      "percentage of predictions labeled YES: 0.393681831581016\n",
      "\\begin{tabular}{llr}\n",
      "\\toprule\n",
      "{} &                                           raw\\_coef &       val \\\\\n",
      "\\midrule\n",
      "0 &                       discharge\\_disposition\\_id\\&\\_11 &  5.239162 \\\\\n",
      "1 &                       discharge\\_disposition\\_id\\&\\_14 &  1.941787 \\\\\n",
      "2 &       diag\\_1\\_desc\\&\\_Excessive vomiting in pregnancy &  1.565339 \\\\\n",
      "3 &                                number\\_inpatient\\&\\_0 &  1.514969 \\\\\n",
      "4 &                       discharge\\_disposition\\_id\\&\\_13 &  1.494494 \\\\\n",
      "5 &  diag\\_3\\_desc\\&\\_Pneumococcal pneumonia [Streptoco... &  1.489765 \\\\\n",
      "6 &  diag\\_1\\_desc\\&\\_Other complications of pregnancy,... &  1.430371 \\\\\n",
      "7 &  diag\\_1\\_desc\\&\\_Abnormality of organs and soft ti... &  1.418764 \\\\\n",
      "8 &                      diag\\_1\\_desc\\&\\_Myeloid leukemia &  1.416013 \\\\\n",
      "9 &                               number\\_inpatient\\&\\_11 &  1.413676 \\\\\n",
      "\\bottomrule\n",
      "\\end{tabular}\n",
      "\n",
      "\\begin{tabular}{llr}\n",
      "\\toprule\n",
      "{} &                  avg\\_coef &       val \\\\\n",
      "\\midrule\n",
      "0 &  discharge\\_disposition\\_id &  0.795903 \\\\\n",
      "1 &          number\\_inpatient &  0.535730 \\\\\n",
      "2 &       glyburide-metformin &  0.378442 \\\\\n",
      "3 &               diag\\_1\\_desc &  0.350835 \\\\\n",
      "4 &          number\\_emergency &  0.347055 \\\\\n",
      "5 &         admission\\_type\\_id &  0.342614 \\\\\n",
      "6 &         number\\_outpatient &  0.340851 \\\\\n",
      "7 &               diag\\_3\\_desc &  0.333448 \\\\\n",
      "8 &                tolazamide &  0.329531 \\\\\n",
      "9 &               diag\\_2\\_desc &  0.322833 \\\\\n",
      "\\bottomrule\n",
      "\\end{tabular}\n",
      "\n",
      "\\begin{tabular}{llr}\n",
      "\\toprule\n",
      "{} &                                           raw\\_coef &       val \\\\\n",
      "\\midrule\n",
      "0 &                        discharge\\_disposition\\_id\\_11 &  5.269550 \\\\\n",
      "1 &                        discharge\\_disposition\\_id\\_14 &  1.942060 \\\\\n",
      "2 &        diag\\_1\\_desc\\_Excessive vomiting in pregnancy &  1.576632 \\\\\n",
      "3 &                                 number\\_inpatient\\_0 &  1.516683 \\\\\n",
      "4 &                        discharge\\_disposition\\_id\\_13 &  1.502074 \\\\\n",
      "5 &  diag\\_3\\_desc\\_Pneumococcal pneumonia [Streptococ... &  1.443988 \\\\\n",
      "6 &  diag\\_1\\_desc\\_Other complications of pregnancy, ... &  1.432572 \\\\\n",
      "7 &                                number\\_inpatient\\_11 &  1.420220 \\\\\n",
      "8 &  diag\\_1\\_desc\\_Abnormality of organs and soft tis... &  1.414940 \\\\\n",
      "9 &                       diag\\_1\\_desc\\_Myeloid leukemia &  1.412394 \\\\\n",
      "\\bottomrule\n",
      "\\end{tabular}\n",
      "\n",
      "\\begin{tabular}{llr}\n",
      "\\toprule\n",
      "{} &                                           avg\\_coef &       val \\\\\n",
      "\\midrule\n",
      "0 &                        discharge\\_disposition\\_id\\_11 &  5.269550 \\\\\n",
      "1 &                        discharge\\_disposition\\_id\\_14 &  1.942060 \\\\\n",
      "2 &        diag\\_1\\_desc\\_Excessive vomiting in pregnancy &  1.576632 \\\\\n",
      "3 &                                 number\\_inpatient\\_0 &  1.516683 \\\\\n",
      "4 &                        discharge\\_disposition\\_id\\_13 &  1.502074 \\\\\n",
      "5 &  diag\\_3\\_desc\\_Pneumococcal pneumonia [Streptococ... &  1.443988 \\\\\n",
      "6 &  diag\\_1\\_desc\\_Other complications of pregnancy, ... &  1.432572 \\\\\n",
      "7 &                                number\\_inpatient\\_11 &  1.420220 \\\\\n",
      "8 &  diag\\_1\\_desc\\_Abnormality of organs and soft tis... &  1.414940 \\\\\n",
      "9 &                       diag\\_1\\_desc\\_Myeloid leukemia &  1.412394 \\\\\n",
      "\\bottomrule\n",
      "\\end{tabular}\n",
      "\n",
      "\\begin{tabular}{llr}\n",
      "\\toprule\n",
      "{} &                     raw\\_coef &       val \\\\\n",
      "\\midrule\n",
      "0 &  discharge\\_disposition\\_id\\_11 &  5.272695 \\\\\n",
      "1 &  discharge\\_disposition\\_id\\_14 &  2.029482 \\\\\n",
      "2 &           number\\_inpatient\\_0 &  1.676405 \\\\\n",
      "3 &          admission\\_type\\_id\\_7 &  1.579171 \\\\\n",
      "4 &  discharge\\_disposition\\_id\\_13 &  1.565689 \\\\\n",
      "5 &          number\\_inpatient\\_11 &  1.419295 \\\\\n",
      "6 &  discharge\\_disposition\\_id\\_15 &  1.345314 \\\\\n",
      "7 &          number\\_emergency\\_25 &  1.325190 \\\\\n",
      "8 &       admission\\_source\\_id\\_20 &  1.101600 \\\\\n",
      "9 &           number\\_inpatient\\_1 &  1.100669 \\\\\n",
      "\\bottomrule\n",
      "\\end{tabular}\n",
      "\n",
      "\\begin{tabular}{llr}\n",
      "\\toprule\n",
      "{} &                     avg\\_coef &       val \\\\\n",
      "\\midrule\n",
      "0 &  discharge\\_disposition\\_id\\_11 &  5.272695 \\\\\n",
      "1 &  discharge\\_disposition\\_id\\_14 &  2.029482 \\\\\n",
      "2 &           number\\_inpatient\\_0 &  1.676405 \\\\\n",
      "3 &          admission\\_type\\_id\\_7 &  1.579171 \\\\\n",
      "4 &  discharge\\_disposition\\_id\\_13 &  1.565689 \\\\\n",
      "5 &          number\\_inpatient\\_11 &  1.419295 \\\\\n",
      "6 &  discharge\\_disposition\\_id\\_15 &  1.345314 \\\\\n",
      "7 &          number\\_emergency\\_25 &  1.325190 \\\\\n",
      "8 &       admission\\_source\\_id\\_20 &  1.101600 \\\\\n",
      "9 &           number\\_inpatient\\_1 &  1.100669 \\\\\n",
      "\\bottomrule\n",
      "\\end{tabular}\n",
      "\n",
      "unknown test error: 0.6394320526677802\n",
      "mode test error: 0.6384003144345092\n",
      "drop test error: 0.63289771052373\n",
      "dataset_diabetes/diabetic_data_clustered4.csv\n"
     ]
    },
    {
     "name": "stderr",
     "output_type": "stream",
     "text": [
      "/Library/Frameworks/Python.framework/Versions/3.7/lib/python3.7/site-packages/sklearn/linear_model/logistic.py:433: FutureWarning: Default solver will be changed to 'lbfgs' in 0.22. Specify a solver to silence this warning.\n",
      "  FutureWarning)\n",
      "/Library/Frameworks/Python.framework/Versions/3.7/lib/python3.7/site-packages/sklearn/utils/validation.py:761: DataConversionWarning: A column-vector y was passed when a 1d array was expected. Please change the shape of y to (n_samples, ), for example using ravel().\n",
      "  y = column_or_1d(y, warn=True)\n"
     ]
    },
    {
     "name": "stdout",
     "output_type": "stream",
     "text": [
      "percentage of predictions labeled YES: 0.40714355900560084\n",
      "\\begin{tabular}{llr}\n",
      "\\toprule\n",
      "{} &                                           raw\\_coef &       val \\\\\n",
      "\\midrule\n",
      "0 &                       discharge\\_disposition\\_id\\&\\_11 &  5.221748 \\\\\n",
      "1 &                       discharge\\_disposition\\_id\\&\\_14 &  1.988314 \\\\\n",
      "2 &                                number\\_inpatient\\&\\_0 &  1.533769 \\\\\n",
      "3 &  diag\\_1\\_desc\\&\\_Strabismus and other disorders of... &  1.510282 \\\\\n",
      "4 &                       discharge\\_disposition\\_id\\&\\_13 &  1.412517 \\\\\n",
      "5 &                  diag\\_1\\_desc\\&\\_Diseases of the jaws &  1.384487 \\\\\n",
      "6 &                        diag\\_1\\_desc\\&\\_Atheroembolism &  1.373175 \\\\\n",
      "7 &  diag\\_3\\_desc\\&\\_Muscular dystrophies and other my... &  1.320763 \\\\\n",
      "8 &                               admission\\_type\\_id\\&\\_7 &  1.307336 \\\\\n",
      "9 &       diag\\_2\\_desc\\&\\_Abscess of lung and mediastinum &  1.296712 \\\\\n",
      "\\bottomrule\n",
      "\\end{tabular}\n",
      "\n",
      "\\begin{tabular}{llr}\n",
      "\\toprule\n",
      "{} &                  avg\\_coef &       val \\\\\n",
      "\\midrule\n",
      "0 &  discharge\\_disposition\\_id &  0.798845 \\\\\n",
      "1 &          number\\_inpatient &  0.540213 \\\\\n",
      "2 &   metformin-rosiglitazone &  0.427370 \\\\\n",
      "3 &         admission\\_type\\_id &  0.356492 \\\\\n",
      "4 &                  miglitol &  0.355861 \\\\\n",
      "5 &               diag\\_1\\_desc &  0.346088 \\\\\n",
      "6 &               diag\\_2\\_desc &  0.328605 \\\\\n",
      "7 &               diag\\_3\\_desc &  0.328155 \\\\\n",
      "8 &             rosiglitazone &  0.321669 \\\\\n",
      "9 &          number\\_emergency &  0.321278 \\\\\n",
      "\\bottomrule\n",
      "\\end{tabular}\n",
      "\n",
      "\\begin{tabular}{llr}\n",
      "\\toprule\n",
      "{} &                                           raw\\_coef &       val \\\\\n",
      "\\midrule\n",
      "0 &                        discharge\\_disposition\\_id\\_11 &  5.245424 \\\\\n",
      "1 &                        discharge\\_disposition\\_id\\_14 &  1.987662 \\\\\n",
      "2 &                                 number\\_inpatient\\_0 &  1.537661 \\\\\n",
      "3 &  diag\\_1\\_desc\\_Strabismus and other disorders of ... &  1.527846 \\\\\n",
      "4 &                        discharge\\_disposition\\_id\\_13 &  1.407731 \\\\\n",
      "5 &                   diag\\_1\\_desc\\_Diseases of the jaws &  1.377972 \\\\\n",
      "6 &                         diag\\_1\\_desc\\_Atheroembolism &  1.337951 \\\\\n",
      "7 &  diag\\_3\\_desc\\_Muscular dystrophies and other myo... &  1.314149 \\\\\n",
      "8 &                        discharge\\_disposition\\_id\\_15 &  1.311362 \\\\\n",
      "9 &                                admission\\_type\\_id\\_7 &  1.307695 \\\\\n",
      "\\bottomrule\n",
      "\\end{tabular}\n",
      "\n",
      "\\begin{tabular}{llr}\n",
      "\\toprule\n",
      "{} &                                           avg\\_coef &       val \\\\\n",
      "\\midrule\n",
      "0 &                        discharge\\_disposition\\_id\\_11 &  5.245424 \\\\\n",
      "1 &                        discharge\\_disposition\\_id\\_14 &  1.987662 \\\\\n",
      "2 &                                 number\\_inpatient\\_0 &  1.537661 \\\\\n",
      "3 &  diag\\_1\\_desc\\_Strabismus and other disorders of ... &  1.527846 \\\\\n",
      "4 &                        discharge\\_disposition\\_id\\_13 &  1.407731 \\\\\n",
      "5 &                   diag\\_1\\_desc\\_Diseases of the jaws &  1.377972 \\\\\n",
      "6 &                         diag\\_1\\_desc\\_Atheroembolism &  1.337951 \\\\\n",
      "7 &  diag\\_3\\_desc\\_Muscular dystrophies and other myo... &  1.314149 \\\\\n",
      "8 &                        discharge\\_disposition\\_id\\_15 &  1.311362 \\\\\n",
      "9 &                                admission\\_type\\_id\\_7 &  1.307695 \\\\\n",
      "\\bottomrule\n",
      "\\end{tabular}\n",
      "\n",
      "\\begin{tabular}{llr}\n",
      "\\toprule\n",
      "{} &                     raw\\_coef &       val \\\\\n",
      "\\midrule\n",
      "0 &  discharge\\_disposition\\_id\\_11 &  5.242844 \\\\\n",
      "1 &  discharge\\_disposition\\_id\\_14 &  2.068335 \\\\\n",
      "2 &           number\\_inpatient\\_0 &  1.704944 \\\\\n",
      "3 &          admission\\_type\\_id\\_7 &  1.557884 \\\\\n",
      "4 &  discharge\\_disposition\\_id\\_13 &  1.516153 \\\\\n",
      "5 &          number\\_inpatient\\_11 &  1.315508 \\\\\n",
      "6 &          number\\_emergency\\_25 &  1.302426 \\\\\n",
      "7 &  discharge\\_disposition\\_id\\_15 &  1.260738 \\\\\n",
      "8 &          number\\_emergency\\_10 &  1.209894 \\\\\n",
      "9 &       admission\\_source\\_id\\_20 &  1.181976 \\\\\n",
      "\\bottomrule\n",
      "\\end{tabular}\n",
      "\n",
      "\\begin{tabular}{llr}\n",
      "\\toprule\n",
      "{} &                     avg\\_coef &       val \\\\\n",
      "\\midrule\n",
      "0 &  discharge\\_disposition\\_id\\_11 &  5.242844 \\\\\n",
      "1 &  discharge\\_disposition\\_id\\_14 &  2.068335 \\\\\n",
      "2 &           number\\_inpatient\\_0 &  1.704944 \\\\\n",
      "3 &          admission\\_type\\_id\\_7 &  1.557884 \\\\\n",
      "4 &  discharge\\_disposition\\_id\\_13 &  1.516153 \\\\\n",
      "5 &          number\\_inpatient\\_11 &  1.315508 \\\\\n",
      "6 &          number\\_emergency\\_25 &  1.302426 \\\\\n",
      "7 &  discharge\\_disposition\\_id\\_15 &  1.260738 \\\\\n",
      "8 &          number\\_emergency\\_10 &  1.209894 \\\\\n",
      "9 &       admission\\_source\\_id\\_20 &  1.181976 \\\\\n",
      "\\bottomrule\n",
      "\\end{tabular}\n",
      "\n",
      "unknown test error: 0.6430677016802594\n",
      "mode test error: 0.6413481379581409\n",
      "drop test error: 0.6355507516949985\n",
      "dataset_diabetes/diabetic_data_clustered5.csv\n"
     ]
    },
    {
     "name": "stderr",
     "output_type": "stream",
     "text": [
      "/Library/Frameworks/Python.framework/Versions/3.7/lib/python3.7/site-packages/sklearn/linear_model/logistic.py:433: FutureWarning: Default solver will be changed to 'lbfgs' in 0.22. Specify a solver to silence this warning.\n",
      "  FutureWarning)\n",
      "/Library/Frameworks/Python.framework/Versions/3.7/lib/python3.7/site-packages/sklearn/utils/validation.py:761: DataConversionWarning: A column-vector y was passed when a 1d array was expected. Please change the shape of y to (n_samples, ), for example using ravel().\n",
      "  y = column_or_1d(y, warn=True)\n"
     ]
    },
    {
     "name": "stdout",
     "output_type": "stream",
     "text": [
      "percentage of predictions labeled YES: 0.40527660410730076\n",
      "\\begin{tabular}{llr}\n",
      "\\toprule\n",
      "{} &                                           raw\\_coef &       val \\\\\n",
      "\\midrule\n",
      "0 &                       discharge\\_disposition\\_id\\&\\_11 &  5.185521 \\\\\n",
      "1 &                       discharge\\_disposition\\_id\\&\\_14 &  2.124244 \\\\\n",
      "2 &          diag\\_1\\_desc\\&\\_Hereditary hemolytic anemias &  1.609773 \\\\\n",
      "3 &                                number\\_inpatient\\&\\_0 &  1.534547 \\\\\n",
      "4 &       diag\\_2\\_desc\\&\\_Abscess of lung and mediastinum &  1.446852 \\\\\n",
      "5 &                 diag\\_3\\_desc\\&\\_Crystal arthropathies &  1.411905 \\\\\n",
      "6 &  diag\\_1\\_desc\\&\\_Other disorders of pancreatic int... &  1.394181 \\\\\n",
      "7 &                      diag\\_1\\_desc\\&\\_Myeloid leukemia &  1.390486 \\\\\n",
      "8 &                       discharge\\_disposition\\_id\\&\\_15 &  1.359628 \\\\\n",
      "9 &           diag\\_2\\_desc\\&\\_Fracture of radius and ulna &  1.341966 \\\\\n",
      "\\bottomrule\n",
      "\\end{tabular}\n",
      "\n",
      "\\begin{tabular}{llr}\n",
      "\\toprule\n",
      "{} &                  avg\\_coef &       val \\\\\n",
      "\\midrule\n",
      "0 &  discharge\\_disposition\\_id &  0.814153 \\\\\n",
      "1 &          number\\_inpatient &  0.545039 \\\\\n",
      "2 &                tolazamide &  0.431737 \\\\\n",
      "3 &               diag\\_1\\_desc &  0.358358 \\\\\n",
      "4 &         admission\\_type\\_id &  0.351091 \\\\\n",
      "5 &                  miglitol &  0.339052 \\\\\n",
      "6 &          number\\_emergency &  0.337826 \\\\\n",
      "7 &               diag\\_2\\_desc &  0.331157 \\\\\n",
      "8 &               diag\\_3\\_desc &  0.325775 \\\\\n",
      "9 &       glyburide-metformin &  0.321088 \\\\\n",
      "\\bottomrule\n",
      "\\end{tabular}\n",
      "\n",
      "\\begin{tabular}{llr}\n",
      "\\toprule\n",
      "{} &                                           raw\\_coef &       val \\\\\n",
      "\\midrule\n",
      "0 &                        discharge\\_disposition\\_id\\_11 &  5.215726 \\\\\n",
      "1 &                        discharge\\_disposition\\_id\\_14 &  2.115875 \\\\\n",
      "2 &           diag\\_1\\_desc\\_Hereditary hemolytic anemias &  1.601302 \\\\\n",
      "3 &                                 number\\_inpatient\\_0 &  1.536611 \\\\\n",
      "4 &        diag\\_2\\_desc\\_Abscess of lung and mediastinum &  1.456915 \\\\\n",
      "5 &                  diag\\_3\\_desc\\_Crystal arthropathies &  1.418036 \\\\\n",
      "6 &                        discharge\\_disposition\\_id\\_15 &  1.408714 \\\\\n",
      "7 &                       diag\\_1\\_desc\\_Myeloid leukemia &  1.377071 \\\\\n",
      "8 &  diag\\_1\\_desc\\_Other disorders of pancreatic inte... &  1.367855 \\\\\n",
      "9 &            diag\\_2\\_desc\\_Fracture of radius and ulna &  1.315402 \\\\\n",
      "\\bottomrule\n",
      "\\end{tabular}\n",
      "\n",
      "\\begin{tabular}{llr}\n",
      "\\toprule\n",
      "{} &                                           avg\\_coef &       val \\\\\n",
      "\\midrule\n",
      "0 &                        discharge\\_disposition\\_id\\_11 &  5.215726 \\\\\n",
      "1 &                        discharge\\_disposition\\_id\\_14 &  2.115875 \\\\\n",
      "2 &           diag\\_1\\_desc\\_Hereditary hemolytic anemias &  1.601302 \\\\\n",
      "3 &                                 number\\_inpatient\\_0 &  1.536611 \\\\\n",
      "4 &        diag\\_2\\_desc\\_Abscess of lung and mediastinum &  1.456915 \\\\\n",
      "5 &                  diag\\_3\\_desc\\_Crystal arthropathies &  1.418036 \\\\\n",
      "6 &                        discharge\\_disposition\\_id\\_15 &  1.408714 \\\\\n",
      "7 &                       diag\\_1\\_desc\\_Myeloid leukemia &  1.377071 \\\\\n",
      "8 &  diag\\_1\\_desc\\_Other disorders of pancreatic inte... &  1.367855 \\\\\n",
      "9 &            diag\\_2\\_desc\\_Fracture of radius and ulna &  1.315402 \\\\\n",
      "\\bottomrule\n",
      "\\end{tabular}\n",
      "\n",
      "\\begin{tabular}{llr}\n",
      "\\toprule\n",
      "{} &                     raw\\_coef &       val \\\\\n",
      "\\midrule\n",
      "0 &  discharge\\_disposition\\_id\\_11 &  5.245527 \\\\\n",
      "1 &  discharge\\_disposition\\_id\\_14 &  2.180124 \\\\\n",
      "2 &           number\\_inpatient\\_0 &  1.715441 \\\\\n",
      "3 &          admission\\_type\\_id\\_7 &  1.529660 \\\\\n",
      "4 &          number\\_inpatient\\_11 &  1.362298 \\\\\n",
      "5 &  discharge\\_disposition\\_id\\_13 &  1.359185 \\\\\n",
      "6 &  discharge\\_disposition\\_id\\_15 &  1.325433 \\\\\n",
      "7 &          number\\_emergency\\_10 &  1.191349 \\\\\n",
      "8 &           number\\_inpatient\\_1 &  1.143878 \\\\\n",
      "9 &  discharge\\_disposition\\_id\\_19 &  1.099340 \\\\\n",
      "\\bottomrule\n",
      "\\end{tabular}\n",
      "\n",
      "\\begin{tabular}{llr}\n",
      "\\toprule\n",
      "{} &                     avg\\_coef &       val \\\\\n",
      "\\midrule\n",
      "0 &  discharge\\_disposition\\_id\\_11 &  5.245527 \\\\\n",
      "1 &  discharge\\_disposition\\_id\\_14 &  2.180124 \\\\\n",
      "2 &           number\\_inpatient\\_0 &  1.715441 \\\\\n",
      "3 &          admission\\_type\\_id\\_7 &  1.529660 \\\\\n",
      "4 &          number\\_inpatient\\_11 &  1.362298 \\\\\n",
      "5 &  discharge\\_disposition\\_id\\_13 &  1.359185 \\\\\n",
      "6 &  discharge\\_disposition\\_id\\_15 &  1.325433 \\\\\n",
      "7 &          number\\_emergency\\_10 &  1.191349 \\\\\n",
      "8 &           number\\_inpatient\\_1 &  1.143878 \\\\\n",
      "9 &  discharge\\_disposition\\_id\\_19 &  1.099340 \\\\\n",
      "\\bottomrule\n",
      "\\end{tabular}\n",
      "\n",
      "unknown test error: 0.6412007467819594\n",
      "mode test error: 0.6409059644295961\n",
      "drop test error: 0.6345681438537879\n",
      "\\begin{tabular}{llrrr}\n",
      "\\toprule\n",
      "{} &                                           file &   unknown &      mode &      drop \\\\\n",
      "\\midrule\n",
      "0 &             dataset\\_diabetes/diabetic\\_data.csv &  0.639678 &  0.638597 &  0.637074 \\\\\n",
      "1 &  dataset\\_diabetes/diabetic\\_data\\_clustered1.csv &  0.645524 &  0.645721 &  0.640611 \\\\\n",
      "2 &  dataset\\_diabetes/diabetic\\_data\\_clustered2.csv &  0.641102 &  0.639530 &  0.637270 \\\\\n",
      "3 &  dataset\\_diabetes/diabetic\\_data\\_clustered3.csv &  0.639432 &  0.638400 &  0.632898 \\\\\n",
      "4 &  dataset\\_diabetes/diabetic\\_data\\_clustered4.csv &  0.643068 &  0.641348 &  0.635551 \\\\\n",
      "5 &  dataset\\_diabetes/diabetic\\_data\\_clustered5.csv &  0.641201 &  0.640906 &  0.634568 \\\\\n",
      "\\bottomrule\n",
      "\\end{tabular}\n",
      "\n"
     ]
    }
   ],
   "source": [
    "def classify(filename):\n",
    "    print(filename)\n",
    "    data = pd.read_csv(filename)\n",
    "    y = data.replace(to_replace={'>30': 'YES', '<30': 'YES'}).loc[:, data.columns == \"readmitted\"]\n",
    "    X = data.drop(columns=[\n",
    "        \"readmitted\",\n",
    "        \"weight\", \n",
    "        \"encounter_id\", \n",
    "        \"patient_nbr\", \n",
    "        \"diag_1\", \n",
    "        \"diag_2\", \n",
    "        \"diag_3\"\n",
    "        ])\n",
    "    lb = LabelBinarizer()\n",
    "    one = OneHotEncoder()\n",
    "    y_transformed = lb.fit_transform(y)\n",
    "    X_clean = X.replace(\"?\", np.nan)\n",
    "    X_train, X_test, y_train, y_test = train_test_split(X_clean, y_transformed, test_size=0.20)\n",
    "    imp_mode = SimpleImputer(missing_values=np.nan, strategy=\"most_frequent\")\n",
    "    imp_unknown = SimpleImputer(missing_values=np.nan, strategy=\"constant\", fill_value=\"Unknown\")\n",
    "    X_unknown_train = imp_unknown.fit_transform(X_train)\n",
    "    X_unknown_test = imp_unknown.transform(X_test)\n",
    "    X_mode_train = imp_mode.fit_transform(X_train)\n",
    "    X_mode_test = imp_mode.transform(X_test)\n",
    "    X_drop_train = X_train.dropna(axis=1)\n",
    "    X_drop_test = X_test.dropna(axis=1)\n",
    "    enc_mode = OneHotEncoder(handle_unknown=\"ignore\")\n",
    "    enc_unknown = OneHotEncoder(handle_unknown=\"ignore\")\n",
    "    enc_drop = OneHotEncoder(handle_unknown=\"ignore\")\n",
    "    \n",
    "    X_unknown_train_c = enc_unknown.fit_transform(X_unknown_train)\n",
    "    X_unknown_test_c = enc_unknown.transform(X_unknown_test)\n",
    "    coef_labels_unknown = enc_unknown.get_feature_names([x + '&' for x in X.columns.tolist()])\n",
    "\n",
    "    X_mode_train_c = enc_mode.fit_transform(X_mode_train)\n",
    "    X_mode_test_c = enc_mode.transform(X_mode_test)\n",
    "    coef_labels_mode = enc_mode.get_feature_names(X.columns)\n",
    "\n",
    "    X_drop_train_c = enc_drop.fit_transform(X_drop_train)\n",
    "    X_drop_test_c = enc_drop.transform(X_drop_test)\n",
    "    coef_labels_drop = enc_drop.get_feature_names(X_drop_train.columns)\n",
    "\n",
    "    classif = LogisticRegression()\n",
    "    classif.fit(X_unknown_train_c, y_train)\n",
    "    \n",
    "    classif.score(X_unknown_test_c, y_test)\n",
    "    predictions = lb.inverse_transform(classif.predict(X_unknown_test_c))\n",
    "    print('percentage of predictions labeled YES:', sum(predictions == 'YES')/len(predictions))\n",
    "    \n",
    "    clf_unknown = LogisticRegression().fit(X_unknown_train_c, y_train)\n",
    "    get_coefs(clf_unknown, coef_labels_unknown)\n",
    "    clf_mode = LogisticRegression().fit(X_mode_train_c, y_train)\n",
    "    get_coefs(clf_mode, coef_labels_mode)\n",
    "    clf_drop = LogisticRegression().fit(X_drop_train_c, y_train)\n",
    "    get_coefs(clf_drop, coef_labels_drop)\n",
    "    \n",
    "    unknown_score = clf_unknown.score(X_unknown_test_c, y_test)\n",
    "    mode_score = clf_mode.score(X_mode_test_c, y_test)\n",
    "    drop_score = clf_drop.score(X_drop_test_c, y_test)\n",
    "    \n",
    "    print('unknown test error:', unknown_score)\n",
    "    print('mode test error:', mode_score)\n",
    "    print('drop test error:', drop_score)\n",
    "    \n",
    "    return unknown_score, mode_score, drop_score\n",
    "\n",
    "def get_coefs(clf, feature_names):\n",
    "    _, n = clf.coef_.shape\n",
    "    coefs = np.array([np.reshape(feature_names, n), np.reshape(clf.coef_,n)]).tolist()\n",
    "    var_coefs = {}\n",
    "    raw_coefs = {}\n",
    "    for i in range(len(coefs[0])):\n",
    "        result = coefs[0][i].split('&')\n",
    "        var = result[0]\n",
    "        coef = coefs[1][i]\n",
    "        if var not in var_coefs:\n",
    "            var_coefs[var] = [abs(coef)]\n",
    "        else:\n",
    "            var_coefs[var].append(abs(coef))\n",
    "        raw_coefs[coefs[0][i]] = abs(coef)\n",
    "    var_avg = {}\n",
    "    for var in var_coefs:\n",
    "        var_avg[var] = np.mean(var_coefs[var])\n",
    "    sorted_vars = sorted(list(raw_coefs.keys()), key= lambda x: raw_coefs[x], reverse = True)\n",
    "    raw_values = pd.DataFrame({\n",
    "        'raw_coef': sorted_vars[:10],\n",
    "        'val': [raw_coefs[var] for var in sorted_vars[:10]]\n",
    "    })\n",
    "    print(raw_values.to_latex())\n",
    "    sorted_vars_avg = sorted(list(var_avg.keys()), key= lambda x: var_avg[x], reverse = True)\n",
    "    avg_values = pd.DataFrame({\n",
    "        'avg_coef': sorted_vars_avg[:10],\n",
    "        'val': [var_avg[var] for var in sorted_vars_avg[:10]]\n",
    "    })\n",
    "    print(avg_values.to_latex())\n",
    "    \n",
    "files = [\n",
    "    'dataset_diabetes/diabetic_data.csv', \n",
    "    'dataset_diabetes/diabetic_data_clustered1.csv',\n",
    "    'dataset_diabetes/diabetic_data_clustered2.csv',\n",
    "    'dataset_diabetes/diabetic_data_clustered3.csv',\n",
    "    'dataset_diabetes/diabetic_data_clustered4.csv',\n",
    "    'dataset_diabetes/diabetic_data_clustered5.csv',\n",
    "]\n",
    "\n",
    "accuracies = {}\n",
    "unknown_accuracies = []\n",
    "mode_accuracies = []\n",
    "drop_accuracies = []\n",
    "for file in files:\n",
    "    result = classify(file)\n",
    "    accuracies[file] = result\n",
    "    unknown_accuracies.append(result[0])\n",
    "    mode_accuracies.append(result[1])\n",
    "    drop_accuracies.append(result[2])\n",
    "df_accuracy = pd.DataFrame({\n",
    "    'file': files, \n",
    "    'unknown': unknown_accuracies,\n",
    "    'mode': mode_accuracies,\n",
    "    'drop': drop_accuracies\n",
    "})\n",
    "\n",
    "print(df_accuracy.to_latex())"
   ]
  },
  {
   "cell_type": "code",
   "execution_count": 32,
   "metadata": {},
   "outputs": [
    {
     "data": {
      "image/png": "[encoded data removed]",
      "text/plain": [
       "<Figure size 432x288 with 1 Axes>"
      ]
     },
     "metadata": {
      "needs_background": "light"
     },
     "output_type": "display_data"
    }
   ],
   "source": [
    "feature_importance = abs(clf_unknown.coef_[0])\n",
    "feature_importance = 100.0 * (feature_importance / feature_importance.max())\n",
    "sorted_idx = np.argsort(feature_importance)\n",
    "pos = np.arange(sorted_idx.shape[0]) + .5\n",
    "\n",
    "featfig = plt.figure()\n",
    "featax = featfig.add_subplot(1, 1, 1)\n",
    "featax.barh(pos, feature_importance[sorted_idx], align='center')\n",
    "featax.set_yticks(pos)\n",
    "#featax.set_yticklabels(np.array(X.columns)[sorted_idx], fontsize=8)\n",
    "featax.set_xlabel('Relative Feature Importance')\n",
    "\n",
    "plt.tight_layout()   \n",
    "plt.show()"
   ]
  },
  {
   "cell_type": "code",
   "execution_count": 49,
   "metadata": {},
   "outputs": [
    {
     "ename": "ValueError",
     "evalue": "could not convert string to float: 'No'",
     "output_type": "error",
     "traceback": [
      "\u001b[0;31m---------------------------------------------------------------------------\u001b[0m",
      "\u001b[0;31mValueError\u001b[0m                                Traceback (most recent call last)",
      "\u001b[0;32m<ipython-input-49-019f54f65e84>\u001b[0m in \u001b[0;36m<module>\u001b[0;34m()\u001b[0m\n\u001b[0;32m----> 1\u001b[0;31m \u001b[0mclf\u001b[0m \u001b[0;34m=\u001b[0m \u001b[0mLogisticRegression\u001b[0m\u001b[0;34m(\u001b[0m\u001b[0mrandom_state\u001b[0m\u001b[0;34m=\u001b[0m\u001b[0;36m0\u001b[0m\u001b[0;34m,\u001b[0m \u001b[0msolver\u001b[0m\u001b[0;34m=\u001b[0m\u001b[0;34m'lbfgs'\u001b[0m\u001b[0;34m,\u001b[0m \u001b[0mmulti_class\u001b[0m\u001b[0;34m=\u001b[0m\u001b[0;34m'multinomial'\u001b[0m\u001b[0;34m)\u001b[0m\u001b[0;34m.\u001b[0m\u001b[0mfit\u001b[0m\u001b[0;34m(\u001b[0m\u001b[0mdata\u001b[0m\u001b[0;34m.\u001b[0m\u001b[0mloc\u001b[0m\u001b[0;34m[\u001b[0m\u001b[0;34m:\u001b[0m\u001b[0;34m,\u001b[0m \u001b[0mdata\u001b[0m\u001b[0;34m.\u001b[0m\u001b[0mcolumns\u001b[0m \u001b[0;34m!=\u001b[0m \u001b[0;34m\"readmitted\"\u001b[0m\u001b[0;34m]\u001b[0m\u001b[0;34m,\u001b[0m \u001b[0mdata\u001b[0m\u001b[0;34m.\u001b[0m\u001b[0mloc\u001b[0m\u001b[0;34m[\u001b[0m\u001b[0;34m:\u001b[0m\u001b[0;34m,\u001b[0m \u001b[0mdata\u001b[0m\u001b[0;34m.\u001b[0m\u001b[0mcolumns\u001b[0m \u001b[0;34m==\u001b[0m \u001b[0;34m\"readmitted\"\u001b[0m\u001b[0;34m]\u001b[0m\u001b[0;34m)\u001b[0m\u001b[0;34m\u001b[0m\u001b[0m\n\u001b[0m\u001b[1;32m      2\u001b[0m \u001b[0;31m#clf.predict(X[:2, :])\u001b[0m\u001b[0;34m\u001b[0m\u001b[0;34m\u001b[0m\u001b[0m\n",
      "\u001b[0;32m~/Library/Python/3.5/lib/python/site-packages/sklearn/linear_model/logistic.py\u001b[0m in \u001b[0;36mfit\u001b[0;34m(self, X, y, sample_weight)\u001b[0m\n\u001b[1;32m   1286\u001b[0m \u001b[0;34m\u001b[0m\u001b[0m\n\u001b[1;32m   1287\u001b[0m         X, y = check_X_y(X, y, accept_sparse='csr', dtype=_dtype, order=\"C\",\n\u001b[0;32m-> 1288\u001b[0;31m                          accept_large_sparse=solver != 'liblinear')\n\u001b[0m\u001b[1;32m   1289\u001b[0m         \u001b[0mcheck_classification_targets\u001b[0m\u001b[0;34m(\u001b[0m\u001b[0my\u001b[0m\u001b[0;34m)\u001b[0m\u001b[0;34m\u001b[0m\u001b[0m\n\u001b[1;32m   1290\u001b[0m         \u001b[0mself\u001b[0m\u001b[0;34m.\u001b[0m\u001b[0mclasses_\u001b[0m \u001b[0;34m=\u001b[0m \u001b[0mnp\u001b[0m\u001b[0;34m.\u001b[0m\u001b[0munique\u001b[0m\u001b[0;34m(\u001b[0m\u001b[0my\u001b[0m\u001b[0;34m)\u001b[0m\u001b[0;34m\u001b[0m\u001b[0m\n",
      "\u001b[0;32m~/Library/Python/3.5/lib/python/site-packages/sklearn/utils/validation.py\u001b[0m in \u001b[0;36mcheck_X_y\u001b[0;34m(X, y, accept_sparse, accept_large_sparse, dtype, order, copy, force_all_finite, ensure_2d, allow_nd, multi_output, ensure_min_samples, ensure_min_features, y_numeric, warn_on_dtype, estimator)\u001b[0m\n\u001b[1;32m    754\u001b[0m                     \u001b[0mensure_min_features\u001b[0m\u001b[0;34m=\u001b[0m\u001b[0mensure_min_features\u001b[0m\u001b[0;34m,\u001b[0m\u001b[0;34m\u001b[0m\u001b[0m\n\u001b[1;32m    755\u001b[0m                     \u001b[0mwarn_on_dtype\u001b[0m\u001b[0;34m=\u001b[0m\u001b[0mwarn_on_dtype\u001b[0m\u001b[0;34m,\u001b[0m\u001b[0;34m\u001b[0m\u001b[0m\n\u001b[0;32m--> 756\u001b[0;31m                     estimator=estimator)\n\u001b[0m\u001b[1;32m    757\u001b[0m     \u001b[0;32mif\u001b[0m \u001b[0mmulti_output\u001b[0m\u001b[0;34m:\u001b[0m\u001b[0;34m\u001b[0m\u001b[0m\n\u001b[1;32m    758\u001b[0m         y = check_array(y, 'csr', force_all_finite=True, ensure_2d=False,\n",
      "\u001b[0;32m~/Library/Python/3.5/lib/python/site-packages/sklearn/utils/validation.py\u001b[0m in \u001b[0;36mcheck_array\u001b[0;34m(array, accept_sparse, accept_large_sparse, dtype, order, copy, force_all_finite, ensure_2d, allow_nd, ensure_min_samples, ensure_min_features, warn_on_dtype, estimator)\u001b[0m\n\u001b[1;32m    525\u001b[0m             \u001b[0;32mtry\u001b[0m\u001b[0;34m:\u001b[0m\u001b[0;34m\u001b[0m\u001b[0m\n\u001b[1;32m    526\u001b[0m                 \u001b[0mwarnings\u001b[0m\u001b[0;34m.\u001b[0m\u001b[0msimplefilter\u001b[0m\u001b[0;34m(\u001b[0m\u001b[0;34m'error'\u001b[0m\u001b[0;34m,\u001b[0m \u001b[0mComplexWarning\u001b[0m\u001b[0;34m)\u001b[0m\u001b[0;34m\u001b[0m\u001b[0m\n\u001b[0;32m--> 527\u001b[0;31m                 \u001b[0marray\u001b[0m \u001b[0;34m=\u001b[0m \u001b[0mnp\u001b[0m\u001b[0;34m.\u001b[0m\u001b[0masarray\u001b[0m\u001b[0;34m(\u001b[0m\u001b[0marray\u001b[0m\u001b[0;34m,\u001b[0m \u001b[0mdtype\u001b[0m\u001b[0;34m=\u001b[0m\u001b[0mdtype\u001b[0m\u001b[0;34m,\u001b[0m \u001b[0morder\u001b[0m\u001b[0;34m=\u001b[0m\u001b[0morder\u001b[0m\u001b[0;34m)\u001b[0m\u001b[0;34m\u001b[0m\u001b[0m\n\u001b[0m\u001b[1;32m    528\u001b[0m             \u001b[0;32mexcept\u001b[0m \u001b[0mComplexWarning\u001b[0m\u001b[0;34m:\u001b[0m\u001b[0;34m\u001b[0m\u001b[0m\n\u001b[1;32m    529\u001b[0m                 raise ValueError(\"Complex data not supported\\n\"\n",
      "\u001b[0;32m/Library/Frameworks/Python.framework/Versions/3.5/lib/python3.5/site-packages/numpy/core/numeric.py\u001b[0m in \u001b[0;36masarray\u001b[0;34m(a, dtype, order)\u001b[0m\n\u001b[1;32m    490\u001b[0m \u001b[0;34m\u001b[0m\u001b[0m\n\u001b[1;32m    491\u001b[0m     \"\"\"\n\u001b[0;32m--> 492\u001b[0;31m     \u001b[0;32mreturn\u001b[0m \u001b[0marray\u001b[0m\u001b[0;34m(\u001b[0m\u001b[0ma\u001b[0m\u001b[0;34m,\u001b[0m \u001b[0mdtype\u001b[0m\u001b[0;34m,\u001b[0m \u001b[0mcopy\u001b[0m\u001b[0;34m=\u001b[0m\u001b[0;32mFalse\u001b[0m\u001b[0;34m,\u001b[0m \u001b[0morder\u001b[0m\u001b[0;34m=\u001b[0m\u001b[0morder\u001b[0m\u001b[0;34m)\u001b[0m\u001b[0;34m\u001b[0m\u001b[0m\n\u001b[0m\u001b[1;32m    493\u001b[0m \u001b[0;34m\u001b[0m\u001b[0m\n\u001b[1;32m    494\u001b[0m \u001b[0;34m\u001b[0m\u001b[0m\n",
      "\u001b[0;31mValueError\u001b[0m: could not convert string to float: 'No'"
     ]
    }
   ],
   "source": [
    "clf = LogisticRegression(random_state=0, solver='lbfgs', multi_class='multinomial').fit(data.loc[:, data.columns != \"readmitted\"], data.loc[:, data.columns == \"readmitted\"])\n",
    "#clf.predict(X[:2, :])"
   ]
  },
  {
   "cell_type": "code",
   "execution_count": null,
   "metadata": {
    "collapsed": true
   },
   "outputs": [],
   "source": []
  },
  {
   "cell_type": "code",
   "execution_count": null,
   "metadata": {
    "collapsed": true
   },
   "outputs": [],
   "source": []
  },
  {
   "cell_type": "code",
   "execution_count": null,
   "metadata": {
    "collapsed": true
   },
   "outputs": [],
   "source": []
  },
  {
   "cell_type": "code",
   "execution_count": null,
   "metadata": {
    "collapsed": true
   },
   "outputs": [],
   "source": [
    "int disp[2][4] = {\n",
    "    {10, 11, 12, 13},\n",
    "    {14, 15, 16, 17}\n",
    "};"
   ]
  },
  {
   "cell_type": "code",
   "execution_count": null,
   "metadata": {
    "collapsed": true
   },
   "outputs": [],
   "source": [
    " (1 / (delta_fil + 1)) * (1 / (delta_rnk + 1))"
   ]
  },
  {
   "cell_type": "code",
   "execution_count": 4,
   "metadata": {},
   "outputs": [
    {
     "name": "stdout",
     "output_type": "stream",
     "text": [
      "{1.0,0.5,0.3333333333333333,0.25,0.2,0.16666666666666666,0.14285714285714285,0.125,0.1111111111111111},\n",
      "{0.5,0.25,0.16666666666666666,0.125,0.1,0.08333333333333333,0.07142857142857142,0.0625,0.05555555555555555},\n",
      "{0.3333333333333333,0.16666666666666666,0.1111111111111111,0.08333333333333333,0.06666666666666667,0.05555555555555555,0.047619047619047616,0.041666666666666664,0.037037037037037035},\n",
      "{0.25,0.125,0.08333333333333333,0.0625,0.05,0.041666666666666664,0.03571428571428571,0.03125,0.027777777777777776},\n",
      "{0.2,0.1,0.06666666666666667,0.05,0.04000000000000001,0.03333333333333333,0.02857142857142857,0.025,0.022222222222222223},\n",
      "{0.16666666666666666,0.08333333333333333,0.05555555555555555,0.041666666666666664,0.03333333333333333,0.027777777777777776,0.023809523809523808,0.020833333333333332,0.018518518518518517},\n",
      "{0.14285714285714285,0.07142857142857142,0.047619047619047616,0.03571428571428571,0.02857142857142857,0.023809523809523808,0.02040816326530612,0.017857142857142856,0.015873015873015872},\n",
      "{0.125,0.0625,0.041666666666666664,0.03125,0.025,0.020833333333333332,0.017857142857142856,0.015625,0.013888888888888888},\n",
      "{0.1111111111111111,0.05555555555555555,0.037037037037037035,0.027777777777777776,0.022222222222222223,0.018518518518518517,0.015873015873015872,0.013888888888888888,0.012345679012345678},\n"
     ]
    }
   ],
   "source": [
    "for delta_fil in range(0,9): \n",
    "    s = \"{\"\n",
    "    for delta_rnk in range(0, 9):\n",
    "        s += str((1 / (delta_fil + 1.0)) * (1 / (delta_rnk + 1.0))) + ','\n",
    "        \n",
    "    print(s[:-1]+\"},\")\n",
    "        "
   ]
  },
  {
   "cell_type": "code",
   "execution_count": 5,
   "metadata": {
    "collapsed": true
   },
   "outputs": [],
   "source": [
    "ARR_WIDTH = 16"
   ]
  },
  {
   "cell_type": "code",
   "execution_count": 6,
   "metadata": {
    "collapsed": true
   },
   "outputs": [],
   "source": []
  },
  {
   "cell_type": "code",
   "execution_count": 7,
   "metadata": {
    "collapsed": true
   },
   "outputs": [],
   "source": [
    "FIL_ORIGIN = 2"
   ]
  },
  {
   "cell_type": "code",
   "execution_count": 8,
   "metadata": {
    "collapsed": true
   },
   "outputs": [],
   "source": [
    "RNK_ORIGIN = ((ARR_WIDTH - BOARD_WIDTH) / 2)"
   ]
  },
  {
   "cell_type": "code",
   "execution_count": 17,
   "metadata": {},
   "outputs": [
    {
     "name": "stdout",
     "output_type": "stream",
     "text": [
      "{51,52,53,54,55,56,57,58,59,60},\n",
      "{67,68,69,70,71,72,73,74,75,76},\n",
      "{83,84,85,86,87,88,89,90,91,92},\n",
      "{99,100,101,102,103,104,105,106,107,108},\n",
      "{115,116,117,118,119,120,121,122,123,124},\n",
      "{131,132,133,134,135,136,137,138,139,140},\n",
      "{147,148,149,150,151,152,153,154,155,156},\n",
      "{163,164,165,166,167,168,169,170,171,172},\n",
      "{179,180,181,182,183,184,185,186,187,188},\n",
      "{195,196,197,198,199,200,201,202,203,204},\n"
     ]
    }
   ],
   "source": [
    "for f in range(-1,9): \n",
    "    s = \"{\"\n",
    "    for r in range(-1, 9):\n",
    "        s += str(int(ARR_WIDTH * (FIL_ORIGIN + f) + RNK_ORIGIN + r)) + ','\n",
    "        \n",
    "    print(s[:-1]+\"},\")"
   ]
  },
  {
   "cell_type": "code",
   "execution_count": 18,
   "metadata": {
    "collapsed": true
   },
   "outputs": [],
   "source": [
    "FIL_MASK = 15\n",
    "FIL_SHIFT = 4\n",
    "RNK_MASK = 15\n",
    "RNK_SHIFT = 0"
   ]
  },
  {
   "cell_type": "code",
   "execution_count": 26,
   "metadata": {},
   "outputs": [
    {
     "name": "stdout",
     "output_type": "stream",
     "text": [
      "{-1,-1,-1,-1,-1,-1,-1,-1,-1,-1,-1,-1,-1,0,0,0,0,0,0,0,0,0,0,0,0,0,0,0,0,1,1,1,1,1,1,1,1,1,1,1,1,1,1,1,1,2,2,2,2,2,2,2,2,2,2,2,2,2,2,2,2,3,3,3,3,3,3,3,3,3,3,3,3,3,3,3,3,4,4,4,4,4,4,4,4,4,4,4,4,4,4,4,4,5,5,5,5,5,5,5,5,5,5,5,5,5,5,5,5,6,6,6,6,6,6,6,6,6,6,6,6,6,6,6,6,7,7,7,7,7,7,7,7,7,7,7,7,7,7,7,7,8,8,8,8,8,8,8,8,8,8,8,8,8}\n"
     ]
    }
   ],
   "source": [
    "s = \"{\"\n",
    "for sq in range(51,205): \n",
    "    s += str(int(((sq >> FIL_SHIFT) & FIL_MASK) - FIL_ORIGIN)) + ','\n",
    "        \n",
    "print(s[:-1]+\"}\")\n",
    "\n",
    "#fil_t f = ((sq >> FIL_SHIFT) & FIL_MASK) - FIL_ORIGIN;\n",
    "\n",
    "#rnk_t r = ((sq >> RNK_SHIFT) & RNK_MASK) - RNK_ORIGIN;"
   ]
  },
  {
   "cell_type": "code",
   "execution_count": 29,
   "metadata": {},
   "outputs": [
    {
     "name": "stdout",
     "output_type": "stream",
     "text": [
      "{-1,0,1,2,3,4,5,6,7,8,9,10,11,-4,-3,-2,-1,0,1,2,3,4,5,6,7,8,9,10,11,-4,-3,-2,-1,0,1,2,3,4,5,6,7,8,9,10,11,-4,-3,-2,-1,0,1,2,3,4,5,6,7,8,9,10,11,-4,-3,-2,-1,0,1,2,3,4,5,6,7,8,9,10,11,-4,-3,-2,-1,0,1,2,3,4,5,6,7,8,9,10,11,-4,-3,-2,-1,0,1,2,3,4,5,6,7,8,9,10,11,-4,-3,-2,-1,0,1,2,3,4,5,6,7,8,9,10,11,-4,-3,-2,-1,0,1,2,3,4,5,6,7,8,9,10,11,-4,-3,-2,-1,0,1,2,3,4,5,6,7,8}\n"
     ]
    }
   ],
   "source": [
    "s = \"{\"\n",
    "for sq in range(51,205): \n",
    "    s += str(int(((sq >> RNK_SHIFT) & RNK_MASK) - RNK_ORIGIN)) + ','\n",
    "print(s[:-1]+\"}\")"
   ]
  },
  {
   "cell_type": "code",
   "execution_count": null,
   "metadata": {
    "collapsed": true
   },
   "outputs": [],
   "source": []
  }
 ],
 "metadata": {
  "kernelspec": {
   "display_name": "Python 3",
   "language": "python",
   "name": "python3"
  },
  "language_info": {
   "codemirror_mode": {
    "name": "ipython",
    "version": 3
   },
   "file_extension": ".py",
   "mimetype": "text/x-python",
   "name": "python",
   "nbconvert_exporter": "python",
   "pygments_lexer": "ipython3",
   "version": "3.7.2"
  }
 },
 "nbformat": 4,
 "nbformat_minor": 2
}
