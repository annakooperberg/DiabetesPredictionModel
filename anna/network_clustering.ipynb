{
 "cells": [
  {
   "cell_type": "code",
   "execution_count": 2,
   "metadata": {},
   "outputs": [],
   "source": [
    "import matplotlib.pyplot as plt\n",
    "import networkx as nx\n",
    "import numpy as np\n",
    "import pandas as pd\n",
    "import threading"
   ]
  },
  {
   "cell_type": "code",
   "execution_count": 5,
   "metadata": {},
   "outputs": [],
   "source": [
    "filename = 'dataset_diabetes/diabetic_data.csv'\n",
    "data = pd.read_csv(filename).to_numpy()"
   ]
  },
  {
   "cell_type": "code",
   "execution_count": 6,
   "metadata": {},
   "outputs": [
    {
     "name": "stdout",
     "output_type": "stream",
     "text": [
      "16773\n"
     ]
    }
   ],
   "source": [
    "# Count number of patients with more than one hospital stay\n",
    "patient_nums = {}\n",
    "duplicate_count = 0\n",
    "for i in data:\n",
    "    if i[1] in patient_nums:\n",
    "        patient_nums[i[1]] += 1\n",
    "    else:\n",
    "        patient_nums[i[1]] = 1\n",
    "for i in patient_nums:\n",
    "    if patient_nums[i] > 1:\n",
    "        duplicate_count += 1\n",
    "print(duplicate_count)"
   ]
  },
  {
   "cell_type": "code",
   "execution_count": 7,
   "metadata": {},
   "outputs": [],
   "source": [
    "# Count steady patients for each medication\n",
    "num_medications = 24\n",
    "ind = 24\n",
    "ids = []\n",
    "medications = [[] for i in range(num_medications)]\n",
    "for i in data:\n",
    "    ids.append(i[0])\n",
    "    for j in range(num_medications):\n",
    "        if i[j + ind] == 'Steady':\n",
    "            medications[j].append(i[0])"
   ]
  },
  {
   "cell_type": "code",
   "execution_count": 8,
   "metadata": {},
   "outputs": [],
   "source": [
    "# ids to indices\n",
    "from_id = {}\n",
    "for i in range(len(ids)):\n",
    "    from_id[ids[i]] = i"
   ]
  },
  {
   "cell_type": "code",
   "execution_count": 9,
   "metadata": {},
   "outputs": [
    {
     "ename": "MemoryError",
     "evalue": "Unable to allocate array with shape (101766, 101766) and data type float64",
     "output_type": "error",
     "traceback": [
      "\u001b[0;31m---------------------------------------------------------------------------\u001b[0m",
      "\u001b[0;31mMemoryError\u001b[0m                               Traceback (most recent call last)",
      "\u001b[0;32m<ipython-input-9-2df8731682d7>\u001b[0m in \u001b[0;36m<module>\u001b[0;34m\u001b[0m\n\u001b[0;32m----> 1\u001b[0;31m \u001b[0mpatients\u001b[0m \u001b[0;34m=\u001b[0m \u001b[0mnp\u001b[0m\u001b[0;34m.\u001b[0m\u001b[0mzeros\u001b[0m\u001b[0;34m(\u001b[0m\u001b[0;34m(\u001b[0m\u001b[0mlen\u001b[0m\u001b[0;34m(\u001b[0m\u001b[0mids\u001b[0m\u001b[0;34m)\u001b[0m\u001b[0;34m,\u001b[0m \u001b[0mlen\u001b[0m\u001b[0;34m(\u001b[0m\u001b[0mids\u001b[0m\u001b[0;34m)\u001b[0m\u001b[0;34m)\u001b[0m\u001b[0;34m)\u001b[0m\u001b[0;34m\u001b[0m\u001b[0;34m\u001b[0m\u001b[0m\n\u001b[0m\u001b[1;32m      2\u001b[0m \u001b[0;32mfor\u001b[0m \u001b[0mi\u001b[0m \u001b[0;32min\u001b[0m \u001b[0mmedications\u001b[0m\u001b[0;34m:\u001b[0m\u001b[0;34m\u001b[0m\u001b[0;34m\u001b[0m\u001b[0m\n\u001b[1;32m      3\u001b[0m     \u001b[0;32mfor\u001b[0m \u001b[0mj\u001b[0m \u001b[0;32min\u001b[0m \u001b[0mrange\u001b[0m\u001b[0;34m(\u001b[0m\u001b[0mlen\u001b[0m\u001b[0;34m(\u001b[0m\u001b[0mi\u001b[0m\u001b[0;34m)\u001b[0m\u001b[0;34m)\u001b[0m\u001b[0;34m:\u001b[0m\u001b[0;34m\u001b[0m\u001b[0;34m\u001b[0m\u001b[0m\n\u001b[1;32m      4\u001b[0m         \u001b[0;32mfor\u001b[0m \u001b[0mk\u001b[0m \u001b[0;32min\u001b[0m \u001b[0mrange\u001b[0m\u001b[0;34m(\u001b[0m\u001b[0mj\u001b[0m \u001b[0;34m+\u001b[0m \u001b[0;36m1\u001b[0m\u001b[0;34m,\u001b[0m \u001b[0mlen\u001b[0m\u001b[0;34m(\u001b[0m\u001b[0mi\u001b[0m\u001b[0;34m)\u001b[0m\u001b[0;34m)\u001b[0m\u001b[0;34m:\u001b[0m\u001b[0;34m\u001b[0m\u001b[0;34m\u001b[0m\u001b[0m\n\u001b[1;32m      5\u001b[0m             \u001b[0mpatients\u001b[0m\u001b[0;34m[\u001b[0m\u001b[0mfrom_id\u001b[0m\u001b[0;34m[\u001b[0m\u001b[0mi\u001b[0m\u001b[0;34m[\u001b[0m\u001b[0mj\u001b[0m\u001b[0;34m]\u001b[0m\u001b[0;34m]\u001b[0m\u001b[0;34m,\u001b[0m \u001b[0mfrom_id\u001b[0m\u001b[0;34m[\u001b[0m\u001b[0mi\u001b[0m\u001b[0;34m[\u001b[0m\u001b[0mk\u001b[0m\u001b[0;34m]\u001b[0m\u001b[0;34m]\u001b[0m\u001b[0;34m]\u001b[0m \u001b[0;34m+=\u001b[0m \u001b[0;36m1\u001b[0m\u001b[0;34m\u001b[0m\u001b[0;34m\u001b[0m\u001b[0m\n",
      "\u001b[0;31mMemoryError\u001b[0m: Unable to allocate array with shape (101766, 101766) and data type float64"
     ]
    }
   ],
   "source": [
    "patients = np.zeros((len(ids), len(ids)))\n",
    "for i in medications:\n",
    "    for j in range(len(i)):\n",
    "        for k in range(j + 1, len(i)):\n",
    "            patients[from_id[i[j]], from_id[i[k]]] += 1\n",
    "            patients[from_id[i[k]], from_id[i[j]]] += 1"
   ]
  },
  {
   "cell_type": "code",
   "execution_count": 10,
   "metadata": {},
   "outputs": [],
   "source": [
    "# create network of medical specialties\n",
    "meds = set()\n",
    "for i in data:\n",
    "    meds.add(i[11])\n",
    "meds.remove('?')\n",
    "nums_to_meds = list(meds)\n",
    "meds_to_nums = {}\n",
    "for ind, m in enumerate(nums_to_meds):\n",
    "    meds_to_nums[m] = ind\n",
    "num_meds = len(nums_to_meds)"
   ]
  },
  {
   "cell_type": "code",
   "execution_count": 11,
   "metadata": {},
   "outputs": [],
   "source": [
    "adjacency = np.zeros((num_meds, num_meds))\n",
    "counts = {}\n",
    "for k in range(100000):\n",
    "    ind = np.random.randint(0, len(data) - 1)\n",
    "    i = data[ind]\n",
    "    ind2 = np.random.randint(0, len(data) - 1)\n",
    "    j = data[ind2]\n",
    "    if (i[11] != '?') and (j[11] != '?') and (i[11] != j[11]):\n",
    "        a = meds_to_nums[i[11]]\n",
    "        b = meds_to_nums[j[11]]\n",
    "        if i[2] == j[2]:\n",
    "            adjacency[a, b] += 1\n",
    "            adjacency[b, a] += 1\n",
    "            if a in counts:\n",
    "                counts[a] += 1\n",
    "            else:\n",
    "                counts[a] = 1\n",
    "            if b in counts:\n",
    "                counts[b] += 1\n",
    "            else:\n",
    "                counts[b] = 1\n",
    "        if i[3] == j[3]:\n",
    "            adjacency[a, b] += 1\n",
    "            adjacency[b, a] += 1\n",
    "            if a in counts:\n",
    "                counts[a] += 1\n",
    "            else:\n",
    "                counts[a] = 1\n",
    "            if b in counts:\n",
    "                counts[b] += 1\n",
    "            else:\n",
    "                counts[b] = 1\n",
    "adjacency /= np.mean(adjacency)"
   ]
  },
  {
   "cell_type": "code",
   "execution_count": 12,
   "metadata": {},
   "outputs": [],
   "source": [
    "for i in range(len(adjacency)):\n",
    "    try:\n",
    "        adjacency[i,:] /= counts[i]\n",
    "    except:\n",
    "        pass\n",
    "    try:\n",
    "        adjacency[:,i] /= counts[i]\n",
    "    except:\n",
    "        pass"
   ]
  },
  {
   "cell_type": "code",
   "execution_count": 13,
   "metadata": {},
   "outputs": [
    {
     "ename": "NameError",
     "evalue": "name 'nx' is not defined",
     "output_type": "error",
     "traceback": [
      "\u001b[0;31m---------------------------------------------------------------------------\u001b[0m",
      "\u001b[0;31mNameError\u001b[0m                                 Traceback (most recent call last)",
      "\u001b[0;32m<ipython-input-13-1823a012aa23>\u001b[0m in \u001b[0;36m<module>\u001b[0;34m\u001b[0m\n\u001b[0;32m----> 1\u001b[0;31m \u001b[0mgraph\u001b[0m \u001b[0;34m=\u001b[0m \u001b[0mnx\u001b[0m\u001b[0;34m.\u001b[0m\u001b[0mfrom_numpy_matrix\u001b[0m\u001b[0;34m(\u001b[0m\u001b[0madjacency\u001b[0m\u001b[0;34m)\u001b[0m\u001b[0;34m\u001b[0m\u001b[0;34m\u001b[0m\u001b[0m\n\u001b[0m",
      "\u001b[0;31mNameError\u001b[0m: name 'nx' is not defined"
     ]
    }
   ],
   "source": [
    "graph = nx.from_numpy_matrix(adjacency)"
   ]
  },
  {
   "cell_type": "code",
   "execution_count": 14,
   "metadata": {},
   "outputs": [
    {
     "ename": "NameError",
     "evalue": "name 'nx' is not defined",
     "output_type": "error",
     "traceback": [
      "\u001b[0;31m---------------------------------------------------------------------------\u001b[0m",
      "\u001b[0;31mNameError\u001b[0m                                 Traceback (most recent call last)",
      "\u001b[0;32m<ipython-input-14-25dacc986813>\u001b[0m in \u001b[0;36m<module>\u001b[0;34m\u001b[0m\n\u001b[1;32m      1\u001b[0m \u001b[0;31m# Eigenvector centrality\u001b[0m\u001b[0;34m\u001b[0m\u001b[0;34m\u001b[0m\u001b[0;34m\u001b[0m\u001b[0m\n\u001b[0;32m----> 2\u001b[0;31m \u001b[0meigenvector\u001b[0m \u001b[0;34m=\u001b[0m \u001b[0mnx\u001b[0m\u001b[0;34m.\u001b[0m\u001b[0meigenvector_centrality\u001b[0m\u001b[0;34m(\u001b[0m\u001b[0mgraph\u001b[0m\u001b[0;34m)\u001b[0m\u001b[0;34m\u001b[0m\u001b[0;34m\u001b[0m\u001b[0m\n\u001b[0m\u001b[1;32m      3\u001b[0m \u001b[0me2\u001b[0m \u001b[0;34m=\u001b[0m \u001b[0;34m[\u001b[0m\u001b[0;34m]\u001b[0m\u001b[0;34m\u001b[0m\u001b[0;34m\u001b[0m\u001b[0m\n\u001b[1;32m      4\u001b[0m \u001b[0;32mfor\u001b[0m \u001b[0mi\u001b[0m \u001b[0;32min\u001b[0m \u001b[0meigenvector\u001b[0m\u001b[0;34m:\u001b[0m\u001b[0;34m\u001b[0m\u001b[0;34m\u001b[0m\u001b[0m\n\u001b[1;32m      5\u001b[0m     \u001b[0me2\u001b[0m\u001b[0;34m.\u001b[0m\u001b[0mappend\u001b[0m\u001b[0;34m(\u001b[0m\u001b[0;34m(\u001b[0m\u001b[0mi\u001b[0m\u001b[0;34m,\u001b[0m \u001b[0meigenvector\u001b[0m\u001b[0;34m[\u001b[0m\u001b[0mi\u001b[0m\u001b[0;34m]\u001b[0m\u001b[0;34m)\u001b[0m\u001b[0;34m)\u001b[0m\u001b[0;34m\u001b[0m\u001b[0;34m\u001b[0m\u001b[0m\n",
      "\u001b[0;31mNameError\u001b[0m: name 'nx' is not defined"
     ]
    }
   ],
   "source": [
    "# Eigenvector centrality\n",
    "eigenvector = nx.eigenvector_centrality(graph)\n",
    "e2 = []\n",
    "for i in eigenvector:\n",
    "    e2.append((i, eigenvector[i]))\n",
    "e2.sort(key = lambda x: x[1], reverse = True)\n",
    "for i in range(5):\n",
    "    print(nums_to_meds[e2[i][0]])"
   ]
  },
  {
   "cell_type": "code",
   "execution_count": null,
   "metadata": {},
   "outputs": [
    {
     "name": "stdout",
     "output_type": "stream",
     "text": [
      "thread from 0 to 508 starting\n",
      "thread from 508 to 1016 starting\n",
      "thread from 1016 to 1524 starting\n",
      "thread from 1524 to 2032 starting\n",
      "thread from 2032 to 2540 starting\n",
      "thread from 2540 to 3048 starting\n",
      "thread from 3048 to 3556 starting\n",
      "thread from 3556 to 4064 starting\n",
      "thread from 4064 to 4572 starting\n",
      "thread from 4572 to 5080 starting\n",
      "thread from 5080 to 5588 starting\n",
      "thread from 5588 to 6096 starting\n",
      "thread from 6096 to 6604 starting\n",
      "thread from 6604 to 7112 starting\n",
      "thread from 7112 to 7620 starting\n",
      "thread from 7620 to 8128 starting\n",
      "thread from 8128 to 8636 starting\n",
      "thread from 8636 to 9144 starting\n",
      "thread from 9144 to 9652 starting\n",
      "thread from 9652 to 10160 starting\n",
      "thread from 10160 to 10668 starting\n",
      "thread from 10668 to 11176 starting\n",
      "thread from 11176 to 11684 starting\n",
      "thread from 11684 to 12192 starting\n",
      "thread from 12192 to 12700 starting\n",
      "thread from 12700 to 13208 starting\n",
      "thread from 13208 to 13716 starting\n",
      "thread from 13716 to 14224 starting\n",
      "thread from 14224 to 14732 starting\n",
      "thread from 14732 to 15240 starting\n",
      "thread from 15240 to 15748 starting\n",
      "thread from 15748 to 16256 starting\n",
      "thread from 16256 to 16764 starting\n",
      "thread from 16764 to 17272 starting\n",
      "thread from 17272 to 17780 starting\n",
      "thread from 17780 to 18288 starting\n",
      "thread from 18288 to 18796 starting\n",
      "thread from 18796 to 19304 starting\n",
      "thread from 19304 to 19812 starting\n",
      "thread from 19812 to 20320 starting\n",
      "thread from 20320 to 20828 starting\n",
      "thread from 20828 to 21336 starting\n",
      "thread from 21336 to 21844 starting\n",
      "thread from 21844 to 22352 starting\n",
      "thread from 22352 to 22860 starting\n",
      "thread from 22860 to 23368 starting\n",
      "thread from 23368 to 23876 starting\n",
      "thread from 23876 to 24384 starting\n",
      "thread from 24384 to 24892 starting\n",
      "thread from 24892 to 25400 starting\n",
      "thread from 25400 to 25908 starting\n",
      "thread from 25908 to 26416 starting\n",
      "thread from 26416 to 26924 starting\n",
      "thread from 26924 to 27432 starting\n",
      "thread from 27432 to 27940 starting\n",
      "thread from 27940 to 28448 starting\n",
      "thread from 28448 to 28956 starting\n",
      "thread from 28956 to 29464 starting\n",
      "thread from 29464 to 29972 starting\n",
      "thread from 29972 to 30480 starting\n",
      "thread from 30480 to 30988 starting\n",
      "thread from 30988 to 31496 starting\n",
      "thread from 31496 to 32004 starting\n",
      "thread from 32004 to 32512 starting\n",
      "thread from 32512 to 33020 starting\n",
      "thread from 33020 to 33528 starting\n",
      "thread from 33528 to 34036 starting\n",
      "thread from 34036 to 34544 starting\n",
      "thread from 34544 to 35052 starting\n",
      "thread from 35052 to 35560 starting\n",
      "thread from 35560 to 36068 starting\n",
      "thread from 36068 to 36576 starting\n",
      "thread from 36576 to 37084 starting\n",
      "thread from 37084 to 37592 starting\n",
      "thread from 37592 to 38100 starting\n",
      "thread from 38100 to 38608 starting\n",
      "thread from 38608 to 39116 starting\n",
      "thread from 39116 to 39624 starting\n",
      "thread from 39624 to 40132 starting\n",
      "thread from 40132 to 40640 starting\n",
      "thread from 40640 to 41148 starting\n",
      "thread from 41148 to 41656 starting\n",
      "thread from 41656 to 42164 starting\n",
      "thread from 42164 to 42672 starting\n",
      "thread from 42672 to 43180 starting\n",
      "thread from 43180 to 43688 starting\n",
      "thread from 43688 to 44196 starting\n",
      "thread from 44196 to 44704 starting\n",
      "thread from 44704 to 45212 starting\n",
      "thread from 45212 to 45720 starting\n",
      "thread from 45720 to 46228 startingthread from 46228 to 46736 starting\n",
      "\n",
      "thread from 46736 to 47244 starting\n",
      "thread from 47244 to 47752 starting\n",
      "thread from 47752 to 48260 startingthread from 48260 to 48768 starting\n",
      "thread from 48768 to 49276 starting\n",
      "\n",
      "thread from 49276 to 49784 starting\n",
      "thread from 49784 to 50292 starting\n",
      "thread from 50292 to 50800 starting\n",
      "thread from 50800 to 51308 starting\n",
      "thread from 51308 to 51816 starting\n",
      "thread from 51816 to 52324 starting\n",
      "thread from 52324 to 52832 starting\n",
      "thread from 52832 to 53340 starting\n",
      "thread from 53340 to 53848 starting\n",
      "thread from 53848 to 54356 starting\n",
      "thread from 54356 to 54864 starting\n",
      "thread from 54864 to 55372 starting\n",
      "thread from 55372 to 55880 starting\n",
      "thread from 55880 to 56388 starting\n",
      "thread from 56388 to 56896 starting\n",
      "thread from 56896 to 57404 starting\n",
      "thread from 57404 to 57912 starting\n",
      "thread from 57912 to 58420 starting\n",
      "thread from 58420 to 58928 starting\n",
      "thread from 58928 to 59436 starting\n",
      "thread from 59436 to 59944 starting\n",
      "thread from 59944 to 60452 starting\n",
      "thread from 60452 to 60960 starting\n",
      "thread from 60960 to 61468 starting\n",
      "thread from 61468 to 61976 starting\n",
      "thread from 61976 to 62484 starting\n",
      "thread from 62484 to 62992 startingthread from 62992 to 63500 starting\n",
      "\n",
      "thread from 63500 to 64008 starting\n",
      "thread from 64008 to 64516 starting\n",
      "thread from 64516 to 65024 starting\n",
      "thread from 65024 to 65532 starting\n",
      "thread from 65532 to 66040 startingthread from 66040 to 66548 starting\n",
      "\n",
      "thread from 66548 to 67056 starting\n",
      "thread from 67056 to 67564 starting\n",
      "thread from 67564 to 68072 starting\n",
      "thread from 68072 to 68580 starting\n"
     ]
    }
   ],
   "source": [
    "def thread_func(start, end, adjacency):\n",
    "    print('thread from ' + str(start) + ' to ' + str(end) + ' starting')\n",
    "    for ind in range(start, end):\n",
    "        for ind2 in range(ind + 1, len(data)):\n",
    "            i = data[ind]\n",
    "            j = data[ind2]\n",
    "            if (i[11] != '?') and (j[11] != '?') and (i[11] != j[11]):\n",
    "                a = meds_to_nums[i[11]]\n",
    "                b = meds_to_nums[j[11]]\n",
    "                if i[2] == j[2]:\n",
    "                    adjacency[a, b] += 1\n",
    "                    adjacency[b, a] += 1\n",
    "                if i[3] == j[3]:\n",
    "                    adjacency[a, b] += 1\n",
    "                    adjacency[b, a] += 1\n",
    "    print('thread from ' + str(start) + ' to ' + str(end) + ' finishing')\n",
    "num_threads = 200\n",
    "arrays = [np.zeros((num_meds, num_meds)) for i in range(num_threads)]\n",
    "start = 0\n",
    "end = int(len(data) / num_threads)\n",
    "for i in range(num_threads):\n",
    "    if i == (num_threads - 1):\n",
    "        end = len(data)\n",
    "    x = threading.Thread(target=thread_func, args=(start, end, arrays[i]))\n",
    "    x.start()\n",
    "    start = end\n",
    "    end = start + int(len(data) / num_threads)"
   ]
  },
  {
   "cell_type": "code",
   "execution_count": null,
   "metadata": {},
   "outputs": [],
   "source": []
  }
 ],
 "metadata": {
  "kernelspec": {
   "display_name": "Python 3",
   "language": "python",
   "name": "python3"
  },
  "language_info": {
   "codemirror_mode": {
    "name": "ipython",
    "version": 3
   },
   "file_extension": ".py",
   "mimetype": "text/x-python",
   "name": "python",
   "nbconvert_exporter": "python",
   "pygments_lexer": "ipython3",
   "version": "3.7.4"
  }
 },
 "nbformat": 4,
 "nbformat_minor": 2
}
