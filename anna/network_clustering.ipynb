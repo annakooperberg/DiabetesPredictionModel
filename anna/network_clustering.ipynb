{
 "cells": [
  {
   "cell_type": "code",
   "execution_count": 8,
   "metadata": {},
   "outputs": [],
   "source": [
    "import matplotlib.pyplot as plt\n",
    "import numpy as np\n",
    "import pandas as pd\n",
    "import sys\n",
    "\n",
    "from networkx.algorithms import bipartite\n",
    "from random import shuffle\n",
    "from sklearn.cluster import SpectralClustering"
   ]
  },
  {
   "cell_type": "code",
   "execution_count": 106,
   "metadata": {},
   "outputs": [],
   "source": [
    "FILENAME = '/om2/user/annakoop/DiabetesPredictionModel/dataset_diabetes/diabetic_data.csv'\n",
    "TEST_FRACTION = 0.1\n",
    "NETWORK_SIZE = 5000\n",
    "N_CLUSTERS = 2"
   ]
  },
  {
   "cell_type": "code",
   "execution_count": 154,
   "metadata": {},
   "outputs": [],
   "source": [
    "def remove_duplicate_patients(data):\n",
    "    data_dict = {}\n",
    "    for row in data:\n",
    "        if row[1] in data_dict:\n",
    "            data_dict[row[1]].append(row)\n",
    "        else:\n",
    "            data_dict[row[1]] = [row]\n",
    "    data_pruned = []\n",
    "    for patient in data_dict:\n",
    "        if len(data_dict[patient]) == 1:\n",
    "            data_pruned.append(data_dict[patient][0])\n",
    "        else:\n",
    "            options = []\n",
    "            for encounter in data_dict[patient]:\n",
    "                if encounter[49] == '<30' or encounter[49] == '>30':\n",
    "                    options.append(encounter)\n",
    "            if len(options) == 0:\n",
    "                options = data_dict[patient]\n",
    "            ind = np.random.randint(0, len(options))\n",
    "            data_pruned.append(options[ind])\n",
    "    return data_pruned\n",
    "def separate_test_train(data):\n",
    "    shuffle(data)\n",
    "    cutoff = int(len(data) * (1 - TEST_FRACTION))\n",
    "    return data[:cutoff], data[cutoff:]\n",
    "def make_network(data):\n",
    "    adj = np.zeros((len(data), len(data)), dtype=np.int8)\n",
    "    for x, row1 in enumerate(data):\n",
    "        for y, row2 in enumerate(data[x + 1:]):\n",
    "            # medications span indices 24 - 46\n",
    "            for i in range(24, 47):\n",
    "                if row1[i] == row2[i]:\n",
    "                    adj[x, y + x + 1] += 1\n",
    "                    adj[y + x + 1, x] += 1\n",
    "                    if row1[i] != 'No':\n",
    "                        adj[x, y + x + 1] += 3\n",
    "                        adj[y + x + 1, x] += 3\n",
    "        if x % 200 == 0:\n",
    "            print(x)\n",
    "    return adj\n",
    "def analyze_clusters(data, labels):\n",
    "    cluster_sizes = [0]*N_CLUSTERS\n",
    "    readmission_frac = [0]*N_CLUSTERS\n",
    "    meds_frac = [[0 for i in range(23)] for j in range(N_CLUSTERS)]\n",
    "    admission_type = [[] for i in range(N_CLUSTERS)]\n",
    "    for i, row in enumerate(data):\n",
    "        c = labels[i]\n",
    "        cluster_sizes[c] += 1\n",
    "        admission_type[c].append(row[8])\n",
    "        if row[49] == '<30' or row[49] == '>30':\n",
    "            readmission_frac[c] += 1\n",
    "        for m in range(24, 47):\n",
    "            if row[m] != 'No':\n",
    "                meds_frac[c][m - 24] += 1\n",
    "    print(readmission_frac)\n",
    "    print('cluster sizes: ', cluster_sizes)\n",
    "    readmission_frac = [readmission_frac[i]/cluster_sizes[i] for i in range(N_CLUSTERS)]\n",
    "    print('readmission fraction by cluster: ', readmission_frac)\n",
    "    print('meds fraction by cluster: ')\n",
    "    for i in range(N_CLUSTERS):\n",
    "        meds_frac[i] = [meds_frac[i][j] / cluster_sizes[i] for j in range(23)]\n",
    "        print(meds_frac[i])\n",
    "    return readmission_frac, meds_frac, admission_type\n",
    "        \n",
    "def make_network_admission_discharge(data):\n",
    "    adj = np.zeros((len(data), len(data)), dtype=np.int8)\n",
    "    for x, row1 in enumerate(data):\n",
    "        for y, row2 in enumerate(data[x + 1:]):\n",
    "            # medications span indices 24 - 46\n",
    "            for i in range(6, 9):\n",
    "                if row1[i] == row2[i]:\n",
    "                    adj[x, y + x + 1] += 1\n",
    "                    adj[y + x + 1, x] += 1\n",
    "        if x % 200 == 0:\n",
    "            print(x)\n",
    "    return adj\n"
   ]
  },
  {
   "cell_type": "code",
   "execution_count": 107,
   "metadata": {},
   "outputs": [],
   "source": [
    "data = pd.read_csv(FILENAME).to_numpy()\n",
    "data_clean = remove_duplicate_patients(data)\n",
    "train_data, test_data = separate_test_train(data_clean)"
   ]
  },
  {
   "cell_type": "code",
   "execution_count": 108,
   "metadata": {},
   "outputs": [
    {
     "name": "stdout",
     "output_type": "stream",
     "text": [
      "0\n",
      "200\n",
      "400\n",
      "600\n",
      "800\n",
      "1000\n",
      "1200\n",
      "1400\n",
      "1600\n",
      "1800\n",
      "2000\n",
      "2200\n",
      "2400\n",
      "2600\n",
      "2800\n",
      "3000\n",
      "3200\n",
      "3400\n",
      "3600\n",
      "3800\n",
      "4000\n",
      "4200\n",
      "4400\n",
      "4600\n",
      "4800\n"
     ]
    }
   ],
   "source": [
    "adj = make_network_admission_discharge(train_data[:NETWORK_SIZE])"
   ]
  },
  {
   "cell_type": "code",
   "execution_count": 109,
   "metadata": {},
   "outputs": [],
   "source": [
    "clustering = SpectralClustering(n_clusters=N_CLUSTERS, affinity='precomputed').fit(adj)"
   ]
  },
  {
   "cell_type": "code",
   "execution_count": 155,
   "metadata": {},
   "outputs": [
    {
     "name": "stdout",
     "output_type": "stream",
     "text": [
      "[1235, 743]\n",
      "cluster sizes:  [2920, 2080]\n",
      "readmission fraction by cluster:  [0.4229452054794521, 0.35721153846153847]\n",
      "meds fraction by cluster: \n",
      "[0.19863013698630136, 0.01643835616438356, 0.005136986301369863, 0.0017123287671232876, 0.05171232876712329, 0.0, 0.12602739726027398, 0.10616438356164383, 0.0, 0.07123287671232877, 0.06232876712328767, 0.0017123287671232876, 0.0, 0.0006849315068493151, 0.0013698630136986301, 0.0, 0.0, 0.522945205479452, 0.005136986301369863, 0.0, 0.0, 0.0, 0.0]\n",
      "[0.22740384615384615, 0.010576923076923078, 0.005288461538461539, 0.0014423076923076924, 0.06153846153846154, 0.0, 0.1293269230769231, 0.10865384615384616, 0.0004807692307692308, 0.08798076923076924, 0.07788461538461539, 0.0038461538461538464, 0.0004807692307692308, 0.0, 0.0019230769230769232, 0.0, 0.0, 0.49278846153846156, 0.006730769230769231, 0.0, 0.0, 0.0, 0.0]\n"
     ]
    }
   ],
   "source": [
    "readmission_frac, meds_frac, admission_type = analyze_clusters(train_data[:NETWORK_SIZE], clustering.labels_)\n"
   ]
  },
  {
   "cell_type": "code",
   "execution_count": 159,
   "metadata": {},
   "outputs": [
    {
     "name": "stdout",
     "output_type": "stream",
     "text": [
      "[0.02089041095890411, 0.9068493150684932, 0.00821917808219178, 0.06404109589041096]\n",
      "[0.7245192307692307, 0.0, 0.1605769230769231, 0.11490384615384615]\n"
     ]
    }
   ],
   "source": [
    "# frac by type\n",
    "# [1, 7, (9, 15, 17), other]\n",
    "frac_admission_types = [[0 for i in range(4)] for j in range(N_CLUSTERS)]\n",
    "sizes = [2920, 2080]\n",
    "for i, row in enumerate(train_data[:NETWORK_SIZE]):\n",
    "    c = clustering.labels_[i]\n",
    "    if row[8] == 1:\n",
    "        frac_admission_types[c][0] += 1\n",
    "    elif row[8] == 7:\n",
    "        frac_admission_types[c][1] += 1\n",
    "    elif row[8] == 9 or row[8] == 15 or row[8] == 17:\n",
    "        frac_admission_types[c][2] += 1\n",
    "    else:\n",
    "        frac_admission_types[c][3] += 1\n",
    "\n",
    "for i in range(N_CLUSTERS):\n",
    "    for j in range(4):\n",
    "        frac_admission_types[i][j] /= sizes[i]\n",
    "print(frac_admission_types[0])\n",
    "print(frac_admission_types[1])\n"
   ]
  },
  {
   "cell_type": "code",
   "execution_count": 160,
   "metadata": {},
   "outputs": [
    {
     "name": "stdout",
     "output_type": "stream",
     "text": [
      "{1, 2, 3, 4, 5, 6, 7, 8, 10, 17}\n"
     ]
    },
    {
     "data": {
      "text/plain": [
       "<matplotlib.legend.Legend at 0x2adf11e08b10>"
      ]
     },
     "execution_count": 160,
     "metadata": {},
     "output_type": "execute_result"
    },
    {
     "data": {
      "image/png": "[encoded data removed]",
      "text/plain": [
       "<Figure size 432x288 with 1 Axes>"
      ]
     },
     "metadata": {
      "needs_background": "light"
     },
     "output_type": "display_data"
    }
   ],
   "source": [
    "print(set(admission_type[0]))\n",
    "N = 4\n",
    "\n",
    "ind = np.arange(N)  # the x locations for the groups\n",
    "width = 0.35       # the width of the bars\n",
    "\n",
    "fig, ax = plt.subplots()\n",
    "rects1 = ax.bar(ind, frac_admission_types[0], width, color='r')\n",
    "\n",
    "rects2 = ax.bar(ind + width, frac_admission_types[1], width, color='y')\n",
    "\n",
    "# add some text for labels, title and axes ticks\n",
    "ax.set_title('Fraction of discharge type for each cluster')\n",
    "ax.set_xticks(ind + width / 2)\n",
    "ax.set_xticklabels(('Physician\\nReferral', 'Emergency\\nRoom', 'No Info', 'Other'))\n",
    "ax.set_xlabel('Discharge Types')\n",
    "\n",
    "ax.legend((rects1[0], rects2[0]), ('Cluster 1', 'Cluster 2'))\n"
   ]
  },
  {
   "cell_type": "code",
   "execution_count": 101,
   "metadata": {},
   "outputs": [
    {
     "data": {
      "text/plain": [
       "<matplotlib.legend.Legend at 0x2adf936f4cd0>"
      ]
     },
     "execution_count": 101,
     "metadata": {},
     "output_type": "execute_result"
    },
    {
     "data": {
      "image/png": "[encoded data removed]",
      "text/plain": [
       "<Figure size 432x288 with 1 Axes>"
      ]
     },
     "metadata": {
      "needs_background": "light"
     },
     "output_type": "display_data"
    }
   ],
   "source": [
    "N = 23\n",
    "\n",
    "ind = np.arange(N)  # the x locations for the groups\n",
    "width = 0.35       # the width of the bars\n",
    "\n",
    "fig, ax = plt.subplots()\n",
    "rects1 = ax.bar(ind, meds_frac[0], width, color='r')\n",
    "\n",
    "rects2 = ax.bar(ind + width, meds_frac[1], width, color='y')\n",
    "\n",
    "# add some text for labels, title and axes ticks\n",
    "ax.set_title('Fraction of members of cluster taking specific medication')\n",
    "ax.set_xticks(ind + width / 2)\n",
    "ax.set_xticklabels((''))\n",
    "ax.set_xlabel('Medications')\n",
    "\n",
    "ax.legend((rects1[0], rects2[0]), ('Cluster 1', 'Cluster 2'))\n"
   ]
  },
  {
   "cell_type": "code",
   "execution_count": 153,
   "metadata": {},
   "outputs": [
    {
     "data": {
      "text/plain": [
       "Text(0.5, 1.0, 'Histogram of Pairwise Edge Weights for Admission/Discharge Similarity Network')"
      ]
     },
     "execution_count": 153,
     "metadata": {},
     "output_type": "execute_result"
    },
    {
     "data": {
      "image/png": "[encoded data removed]",
      "text/plain": [
       "<Figure size 432x288 with 1 Axes>"
      ]
     },
     "metadata": {
      "needs_background": "light"
     },
     "output_type": "display_data"
    }
   ],
   "source": [
    "plt.hist(adj.flatten())\n",
    "plt.yticks([])\n",
    "plt.title('Histogram of Pairwise Edge Weights for Admission/Discharge Similarity Network')"
   ]
  },
  {
   "cell_type": "code",
   "execution_count": 157,
   "metadata": {},
   "outputs": [
    {
     "data": {
      "text/plain": [
       "([], <a list of 0 Text yticklabel objects>)"
      ]
     },
     "execution_count": 157,
     "metadata": {},
     "output_type": "execute_result"
    },
    {
     "data": {
      "image/png": "[encoded data removed]",
      "text/plain": [
       "<Figure size 432x288 with 1 Axes>"
      ]
     },
     "metadata": {
      "needs_background": "light"
     },
     "output_type": "display_data"
    }
   ],
   "source": [
    "n = []\n",
    "for i in data:\n",
    "    n.append(i[8])\n",
    "plt.hist(n, bins=40)\n",
    "plt.yticks([])"
   ]
  },
  {
   "cell_type": "code",
   "execution_count": null,
   "metadata": {},
   "outputs": [],
   "source": [
    "####"
   ]
  },
  {
   "cell_type": "code",
   "execution_count": 6,
   "metadata": {},
   "outputs": [
    {
     "name": "stdout",
     "output_type": "stream",
     "text": [
      "16773\n"
     ]
    }
   ],
   "source": [
    "# Count number of patients with more than one hospital stay\n",
    "patient_nums = {}\n",
    "duplicate_count = 0\n",
    "for i in data:\n",
    "    if i[1] in patient_nums:\n",
    "        patient_nums[i[1]] += 1\n",
    "    else:\n",
    "        patient_nums[i[1]] = 1\n",
    "for i in patient_nums:\n",
    "    if patient_nums[i] > 1:\n",
    "        duplicate_count += 1\n",
    "print(duplicate_count)"
   ]
  },
  {
   "cell_type": "code",
   "execution_count": 7,
   "metadata": {},
   "outputs": [],
   "source": [
    "# Count steady patients for each medication\n",
    "num_medications = 24\n",
    "ind = 24\n",
    "ids = []\n",
    "medications = [[] for i in range(num_medications)]\n",
    "for i in data:\n",
    "    ids.append(i[0])\n",
    "    for j in range(num_medications):\n",
    "        if i[j + ind] == 'Steady':\n",
    "            medications[j].append(i[0])"
   ]
  },
  {
   "cell_type": "code",
   "execution_count": 8,
   "metadata": {},
   "outputs": [],
   "source": [
    "# ids to indices\n",
    "from_id = {}\n",
    "for i in range(len(ids)):\n",
    "    from_id[ids[i]] = i"
   ]
  },
  {
   "cell_type": "code",
   "execution_count": 9,
   "metadata": {},
   "outputs": [
    {
     "ename": "MemoryError",
     "evalue": "Unable to allocate array with shape (101766, 101766) and data type float64",
     "output_type": "error",
     "traceback": [
      "\u001b[0;31m---------------------------------------------------------------------------\u001b[0m",
      "\u001b[0;31mMemoryError\u001b[0m                               Traceback (most recent call last)",
      "\u001b[0;32m<ipython-input-9-2df8731682d7>\u001b[0m in \u001b[0;36m<module>\u001b[0;34m\u001b[0m\n\u001b[0;32m----> 1\u001b[0;31m \u001b[0mpatients\u001b[0m \u001b[0;34m=\u001b[0m \u001b[0mnp\u001b[0m\u001b[0;34m.\u001b[0m\u001b[0mzeros\u001b[0m\u001b[0;34m(\u001b[0m\u001b[0;34m(\u001b[0m\u001b[0mlen\u001b[0m\u001b[0;34m(\u001b[0m\u001b[0mids\u001b[0m\u001b[0;34m)\u001b[0m\u001b[0;34m,\u001b[0m \u001b[0mlen\u001b[0m\u001b[0;34m(\u001b[0m\u001b[0mids\u001b[0m\u001b[0;34m)\u001b[0m\u001b[0;34m)\u001b[0m\u001b[0;34m)\u001b[0m\u001b[0;34m\u001b[0m\u001b[0;34m\u001b[0m\u001b[0m\n\u001b[0m\u001b[1;32m      2\u001b[0m \u001b[0;32mfor\u001b[0m \u001b[0mi\u001b[0m \u001b[0;32min\u001b[0m \u001b[0mmedications\u001b[0m\u001b[0;34m:\u001b[0m\u001b[0;34m\u001b[0m\u001b[0;34m\u001b[0m\u001b[0m\n\u001b[1;32m      3\u001b[0m     \u001b[0;32mfor\u001b[0m \u001b[0mj\u001b[0m \u001b[0;32min\u001b[0m \u001b[0mrange\u001b[0m\u001b[0;34m(\u001b[0m\u001b[0mlen\u001b[0m\u001b[0;34m(\u001b[0m\u001b[0mi\u001b[0m\u001b[0;34m)\u001b[0m\u001b[0;34m)\u001b[0m\u001b[0;34m:\u001b[0m\u001b[0;34m\u001b[0m\u001b[0;34m\u001b[0m\u001b[0m\n\u001b[1;32m      4\u001b[0m         \u001b[0;32mfor\u001b[0m \u001b[0mk\u001b[0m \u001b[0;32min\u001b[0m \u001b[0mrange\u001b[0m\u001b[0;34m(\u001b[0m\u001b[0mj\u001b[0m \u001b[0;34m+\u001b[0m \u001b[0;36m1\u001b[0m\u001b[0;34m,\u001b[0m \u001b[0mlen\u001b[0m\u001b[0;34m(\u001b[0m\u001b[0mi\u001b[0m\u001b[0;34m)\u001b[0m\u001b[0;34m)\u001b[0m\u001b[0;34m:\u001b[0m\u001b[0;34m\u001b[0m\u001b[0;34m\u001b[0m\u001b[0m\n\u001b[1;32m      5\u001b[0m             \u001b[0mpatients\u001b[0m\u001b[0;34m[\u001b[0m\u001b[0mfrom_id\u001b[0m\u001b[0;34m[\u001b[0m\u001b[0mi\u001b[0m\u001b[0;34m[\u001b[0m\u001b[0mj\u001b[0m\u001b[0;34m]\u001b[0m\u001b[0;34m]\u001b[0m\u001b[0;34m,\u001b[0m \u001b[0mfrom_id\u001b[0m\u001b[0;34m[\u001b[0m\u001b[0mi\u001b[0m\u001b[0;34m[\u001b[0m\u001b[0mk\u001b[0m\u001b[0;34m]\u001b[0m\u001b[0;34m]\u001b[0m\u001b[0;34m]\u001b[0m \u001b[0;34m+=\u001b[0m \u001b[0;36m1\u001b[0m\u001b[0;34m\u001b[0m\u001b[0;34m\u001b[0m\u001b[0m\n",
      "\u001b[0;31mMemoryError\u001b[0m: Unable to allocate array with shape (101766, 101766) and data type float64"
     ]
    }
   ],
   "source": [
    "patients = np.zeros((len(ids), len(ids)))\n",
    "for i in medications:\n",
    "    for j in range(len(i)):\n",
    "        for k in range(j + 1, len(i)):\n",
    "            patients[from_id[i[j]], from_id[i[k]]] += 1\n",
    "            patients[from_id[i[k]], from_id[i[j]]] += 1"
   ]
  },
  {
   "cell_type": "code",
   "execution_count": 10,
   "metadata": {},
   "outputs": [],
   "source": [
    "# create network of medical specialties\n",
    "meds = set()\n",
    "for i in data:\n",
    "    meds.add(i[11])\n",
    "meds.remove('?')\n",
    "nums_to_meds = list(meds)\n",
    "meds_to_nums = {}\n",
    "for ind, m in enumerate(nums_to_meds):\n",
    "    meds_to_nums[m] = ind\n",
    "num_meds = len(nums_to_meds)"
   ]
  },
  {
   "cell_type": "code",
   "execution_count": 11,
   "metadata": {},
   "outputs": [],
   "source": [
    "adjacency = np.zeros((num_meds, num_meds))\n",
    "counts = {}\n",
    "for k in range(100000):\n",
    "    ind = np.random.randint(0, len(data) - 1)\n",
    "    i = data[ind]\n",
    "    ind2 = np.random.randint(0, len(data) - 1)\n",
    "    j = data[ind2]\n",
    "    if (i[11] != '?') and (j[11] != '?') and (i[11] != j[11]):\n",
    "        a = meds_to_nums[i[11]]\n",
    "        b = meds_to_nums[j[11]]\n",
    "        if i[2] == j[2]:\n",
    "            adjacency[a, b] += 1\n",
    "            adjacency[b, a] += 1\n",
    "            if a in counts:\n",
    "                counts[a] += 1\n",
    "            else:\n",
    "                counts[a] = 1\n",
    "            if b in counts:\n",
    "                counts[b] += 1\n",
    "            else:\n",
    "                counts[b] = 1\n",
    "        if i[3] == j[3]:\n",
    "            adjacency[a, b] += 1\n",
    "            adjacency[b, a] += 1\n",
    "            if a in counts:\n",
    "                counts[a] += 1\n",
    "            else:\n",
    "                counts[a] = 1\n",
    "            if b in counts:\n",
    "                counts[b] += 1\n",
    "            else:\n",
    "                counts[b] = 1\n",
    "adjacency /= np.mean(adjacency)"
   ]
  },
  {
   "cell_type": "code",
   "execution_count": 12,
   "metadata": {},
   "outputs": [],
   "source": [
    "for i in range(len(adjacency)):\n",
    "    try:\n",
    "        adjacency[i,:] /= counts[i]\n",
    "    except:\n",
    "        pass\n",
    "    try:\n",
    "        adjacency[:,i] /= counts[i]\n",
    "    except:\n",
    "        pass"
   ]
  },
  {
   "cell_type": "code",
   "execution_count": 13,
   "metadata": {},
   "outputs": [
    {
     "ename": "NameError",
     "evalue": "name 'nx' is not defined",
     "output_type": "error",
     "traceback": [
      "\u001b[0;31m---------------------------------------------------------------------------\u001b[0m",
      "\u001b[0;31mNameError\u001b[0m                                 Traceback (most recent call last)",
      "\u001b[0;32m<ipython-input-13-1823a012aa23>\u001b[0m in \u001b[0;36m<module>\u001b[0;34m\u001b[0m\n\u001b[0;32m----> 1\u001b[0;31m \u001b[0mgraph\u001b[0m \u001b[0;34m=\u001b[0m \u001b[0mnx\u001b[0m\u001b[0;34m.\u001b[0m\u001b[0mfrom_numpy_matrix\u001b[0m\u001b[0;34m(\u001b[0m\u001b[0madjacency\u001b[0m\u001b[0;34m)\u001b[0m\u001b[0;34m\u001b[0m\u001b[0;34m\u001b[0m\u001b[0m\n\u001b[0m",
      "\u001b[0;31mNameError\u001b[0m: name 'nx' is not defined"
     ]
    }
   ],
   "source": [
    "graph = nx.from_numpy_matrix(adjacency)"
   ]
  },
  {
   "cell_type": "code",
   "execution_count": 14,
   "metadata": {},
   "outputs": [
    {
     "ename": "NameError",
     "evalue": "name 'nx' is not defined",
     "output_type": "error",
     "traceback": [
      "\u001b[0;31m---------------------------------------------------------------------------\u001b[0m",
      "\u001b[0;31mNameError\u001b[0m                                 Traceback (most recent call last)",
      "\u001b[0;32m<ipython-input-14-25dacc986813>\u001b[0m in \u001b[0;36m<module>\u001b[0;34m\u001b[0m\n\u001b[1;32m      1\u001b[0m \u001b[0;31m# Eigenvector centrality\u001b[0m\u001b[0;34m\u001b[0m\u001b[0;34m\u001b[0m\u001b[0;34m\u001b[0m\u001b[0m\n\u001b[0;32m----> 2\u001b[0;31m \u001b[0meigenvector\u001b[0m \u001b[0;34m=\u001b[0m \u001b[0mnx\u001b[0m\u001b[0;34m.\u001b[0m\u001b[0meigenvector_centrality\u001b[0m\u001b[0;34m(\u001b[0m\u001b[0mgraph\u001b[0m\u001b[0;34m)\u001b[0m\u001b[0;34m\u001b[0m\u001b[0;34m\u001b[0m\u001b[0m\n\u001b[0m\u001b[1;32m      3\u001b[0m \u001b[0me2\u001b[0m \u001b[0;34m=\u001b[0m \u001b[0;34m[\u001b[0m\u001b[0;34m]\u001b[0m\u001b[0;34m\u001b[0m\u001b[0;34m\u001b[0m\u001b[0m\n\u001b[1;32m      4\u001b[0m \u001b[0;32mfor\u001b[0m \u001b[0mi\u001b[0m \u001b[0;32min\u001b[0m \u001b[0meigenvector\u001b[0m\u001b[0;34m:\u001b[0m\u001b[0;34m\u001b[0m\u001b[0;34m\u001b[0m\u001b[0m\n\u001b[1;32m      5\u001b[0m     \u001b[0me2\u001b[0m\u001b[0;34m.\u001b[0m\u001b[0mappend\u001b[0m\u001b[0;34m(\u001b[0m\u001b[0;34m(\u001b[0m\u001b[0mi\u001b[0m\u001b[0;34m,\u001b[0m \u001b[0meigenvector\u001b[0m\u001b[0;34m[\u001b[0m\u001b[0mi\u001b[0m\u001b[0;34m]\u001b[0m\u001b[0;34m)\u001b[0m\u001b[0;34m)\u001b[0m\u001b[0;34m\u001b[0m\u001b[0;34m\u001b[0m\u001b[0m\n",
      "\u001b[0;31mNameError\u001b[0m: name 'nx' is not defined"
     ]
    }
   ],
   "source": [
    "# Eigenvector centrality\n",
    "eigenvector = nx.eigenvector_centrality(graph)\n",
    "e2 = []\n",
    "for i in eigenvector:\n",
    "    e2.append((i, eigenvector[i]))\n",
    "e2.sort(key = lambda x: x[1], reverse = True)\n",
    "for i in range(5):\n",
    "    print(nums_to_meds[e2[i][0]])"
   ]
  },
  {
   "cell_type": "code",
   "execution_count": null,
   "metadata": {},
   "outputs": [
    {
     "name": "stdout",
     "output_type": "stream",
     "text": [
      "thread from 0 to 508 starting\n",
      "thread from 508 to 1016 starting\n",
      "thread from 1016 to 1524 starting\n",
      "thread from 1524 to 2032 starting\n",
      "thread from 2032 to 2540 starting\n",
      "thread from 2540 to 3048 starting\n",
      "thread from 3048 to 3556 starting\n",
      "thread from 3556 to 4064 starting\n",
      "thread from 4064 to 4572 starting\n",
      "thread from 4572 to 5080 starting\n",
      "thread from 5080 to 5588 starting\n",
      "thread from 5588 to 6096 starting\n",
      "thread from 6096 to 6604 starting\n",
      "thread from 6604 to 7112 starting\n",
      "thread from 7112 to 7620 starting\n",
      "thread from 7620 to 8128 starting\n",
      "thread from 8128 to 8636 starting\n",
      "thread from 8636 to 9144 starting\n",
      "thread from 9144 to 9652 starting\n",
      "thread from 9652 to 10160 starting\n",
      "thread from 10160 to 10668 starting\n",
      "thread from 10668 to 11176 starting\n",
      "thread from 11176 to 11684 starting\n",
      "thread from 11684 to 12192 starting\n",
      "thread from 12192 to 12700 starting\n",
      "thread from 12700 to 13208 starting\n",
      "thread from 13208 to 13716 starting\n",
      "thread from 13716 to 14224 starting\n",
      "thread from 14224 to 14732 starting\n",
      "thread from 14732 to 15240 starting\n",
      "thread from 15240 to 15748 starting\n",
      "thread from 15748 to 16256 starting\n",
      "thread from 16256 to 16764 starting\n",
      "thread from 16764 to 17272 starting\n",
      "thread from 17272 to 17780 starting\n",
      "thread from 17780 to 18288 starting\n",
      "thread from 18288 to 18796 starting\n",
      "thread from 18796 to 19304 starting\n",
      "thread from 19304 to 19812 starting\n",
      "thread from 19812 to 20320 starting\n",
      "thread from 20320 to 20828 starting\n",
      "thread from 20828 to 21336 starting\n",
      "thread from 21336 to 21844 starting\n",
      "thread from 21844 to 22352 starting\n",
      "thread from 22352 to 22860 starting\n",
      "thread from 22860 to 23368 starting\n",
      "thread from 23368 to 23876 starting\n",
      "thread from 23876 to 24384 starting\n",
      "thread from 24384 to 24892 starting\n",
      "thread from 24892 to 25400 starting\n",
      "thread from 25400 to 25908 starting\n",
      "thread from 25908 to 26416 starting\n",
      "thread from 26416 to 26924 starting\n",
      "thread from 26924 to 27432 starting\n",
      "thread from 27432 to 27940 starting\n",
      "thread from 27940 to 28448 starting\n",
      "thread from 28448 to 28956 starting\n",
      "thread from 28956 to 29464 starting\n",
      "thread from 29464 to 29972 starting\n",
      "thread from 29972 to 30480 starting\n",
      "thread from 30480 to 30988 starting\n",
      "thread from 30988 to 31496 starting\n",
      "thread from 31496 to 32004 starting\n",
      "thread from 32004 to 32512 starting\n",
      "thread from 32512 to 33020 starting\n",
      "thread from 33020 to 33528 starting\n",
      "thread from 33528 to 34036 starting\n",
      "thread from 34036 to 34544 starting\n",
      "thread from 34544 to 35052 starting\n",
      "thread from 35052 to 35560 starting\n",
      "thread from 35560 to 36068 starting\n",
      "thread from 36068 to 36576 starting\n",
      "thread from 36576 to 37084 starting\n",
      "thread from 37084 to 37592 starting\n",
      "thread from 37592 to 38100 starting\n",
      "thread from 38100 to 38608 starting\n",
      "thread from 38608 to 39116 starting\n",
      "thread from 39116 to 39624 starting\n",
      "thread from 39624 to 40132 starting\n",
      "thread from 40132 to 40640 starting\n",
      "thread from 40640 to 41148 starting\n",
      "thread from 41148 to 41656 starting\n",
      "thread from 41656 to 42164 starting\n",
      "thread from 42164 to 42672 starting\n",
      "thread from 42672 to 43180 starting\n",
      "thread from 43180 to 43688 starting\n",
      "thread from 43688 to 44196 starting\n",
      "thread from 44196 to 44704 starting\n",
      "thread from 44704 to 45212 starting\n",
      "thread from 45212 to 45720 starting\n",
      "thread from 45720 to 46228 startingthread from 46228 to 46736 starting\n",
      "\n",
      "thread from 46736 to 47244 starting\n",
      "thread from 47244 to 47752 starting\n",
      "thread from 47752 to 48260 startingthread from 48260 to 48768 starting\n",
      "thread from 48768 to 49276 starting\n",
      "\n",
      "thread from 49276 to 49784 starting\n",
      "thread from 49784 to 50292 starting\n",
      "thread from 50292 to 50800 starting\n",
      "thread from 50800 to 51308 starting\n",
      "thread from 51308 to 51816 starting\n",
      "thread from 51816 to 52324 starting\n",
      "thread from 52324 to 52832 starting\n",
      "thread from 52832 to 53340 starting\n",
      "thread from 53340 to 53848 starting\n",
      "thread from 53848 to 54356 starting\n",
      "thread from 54356 to 54864 starting\n",
      "thread from 54864 to 55372 starting\n",
      "thread from 55372 to 55880 starting\n",
      "thread from 55880 to 56388 starting\n",
      "thread from 56388 to 56896 starting\n",
      "thread from 56896 to 57404 starting\n",
      "thread from 57404 to 57912 starting\n",
      "thread from 57912 to 58420 starting\n",
      "thread from 58420 to 58928 starting\n",
      "thread from 58928 to 59436 starting\n",
      "thread from 59436 to 59944 starting\n",
      "thread from 59944 to 60452 starting\n",
      "thread from 60452 to 60960 starting\n",
      "thread from 60960 to 61468 starting\n",
      "thread from 61468 to 61976 starting\n",
      "thread from 61976 to 62484 starting\n",
      "thread from 62484 to 62992 startingthread from 62992 to 63500 starting\n",
      "\n",
      "thread from 63500 to 64008 starting\n",
      "thread from 64008 to 64516 starting\n",
      "thread from 64516 to 65024 starting\n",
      "thread from 65024 to 65532 starting\n",
      "thread from 65532 to 66040 startingthread from 66040 to 66548 starting\n",
      "\n",
      "thread from 66548 to 67056 starting\n",
      "thread from 67056 to 67564 starting\n",
      "thread from 67564 to 68072 starting\n",
      "thread from 68072 to 68580 starting\n"
     ]
    }
   ],
   "source": [
    "def thread_func(start, end, adjacency):\n",
    "    print('thread from ' + str(start) + ' to ' + str(end) + ' starting')\n",
    "    for ind in range(start, end):\n",
    "        for ind2 in range(ind + 1, len(data)):\n",
    "            i = data[ind]\n",
    "            j = data[ind2]\n",
    "            if (i[11] != '?') and (j[11] != '?') and (i[11] != j[11]):\n",
    "                a = meds_to_nums[i[11]]\n",
    "                b = meds_to_nums[j[11]]\n",
    "                if i[2] == j[2]:\n",
    "                    adjacency[a, b] += 1\n",
    "                    adjacency[b, a] += 1\n",
    "                if i[3] == j[3]:\n",
    "                    adjacency[a, b] += 1\n",
    "                    adjacency[b, a] += 1\n",
    "    print('thread from ' + str(start) + ' to ' + str(end) + ' finishing')\n",
    "num_threads = 200\n",
    "arrays = [np.zeros((num_meds, num_meds)) for i in range(num_threads)]\n",
    "start = 0\n",
    "end = int(len(data) / num_threads)\n",
    "for i in range(num_threads):\n",
    "    if i == (num_threads - 1):\n",
    "        end = len(data)\n",
    "    x = threading.Thread(target=thread_func, args=(start, end, arrays[i]))\n",
    "    x.start()\n",
    "    start = end\n",
    "    end = start + int(len(data) / num_threads)"
   ]
  },
  {
   "cell_type": "code",
   "execution_count": null,
   "metadata": {},
   "outputs": [],
   "source": []
  }
 ],
 "metadata": {
  "kernelspec": {
   "display_name": "Python 3",
   "language": "python",
   "name": "python3"
  },
  "language_info": {
   "codemirror_mode": {
    "name": "ipython",
    "version": 3
   },
   "file_extension": ".py",
   "mimetype": "text/x-python",
   "name": "python",
   "nbconvert_exporter": "python",
   "pygments_lexer": "ipython3",
   "version": "3.7.4"
  }
 },
 "nbformat": 4,
 "nbformat_minor": 2
}
